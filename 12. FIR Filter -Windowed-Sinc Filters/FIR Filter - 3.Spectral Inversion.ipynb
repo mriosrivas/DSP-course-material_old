{
 "cells": [
  {
   "cell_type": "markdown",
   "metadata": {},
   "source": [
    "# High Pass Filter Using the Spectral Inversion Technique\n",
    "\n",
    "We can also create a high pass filter by using as reference a low pass filter and another technique called **Spectral Inversion**. For this notebook we will use the *Windowed-Sinc Filters* Notebook results, which are pickled in an serialized object called `save_data.pickle`."
   ]
  },
  {
   "cell_type": "code",
   "execution_count": null,
   "metadata": {},
   "outputs": [],
   "source": [
    "import sys\n",
    "sys.path.insert(0, '../')"
   ]
  },
  {
   "cell_type": "code",
   "execution_count": null,
   "metadata": {},
   "outputs": [],
   "source": [
    "from Common import common_plots\n",
    "from Common import fourier_transform\n",
    "\n",
    "cplots = common_plots.Plot()"
   ]
  },
  {
   "cell_type": "code",
   "execution_count": null,
   "metadata": {},
   "outputs": [],
   "source": [
    "import pickle\n",
    "import numpy as np\n",
    "import matplotlib.pyplot as plt"
   ]
  },
  {
   "cell_type": "code",
   "execution_count": null,
   "metadata": {},
   "outputs": [],
   "source": [
    "def get_fourier(x):\n",
    "    \"\"\"\n",
    "    Function that performs the Fourier calculation of a signal x and returns its magnitude and frequency range.\n",
    "    \n",
    "    Parameters:\n",
    "    x (numpy array): Signal to be transformed into Fourier domain.\n",
    "    \n",
    "    Returns:\n",
    "    mag (numpy array): Magnitude of the signal's Fourier transform.\n",
    "    freq (numpy array): Frequency domain of the signal's Fourier transform.\n",
    "    \"\"\"\n",
    "    signal = x.reshape(-1,1)\n",
    "    fourier = fourier_transform.FourierTransform(signal)\n",
    "    mag = fourier.dft_magnitude()\n",
    "    freq = fourier.frequency_domain()\n",
    "    return mag, freq"
   ]
  },
  {
   "cell_type": "markdown",
   "metadata": {},
   "source": [
    "We load the low pass data from the *Windowed-Sinc Filters* Notebook"
   ]
  },
  {
   "cell_type": "code",
   "execution_count": null,
   "metadata": {},
   "outputs": [],
   "source": [
    "with open('save_data.pickle', 'rb') as f:\n",
    "    data = pickle.load(f)\n",
    "    \n",
    "ecg = np.array(data['ecg'])\n",
    "low_pass = np.array(data['low_pass'])\n",
    "low_pass = low_pass/np.sum(low_pass)\n",
    "fft_low_pass = np.array(data['fft_low_pass'])"
   ]
  },
  {
   "cell_type": "markdown",
   "metadata": {},
   "source": [
    "To generate the high pass filter, we use the Sprectral Inversion methond, which consist of multiplying the low pass filter response $h_{lp}[n]$ with $-1$ and then add $1$ to the center value. Therefore the high pass filter response is given by:\n",
    "$$h_{hp}[n] = \\delta[n] -h_{lp}[n]$$"
   ]
  },
  {
   "cell_type": "code",
   "execution_count": null,
   "metadata": {},
   "outputs": [],
   "source": [
    "high_pass = #Write code here\n",
    "center = #Write code here\n",
    "high_pass[center] = #Write code here\n",
    "\n",
    "dft_low_pass_magnitude, dft_low_pass_freq = get_fourier(low_pass)\n",
    "dft_high_pass_magnitude, dft_high_pass_freq = get_fourier(high_pass)"
   ]
  },
  {
   "cell_type": "code",
   "execution_count": null,
   "metadata": {},
   "outputs": [],
   "source": [
    "plt.rcParams[\"figure.figsize\"] = (15,10)\n",
    "\n",
    "plt.subplot(3,2,1)\n",
    "plt.stem(low_pass, markerfmt='.', use_line_collection=True)\n",
    "plt.title('Low Pass Filter')\n",
    "plt.grid('on')\n",
    "plt.xlabel('Samples')\n",
    "plt.ylabel('Amplitude')\n",
    "\n",
    "plt.subplot(3,2,2)\n",
    "plt.stem(high_pass, markerfmt='.', use_line_collection=True)\n",
    "plt.title('High Pass Filter')\n",
    "plt.grid('on')\n",
    "plt.xlabel('Samples')\n",
    "plt.ylabel('Amplitude')\n",
    "\n",
    "plt.subplot(3,2,3)\n",
    "cplots.plot_frequency_response(dft_low_pass_magnitude, \n",
    "                               dft_low_pass_freq, \n",
    "                               title='Low Pass Filter Response')\n",
    "\n",
    "plt.subplot(3,2,4)\n",
    "cplots.plot_frequency_response(dft_high_pass_magnitude, \n",
    "                               dft_high_pass_freq, \n",
    "                               title='High Pass Filter Response');\n",
    "\n",
    "\n",
    "plt.subplot(3,2,5)\n",
    "plt.plot(dft_low_pass_freq, dft_low_pass_magnitude)\n",
    "plt.title('Low Pass Filter Response')\n",
    "plt.grid('on')\n",
    "plt.xlabel('Normalized frequency')\n",
    "plt.ylabel('Amplitude')\n",
    "\n",
    "plt.subplot(3,2,6)\n",
    "plt.plot(dft_high_pass_freq, dft_high_pass_magnitude)\n",
    "plt.title('High Pass Filter Response')\n",
    "plt.grid('on')\n",
    "plt.xlabel('Normalized frequency')\n",
    "plt.ylabel('Amplitude')\n",
    "\n",
    "\n",
    "plt.subplots_adjust(hspace=0.5)"
   ]
  },
  {
   "cell_type": "markdown",
   "metadata": {},
   "source": [
    "**This frequency response is a “upside down” version of the frequency response of the low-pass filter.**"
   ]
  },
  {
   "cell_type": "code",
   "execution_count": null,
   "metadata": {},
   "outputs": [],
   "source": [
    "low_pass_ecg = #Write code here\n",
    "high_pass_ecg = #Write code here\n",
    "\n",
    "\n",
    "plt.rcParams[\"figure.figsize\"] = (15,10)\n",
    "\n",
    "plt.subplot(2,2,1)\n",
    "plt.plot(low_pass_ecg)\n",
    "plt.title('Low Pass ECG')\n",
    "plt.grid('on')\n",
    "plt.xlabel('Samples')\n",
    "plt.ylabel('Amplitude')\n",
    "\n",
    "plt.subplot(2,2,2)\n",
    "plt.plot(high_pass_ecg)\n",
    "plt.title('High Pass ECG')\n",
    "plt.grid('on')\n",
    "plt.xlabel('Samples')\n",
    "plt.ylabel('Amplitude')\n",
    "\n",
    "plt.subplot(2,1,2)\n",
    "plt.plot(ecg)\n",
    "plt.title('ECG Signal')\n",
    "plt.grid('on')\n",
    "plt.xlabel('Samples')\n",
    "plt.ylabel('Amplitude');\n"
   ]
  },
  {
   "cell_type": "markdown",
   "metadata": {},
   "source": [
    "## Why Does Spectral Inversion Work?\n",
    "\n",
    "Spectral inversion is based on the following idea. A low-pass filter generates a signal with the high frequencies removed. Hence, if you subtract this signal from the original one, you have exactly the high frequencies. This means that you can implement a high-pass filter in two steps. First, you compute\n",
    "\n",
    "$$x_\\mathrm{lpf}[n]=x[n]*h_\\mathrm{lpf}[n]$$\n",
    "\n",
    "where $x[n]$ is the original signal, $h_{lpf}[n]$ is the low-pass filter, and $x_{lpf}[n]$ is the low-pass-filtered signal. The asterisk represents convolution. Second, you compute\n",
    "\n",
    "$$x_\\mathrm{hpf}[n]=x[n]-x_\\mathrm{lpf}[n]$$\n",
    "\n",
    "where $x_{hpf}[n]$ is the high-pass-filtered signal.\n",
    "\n",
    "The alternative is to adapt the filter through spectral inversion. To show that spectral inversion has exactly the same result, first note that $x[n]=x[n]*\\delta[n]$, where $\\delta[n]$ is a simple impulse, as defined in Impulse Response. You can then write\n",
    "\n",
    "$$x_\\mathrm{hpf}[n]=x[n]-x_\\mathrm{lpf}[n]=x[n]*\\delta[n]-x[n]*h_\\mathrm{lpf}[n]=x[n]*(\\delta[n]-h_\\mathrm{lpf}[n])$$\n",
    "\n",
    "where the last step follows from the distributive property of convolution. This means that the required high-pass filter is\n",
    "\n",
    "$$h_\\mathrm{hpf}[n]=\\delta[n]-h_\\mathrm{lpf}[n]$$\n",
    "\n",
    "which is exactly the procedure that I’ve described before."
   ]
  },
  {
   "cell_type": "markdown",
   "metadata": {},
   "source": [
    "#### Reference:\n",
    "[1] https://tomroelandts.com/articles/how-to-create-a-simple-high-pass-filter"
   ]
  },
  {
   "cell_type": "code",
   "execution_count": null,
   "metadata": {},
   "outputs": [],
   "source": []
  }
 ],
 "metadata": {
  "kernelspec": {
   "display_name": "Python 3",
   "language": "python",
   "name": "python3"
  },
  "language_info": {
   "codemirror_mode": {
    "name": "ipython",
    "version": 3
   },
   "file_extension": ".py",
   "mimetype": "text/x-python",
   "name": "python",
   "nbconvert_exporter": "python",
   "pygments_lexer": "ipython3",
   "version": "3.8.3"
  }
 },
 "nbformat": 4,
 "nbformat_minor": 2
}
