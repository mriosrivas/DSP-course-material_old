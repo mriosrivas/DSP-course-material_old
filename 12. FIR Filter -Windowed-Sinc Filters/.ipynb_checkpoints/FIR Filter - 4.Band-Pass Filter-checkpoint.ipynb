{
 "cells": [
  {
   "cell_type": "markdown",
   "metadata": {},
   "source": [
    "# Band-Pass Filters\n",
    "A Band-Pass filter is just a combination of different filters. To generate a band pass filter we can do as follows:\n",
    "1. Design two low-pass filters with frequecies $f_a$ and $f_b$. Where $f_a < f_b$.\n",
    "2. Spectrally invert the low-pass filter with frequency $f_b$.\n",
    "3. Add both fileter kernels.\n",
    "4. Spectrally invert the filter generated in the previous step."
   ]
  },
  {
   "cell_type": "code",
   "execution_count": null,
   "metadata": {},
   "outputs": [],
   "source": [
    "import sys\n",
    "sys.path.insert(0, '../')"
   ]
  },
  {
   "cell_type": "code",
   "execution_count": null,
   "metadata": {},
   "outputs": [],
   "source": [
    "from Common import common_plots\n",
    "from Common import fourier_transform\n",
    "\n",
    "cplots = common_plots.Plot()"
   ]
  },
  {
   "cell_type": "code",
   "execution_count": null,
   "metadata": {},
   "outputs": [],
   "source": [
    "import numpy as np\n",
    "import matplotlib.pyplot as plt\n",
    "\n",
    "\n",
    "def get_fourier(x):\n",
    "    \"\"\"\n",
    "    Function that performs the Fourier calculation of a signal x and returns its magnitude and frequency range.\n",
    "    \n",
    "    Parameters:\n",
    "    x (numpy array): Signal to be transformed into Fourier domain.\n",
    "    \n",
    "    Returns:\n",
    "    mag (numpy array): Magnitude of the signal's Fourier transform.\n",
    "    freq (numpy array): Frequency domain of the signal's Fourier transform.\n",
    "    \"\"\"\n",
    "    signal = x.reshape(-1,1)\n",
    "    fourier = fourier_transform.FourierTransform(signal)\n",
    "    mag = fourier.dft_magnitude()\n",
    "    freq = fourier.frequency_domain()\n",
    "    return mag, freq\n",
    "\n",
    "\n",
    "def shifted_sinc_function(i,fc, M):\n",
    "    \"\"\" \n",
    "    Function that calculates a sinc shifted time response.\n",
    "  \n",
    "    Parameters: \n",
    "    i (numpy array): Array of numbers representing the samples being used to construct the sinc response.\n",
    "    fc (float): Cut-off frequency for the low-pass filter. Between 0 and 0.5.\n",
    "    M (int): Length of the filter kernel. Usually M = 4/BW, where BW is the filter bandwidth of the transition band.\n",
    "  \n",
    "    Returns: \n",
    "    numpy array: Returns sinc shifted time domain response.\n",
    "    \"\"\"\n",
    "    limit = np.where(i == M/2)[0][0]\n",
    "    h = np.zeros(len(i))\n",
    "    h[:limit] = (np.sin(2*np.pi*(i[:limit]-M/2)*fc))/((i[:limit]-M/2)*np.pi)\n",
    "    h[limit+1:] = (np.sin(2*np.pi*(i[limit+1:]-M/2)*fc))/((i[limit+1:]-M/2)*np.pi)\n",
    "    h[limit] = 2*fc\n",
    "    return h\n",
    "\n",
    "\n",
    "def blackman_window(i, M):\n",
    "    \"\"\" \n",
    "    Function that calculates a Blackman window of a given M-kernel.\n",
    "  \n",
    "    Parameters: \n",
    "    i (numpy array): Array of numbers representing the samples being used to construct the Blackman window.\n",
    "    M (int): Length of the filter kernel. Usually M = 4/BW, where BW is the filter bandwidth of the transition band.\n",
    "  \n",
    "    Returns: \n",
    "    numpy array: Returns Blackman window of a given M-kernel.\n",
    "    \"\"\"\n",
    "    \n",
    "    return 0.42 - 0.5*np.cos(2*np.pi*i/M) + 0.08*np.cos(4*np.pi*i/M)\n",
    "\n",
    "\n",
    "def spectral_inversion(x):\n",
    "    \"\"\" \n",
    "    Function that calculates the Spectral Inversion of a filter x.\n",
    "  \n",
    "    Parameters: \n",
    "    x (numpy array): Array of numbers representing the coeficients of a FIR filter.\n",
    "  \n",
    "    Returns: \n",
    "    numpy array: Returns the filter coeficients of a Spectral Inverted filter.\n",
    "    \"\"\"\n",
    "    x_invert = -x\n",
    "    center = int(len(x)/2)\n",
    "    x_invert[center] = x_invert[center]+1\n",
    "    return x_invert\n"
   ]
  },
  {
   "cell_type": "markdown",
   "metadata": {},
   "source": [
    "### Step 1\n",
    "We set the parameters for both low pass filters."
   ]
  },
  {
   "cell_type": "code",
   "execution_count": null,
   "metadata": {},
   "outputs": [],
   "source": [
    "fc_1 = #Write code here\n",
    "fc_2 = #Write code here\n",
    "BW = #Write code here\n",
    "M = #Write code here\n",
    "i = np.arange(0,M,1)\n",
    "\n",
    "print(\"Filter lenght is {}\".format(M))"
   ]
  },
  {
   "cell_type": "code",
   "execution_count": null,
   "metadata": {},
   "outputs": [],
   "source": [
    "filter_lp_fc_1 = #Write code here\n",
    "normalized_shifted_sinc_1 = filter_lp_fc_1/filter_lp_fc_1.sum()\n",
    "\n",
    "filter_lp_fc_2 = #Write code here\n",
    "normalized_shifted_sinc_2 = filter_lp_fc_2/filter_lp_fc_2.sum()"
   ]
  },
  {
   "cell_type": "code",
   "execution_count": null,
   "metadata": {},
   "outputs": [],
   "source": [
    "normalized_fft_shifted_sinc_1, normalized_fft_shifted_sinc_1_freq = get_fourier(normalized_shifted_sinc_1)\n",
    "normalized_fft_shifted_sinc_2, normalized_fft_shifted_sinc_2_freq = get_fourier(normalized_shifted_sinc_2)"
   ]
  },
  {
   "cell_type": "code",
   "execution_count": null,
   "metadata": {},
   "outputs": [],
   "source": [
    "plt.rcParams[\"figure.figsize\"] = (15,10)\n",
    "\n",
    "plt.subplot(2,2,1)\n",
    "plt.stem(normalized_shifted_sinc_1, markerfmt='.', use_line_collection=True)\n",
    "plt.title('Sinc - Blackman Window with fc = {}'.format(fc_1))\n",
    "plt.grid('on')\n",
    "plt.xlabel('Samples')\n",
    "plt.ylabel('Amplitude')\n",
    "\n",
    "plt.subplot(2,2,2)\n",
    "plt.stem(normalized_shifted_sinc_2, markerfmt='.', use_line_collection=True)\n",
    "plt.title('Sinc - Blackman Window with fc = {}'.format(fc_2))\n",
    "plt.grid('on')\n",
    "plt.xlabel('Samples')\n",
    "plt.ylabel('Amplitude')\n",
    "\n",
    "\n",
    "plt.subplot(2,2,3)\n",
    "plt.plot(normalized_fft_shifted_sinc_1_freq, normalized_fft_shifted_sinc_1)\n",
    "plt.title('Frequency response of Low-Pass Filter with fc = {}'.format(fc_1))\n",
    "plt.grid('on')\n",
    "plt.xlabel('Normalized frequency')\n",
    "plt.ylabel('Amplitude')\n",
    "\n",
    "plt.subplot(2,2,4)\n",
    "plt.plot(normalized_fft_shifted_sinc_2_freq, normalized_fft_shifted_sinc_2)\n",
    "plt.title('Frequency response of Low-Pass Filter with fc = {}'.format(fc_2))\n",
    "plt.grid('on')\n",
    "plt.xlabel('Normalized frequency')\n",
    "plt.ylabel('Amplitude')\n",
    "\n",
    "\n",
    "plt.subplots_adjust(hspace=0.5)"
   ]
  },
  {
   "cell_type": "markdown",
   "metadata": {},
   "source": [
    "### Step 2\n",
    "Spectrally invert the low pass filter with frequency $f_b$."
   ]
  },
  {
   "cell_type": "code",
   "execution_count": null,
   "metadata": {},
   "outputs": [],
   "source": [
    "low_pass = #Write code here\n",
    "high_pass = #Write code here\n",
    "\n",
    "fft_low_pass = #Write code here\n",
    "fft_high_pass, fft_high_pass_freq = #Write code here"
   ]
  },
  {
   "cell_type": "code",
   "execution_count": null,
   "metadata": {},
   "outputs": [],
   "source": [
    "plt.rcParams[\"figure.figsize\"] = (15,10)\n",
    "\n",
    "plt.subplot(2,2,1)\n",
    "plt.stem(low_pass, markerfmt='.', use_line_collection=True)\n",
    "plt.title('Low pass filter with fc = {}'.format(fc_1))\n",
    "plt.grid('on')\n",
    "plt.xlabel('Samples')\n",
    "plt.ylabel('Amplitude')\n",
    "\n",
    "plt.subplot(2,2,2)\n",
    "plt.stem(high_pass, markerfmt='.', use_line_collection=True)\n",
    "plt.title('High pass filter with fc = {}'.format(fc_2))\n",
    "plt.grid('on')\n",
    "plt.xlabel('Samples')\n",
    "plt.ylabel('Amplitude')\n",
    "\n",
    "\n",
    "plt.subplot(2,2,3)\n",
    "plt.plot(normalized_fft_shifted_sinc_1_freq, fft_low_pass)\n",
    "plt.title('Frequency response of Low-Pass Filter with fc = {}'.format(fc_1))\n",
    "plt.grid('on')\n",
    "plt.xlabel('Normalized frequency')\n",
    "plt.ylabel('Amplitude')\n",
    "\n",
    "plt.subplot(2,2,4)\n",
    "plt.plot(fft_high_pass_freq[:-1], fft_high_pass[:-1])\n",
    "plt.title('Frequency response of High-Pass Filter with fc = {}'.format(fc_2))\n",
    "plt.grid('on')\n",
    "plt.xlabel('Normalized frequency')\n",
    "plt.ylabel('Amplitude')\n",
    "\n",
    "\n",
    "plt.subplots_adjust(hspace=0.5)"
   ]
  },
  {
   "cell_type": "markdown",
   "metadata": {},
   "source": [
    "### Step 3\n",
    "Add both filter kernels."
   ]
  },
  {
   "cell_type": "code",
   "execution_count": null,
   "metadata": {},
   "outputs": [],
   "source": [
    "reject_band = #Write code here\n",
    "fft_reject_band, fft_reject_band_freq = #Write code here"
   ]
  },
  {
   "cell_type": "markdown",
   "metadata": {},
   "source": [
    "### Step 4\n",
    "Spectral invert the previously generated filter."
   ]
  },
  {
   "cell_type": "code",
   "execution_count": null,
   "metadata": {},
   "outputs": [],
   "source": [
    "band_pass = #Write code here\n",
    "fft_band_pass, fft_band_pass_freq = #Write code here\n",
    "\n",
    "\n",
    "plt.rcParams[\"figure.figsize\"] = (15,10)\n",
    "\n",
    "plt.subplot(2,2,1)\n",
    "plt.stem(reject_band, markerfmt='.', use_line_collection=True)\n",
    "plt.title('Step Response of Reject Band Filter')\n",
    "plt.grid('on')\n",
    "plt.xlabel('Samples')\n",
    "plt.ylabel('Amplitude')\n",
    "\n",
    "plt.subplot(2,2,2)\n",
    "plt.stem(band_pass, markerfmt='.', use_line_collection=True)\n",
    "plt.title('Step Response of Band Pass Filter')\n",
    "plt.grid('on')\n",
    "plt.xlabel('Samples')\n",
    "plt.ylabel('Amplitude')\n",
    "\n",
    "\n",
    "plt.subplot(2,2,3)\n",
    "plt.plot(fft_reject_band_freq[:-1], fft_reject_band[:-1])\n",
    "plt.title('Frequency response of of Reject Band Filter')\n",
    "plt.grid('on')\n",
    "plt.xlabel('Normalized frequency')\n",
    "plt.ylabel('Amplitude')\n",
    "\n",
    "plt.subplot(2,2,4)\n",
    "plt.plot(fft_band_pass_freq, fft_band_pass)\n",
    "plt.title('Frequency response of Band Pass Filter')\n",
    "plt.grid('on')\n",
    "plt.xlabel('Normalized frequency')\n",
    "plt.ylabel('Amplitude')\n",
    "\n",
    "\n",
    "plt.subplots_adjust(hspace=0.5)"
   ]
  },
  {
   "cell_type": "code",
   "execution_count": null,
   "metadata": {},
   "outputs": [],
   "source": []
  }
 ],
 "metadata": {
  "kernelspec": {
   "display_name": "Python 3",
   "language": "python",
   "name": "python3"
  },
  "language_info": {
   "codemirror_mode": {
    "name": "ipython",
    "version": 3
   },
   "file_extension": ".py",
   "mimetype": "text/x-python",
   "name": "python",
   "nbconvert_exporter": "python",
   "pygments_lexer": "ipython3",
   "version": "3.8.3"
  }
 },
 "nbformat": 4,
 "nbformat_minor": 2
}
