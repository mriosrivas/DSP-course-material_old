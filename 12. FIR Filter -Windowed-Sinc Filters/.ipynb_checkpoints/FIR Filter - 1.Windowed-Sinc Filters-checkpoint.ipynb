{
 "cells": [
  {
   "cell_type": "markdown",
   "metadata": {},
   "source": [
    "# Windowed-Sinc Filters\n",
    "\n",
    "Windowed-sinc filters are used to separate one band of frequencies from another. They are very stable, produce few surprises, and can be pushed to incredible performance levels. These exceptional frequency domain characteristics are obtained at the expense of poor performance in the time domain, including excessive ripple and overshoot in the step response. When carried out by standard convolution, windowed-sinc filters are easy to program, but slow to execute.\n",
    "\n",
    "The starting point for the windowed sinc filters is the window function, in this case a mathematical expression for the window function looks like this:"
   ]
  },
  {
   "cell_type": "markdown",
   "metadata": {},
   "source": [
    "$$ h[k]=\\frac{\\sin{(2\\pi f_{c}\\cdot x[k])}}{\\pi \\cdot x[k]}$$\n",
    "\n",
    "We will later see that a shifted version of the window function has a better frequency response, and that is why we prefer this kind of function over the traditional window function\n",
    "\n",
    "$$ h[k]=\\frac{\\sin{(2\\pi f_{c} \\cdot (x[k]-M/2))}}{\\pi \\cdot(x[k]-M/2)}$$\n",
    "\n",
    "Where $M$ is the filter length and we use an heuristic relationship with the transition bandwidth $BW$ to calculate it\n",
    "\n",
    "$$M = \\frac{4}{BW}$$\n",
    "\n",
    "The **cutoff frequency** of the windowed-sinc filter is measured at the **one-half amplitude point**. Why use 0.5 instead of the standard 0.707 (-3dB) used in analog electronics and other digital filters? This is because the windowed-sinc's frequency response is symmetrical between the passband and the stopband. For instance, the **Hamming window** results in a passband ripple of 0.2%, and an identical stopband attenuation (i.e., ripple in the stopband) of 0.2%. Other filters do not show this symmetry, and therefore have no advantage in using the one-half amplitude point to mark the cutoff frequency. This symmetry makes the windowed-sinc ideal for **spectral inversion**.\n",
    "\n",
    "<img src=\"Images/filter.png\" alt=\"Filter Frequency Response\" width=\"500\"/>"
   ]
  },
  {
   "cell_type": "code",
   "execution_count": null,
   "metadata": {},
   "outputs": [],
   "source": [
    "import sys\n",
    "sys.path.insert(0, '../')"
   ]
  },
  {
   "cell_type": "code",
   "execution_count": null,
   "metadata": {},
   "outputs": [],
   "source": [
    "from Common import common_plots\n",
    "from Common import fourier_transform\n",
    "\n",
    "cplots = common_plots.Plot()"
   ]
  },
  {
   "cell_type": "code",
   "execution_count": null,
   "metadata": {},
   "outputs": [],
   "source": [
    "import numpy as np\n",
    "import matplotlib.pyplot as plt\n",
    "\n",
    "def get_fourier(x):\n",
    "    \"\"\"\n",
    "    Function that performs the Fourier calculation of a signal x and returns its magnitude and frequency range.\n",
    "    \n",
    "    Parameters:\n",
    "    x (numpy array): Signal to be transformed into Fourier domain.\n",
    "    \n",
    "    Returns:\n",
    "    mag (numpy array): Magnitude of the signal's Fourier transform.\n",
    "    freq (numpy array): Frequency domain of the signal's Fourier transform.\n",
    "    \"\"\"\n",
    "    signal = x.reshape(-1,1)\n",
    "    fourier = fourier_transform.FourierTransform(signal)\n",
    "    mag = fourier.dft_magnitude()\n",
    "    freq = fourier.frequency_domain()\n",
    "    return mag, freq\n",
    "\n",
    "def sinc_function(fc, BW):\n",
    "    \"\"\" \n",
    "    Function that calculates a sinc time response.\n",
    "  \n",
    "    Parameters: \n",
    "    BW (float): Transition bandwidth of the filter. The lenght of the filter is \n",
    "                given by M=4/BW.\n",
    "    fc (float): Cut-off frequency for the low-pass filter. Between 0 and 0.5.\n",
    "  \n",
    "    Returns: \n",
    "    numpy array: Returns sinc time domain response.\n",
    "    \"\"\"\n",
    "    \n",
    "    return None\n",
    "\n",
    "def shifted_sinc_function(fc, BW):\n",
    "    \"\"\" \n",
    "    Function that calculates a sinc shifted time response. The shifted sinc function has\n",
    "    a shift value of M=4/BW.\n",
    "  \n",
    "    Parameters: \n",
    "    BW (float): Transition bandwidth of the filter. The lenght of the filter is \n",
    "                given by M=4/BW.\n",
    "    fc (float): Cut-off frequency for the low-pass filter. Between 0 and 0.5.\n",
    "  \n",
    "    Returns: \n",
    "    numpy array: Returns sinc shifted time domain response.\n",
    "    \"\"\"\n",
    "    \n",
    "    return None"
   ]
  },
  {
   "cell_type": "markdown",
   "metadata": {},
   "source": [
    "## Implementing a Low Pass Filter\n",
    "\n",
    "To develop a low pass filter, two parameters must be selected:\n",
    "1. The cut-off frequency, $0\\leq f_c \\leq 0.5$\n",
    "2. The lenght of the filter kernel, $M=\\frac{4}{BW}$, where $BW$ is the transition bandwidth (say, 99% to 1% of the curve)."
   ]
  },
  {
   "cell_type": "code",
   "execution_count": null,
   "metadata": {},
   "outputs": [],
   "source": [
    "fc = #Write code here\n",
    "BW = #Write code here\n",
    "M = #Write code here\n",
    "print(\"Filter lenght is {}\".format(M))"
   ]
  },
  {
   "cell_type": "code",
   "execution_count": null,
   "metadata": {},
   "outputs": [],
   "source": [
    "sinc = sinc_function(fc, BW)\n",
    "shifted_sinc = shifted_sinc_function(fc, BW)"
   ]
  },
  {
   "cell_type": "code",
   "execution_count": null,
   "metadata": {},
   "outputs": [],
   "source": [
    "normalized_sinc = #Write code here\n",
    "normalized_shifted_sinc = #Write code here"
   ]
  },
  {
   "cell_type": "code",
   "execution_count": null,
   "metadata": {},
   "outputs": [],
   "source": [
    "fft_sinc_magnitude, fft_sinc_f = get_fourier(sinc)\n",
    "fft_shifted_sinc_magnitude, fft_shifted_sinc_f = get_fourier(shifted_sinc)"
   ]
  },
  {
   "cell_type": "code",
   "execution_count": null,
   "metadata": {},
   "outputs": [],
   "source": [
    "plt.rcParams[\"figure.figsize\"] = (15,10)\n",
    "\n",
    "plt.subplot(2,2,1)\n",
    "plt.plot(normalized_sinc)\n",
    "#plt.stem(normalized_sinc, markerfmt='.', use_line_collection=True)\n",
    "plt.title('Sinc Function')\n",
    "plt.grid('on')\n",
    "\n",
    "plt.subplot(2,2,2)\n",
    "plt.plot(normalized_shifted_sinc)\n",
    "#plt.stem(normalized_shifted_sinc, markerfmt='.', use_line_collection=True)\n",
    "plt.title('Shited {}-Sinc Function'.format(M))\n",
    "plt.grid('on')\n",
    "\n",
    "plt.subplot(2,2,3)\n",
    "cplots.plot_frequency_response(fft_sinc_magnitude, \n",
    "                               fft_sinc_f, \n",
    "                               title='Sinc Frequency Response')\n",
    "\n",
    "plt.subplot(2,2,4)\n",
    "cplots.plot_frequency_response(fft_shifted_sinc_magnitude, \n",
    "                               fft_shifted_sinc_f, \n",
    "                               title='Shited {}-Sinc Frequency Response'.format(M));"
   ]
  },
  {
   "cell_type": "markdown",
   "metadata": {},
   "source": [
    "### Hamming and Blackman Windows\n",
    "A window function is a mathematical function that is zero-valued outside of some chosen interval, normally symmetric around the middle of the interval, usually near a maximum in the middle, and usually tapering away from the middle. Mathematically, when another function or waveform/data-sequence is \"multiplied\" by a window function, the product is also zero-valued outside the interval: all that is left is the part where they overlap, the \"view through the window\"."
   ]
  },
  {
   "cell_type": "code",
   "execution_count": null,
   "metadata": {},
   "outputs": [],
   "source": [
    "def hamming_window(BW):\n",
    "    \"\"\" \n",
    "    Function that calculates a Hamming window of a given transition bandwidth.\n",
    "  \n",
    "    Parameters: \n",
    "    BW (float): Transition bandwidth of the filter. The lenght of the filter is \n",
    "                given by M=4/BW.\n",
    "                \n",
    "    Returns: \n",
    "    numpy array: Returns Hamming window of a given M-kernel.\n",
    "    \"\"\"\n",
    "    \n",
    "    \n",
    "    return None\n",
    "\n",
    "def blackman_window(BW):\n",
    "    \"\"\" \n",
    "    Function that calculates a Blackman window of a given M-kernel.\n",
    "  \n",
    "    Parameters: \n",
    "    BW (float): Transition bandwidth of the filter. The lenght of the filter is \n",
    "                given by M=4/BW.\n",
    "    Returns: \n",
    "    numpy array: Returns Blackman window of a given M-kernel.\n",
    "    \"\"\"\n",
    "    \n",
    "    \n",
    "    return None"
   ]
  },
  {
   "cell_type": "code",
   "execution_count": null,
   "metadata": {},
   "outputs": [],
   "source": [
    "hamming = hamming_window(BW)\n",
    "blackman = blackman_window(BW)"
   ]
  },
  {
   "cell_type": "code",
   "execution_count": null,
   "metadata": {},
   "outputs": [],
   "source": [
    "fft_hamming_magnitude, fft_hamming_f = get_fourier(hamming)\n",
    "fft_blackman_magnitude, fft_blackman_f = get_fourier(blackman)"
   ]
  },
  {
   "cell_type": "code",
   "execution_count": null,
   "metadata": {},
   "outputs": [],
   "source": [
    "plt.rcParams[\"figure.figsize\"] = (15,10)\n",
    "\n",
    "plt.subplot(2,2,1)\n",
    "plt.plot(hamming)\n",
    "#plt.stem(hamming, markerfmt='.', use_line_collection=True)\n",
    "plt.title('Hamming Window')\n",
    "plt.grid('on')\n",
    "\n",
    "plt.subplot(2,2,2)\n",
    "plt.plot(blackman)\n",
    "#plt.stem(blackman, markerfmt='.', use_line_collection=True)\n",
    "plt.title('Blackman Window')\n",
    "plt.grid('on')\n",
    "\n",
    "plt.subplot(2,2,3)\n",
    "cplots.plot_frequency_response(fft_hamming_magnitude, \n",
    "                               fft_hamming_f, \n",
    "                               title='Hamming Window Frequency Response')\n",
    "\n",
    "plt.subplot(2,2,4)\n",
    "cplots.plot_frequency_response(fft_blackman_magnitude, \n",
    "                               fft_blackman_f, \n",
    "                               title='Blackman Window Frequency Response');"
   ]
  },
  {
   "cell_type": "code",
   "execution_count": null,
   "metadata": {},
   "outputs": [],
   "source": [
    "hamming_shifted_sinc = #Write code here\n",
    "blackman_shifted_sinc = #Write code here\n",
    "\n",
    "fft_hamming_shifted_sinc_magnitude, fft_hamming_shifted_sinc_f = get_fourier(hamming_shifted_sinc)\n",
    "fft_blackman_shifted_sinc_magnitude, fft_blackman_shifted_sinc_f = get_fourier(blackman_shifted_sinc)"
   ]
  },
  {
   "cell_type": "code",
   "execution_count": null,
   "metadata": {},
   "outputs": [],
   "source": [
    "plt.rcParams[\"figure.figsize\"] = (15,10)\n",
    "\n",
    "plt.subplot(2,2,1)\n",
    "plt.plot(hamming_shifted_sinc)\n",
    "#plt.stem(hamming_shifted_sinc, markerfmt='.', use_line_collection=True)\n",
    "plt.title('Shifted Sinc - Hamming Window')\n",
    "plt.grid('on')\n",
    "\n",
    "plt.subplot(2,2,2)\n",
    "plt.plot(blackman_shifted_sinc)\n",
    "#plt.stem(blackman_shifted_sinc, markerfmt='.', use_line_collection=True)\n",
    "plt.title('Shifted Sinc - Blackman Window')\n",
    "plt.grid('on')\n",
    "\n",
    "plt.subplot(2,2,3)\n",
    "cplots.plot_frequency_response(fft_hamming_shifted_sinc_magnitude, \n",
    "                               fft_hamming_shifted_sinc_f, \n",
    "                               title='Shifted Sinc - Hamming Window Frequency Response')\n",
    "\n",
    "plt.subplot(2,2,4)\n",
    "cplots.plot_frequency_response(fft_blackman_shifted_sinc_magnitude, \n",
    "                               fft_blackman_shifted_sinc_f,\n",
    "                               title='Shifted Sinc - Blackman Window Frequency Response');"
   ]
  },
  {
   "cell_type": "markdown",
   "metadata": {},
   "source": [
    "### Comparison between Hamming and Blackman windows\n",
    "The Hamming window has a **faster roll-off** than the Blackman, however the Blackman has a **better stopband attenuation**. To be exact, the stopband attenuation for the Blackman is greater than the Hamming. Although it cannot be seen in these graphs, the Blackman has a very small passband ripple compared to the the Hamming. In general, the **Blackman should be your first choice**; a slow roll-off is easier to handle than poor stopband attenuation. "
   ]
  },
  {
   "cell_type": "markdown",
   "metadata": {},
   "source": [
    "## Example of filter design for an EEG signal\n",
    "An electroencephalogram, or EEG, is a measurement of the electrical activity of the brain. It can be detected as millivolt level signals appearing on electrodes attached to the surface of the head. Each nerve cell in the brain generates small electrical pulses. The EEG is the combined result of an enormous number of these electrical pulses being generated in a (hopefully) coordinated manner. Although the relationship between thought and this electrical coordination is very poorly understood, different frequencies in the EEG can be identified with specific mental states. If you close your eyes and relax, the predominant EEG pattern will be a slow oscillation between about 7 and 12 hertz. This waveform is called the alpha rhythm, and is associated with contentment and a decreased level of attention. Opening your eyes and looking around causes the EEG to change to the beta rhythm, occurring between about 17 and 20 hertz. Other frequencies and waveforms are seen in children, different depths of sleep, and various brain disorders such as epilepsy.\n",
    "\n",
    "In this example, we will assume that the EEG signal has been amplified by analog electronics, and then digitized at a sampling rate of 100 samples per second. We have a data of 640 samples. Our goal is to separate the alpha from the beta rhythms. To do this, we will design a digital low-pass filter with a cutoff frequency of 14 hertz, or 0.14 of the sampling rate. The transition bandwidth will be set at 4 hertz, or 0.04 of the sampling rate."
   ]
  },
  {
   "cell_type": "code",
   "execution_count": null,
   "metadata": {},
   "outputs": [],
   "source": [
    "fc = #Write code here\n",
    "BW = #Write code here\n",
    "print(\"Filter lenght is {}\".format(M))\n",
    "\n",
    "shifted_sinc = #Write code here\n",
    "normalized_shifted_sinc = #Write code here\n",
    "hamming = #Write code here\n",
    "hamming_shifted_sinc = #Write code here\n",
    "\n",
    "ecg = np.loadtxt(fname = \"ecg.dat\").flatten()\n",
    "filtered_ecg = #Write code here\n",
    "\n",
    "filter_magnitude, filter_f= get_fourier(hamming_shifted_sinc)\n",
    "normalized_fft_hamming_shifted_sinc = np.absolute(filter_magnitude)/np.sum(np.absolute(filter_magnitude))\n",
    "\n",
    "fft_ecg_magnitude, fft_ecg_f = get_fourier(ecg)\n",
    "normalized_fft_ecg = np.absolute(fft_ecg_magnitude)/np.sum(np.absolute(fft_ecg_magnitude))\n",
    "\n",
    "fft_filtered_ecg_magnitude, fft_filtered_ecg_f = get_fourier(filtered_ecg)\n",
    "normalized_fft_filtered_ecg = np.absolute(fft_filtered_ecg_magnitude)/np.sum(np.absolute(fft_filtered_ecg_magnitude))"
   ]
  },
  {
   "cell_type": "code",
   "execution_count": null,
   "metadata": {},
   "outputs": [],
   "source": [
    "plt.rcParams[\"figure.figsize\"] = (15,10)\n",
    "\n",
    "plt.subplot(2,2,1)\n",
    "plt.plot(ecg)\n",
    "plt.title('ECG Signal')\n",
    "plt.grid('on')\n",
    "\n",
    "plt.subplot(2,2,2)\n",
    "plt.plot(filtered_ecg)\n",
    "plt.title('Filtered ECG Signal')\n",
    "plt.grid('on')\n",
    "\n",
    "\n",
    "plt.subplot(2,2,3)\n",
    "cplots.plot_frequency_response(normalized_fft_ecg, \n",
    "                               fft_ecg_f, \n",
    "                               title='Frequency Response ECG Signal')\n",
    "\n",
    "plt.subplot(2,2,4)\n",
    "cplots.plot_frequency_response(normalized_fft_filtered_ecg, \n",
    "                               fft_filtered_ecg_f, \n",
    "                               title='Frequency Response Filtered ECG Signal')\n"
   ]
  },
  {
   "cell_type": "markdown",
   "metadata": {},
   "source": [
    "We will pickle our filter design for later user in the next Jupyter Notebook..."
   ]
  },
  {
   "cell_type": "code",
   "execution_count": null,
   "metadata": {},
   "outputs": [],
   "source": [
    "import pickle\n",
    "\n",
    "data = {'ecg':ecg, \n",
    "        'low_pass':hamming_shifted_sinc, \n",
    "        'fft_low_pass':normalized_fft_hamming_shifted_sinc}\n",
    "\n",
    "file = open('save_data.pickle', 'wb')\n",
    "pickle.dump(data, file)\n",
    "\n",
    "file.close()"
   ]
  },
  {
   "cell_type": "code",
   "execution_count": null,
   "metadata": {},
   "outputs": [],
   "source": []
  }
 ],
 "metadata": {
  "kernelspec": {
   "display_name": "Python 3",
   "language": "python",
   "name": "python3"
  },
  "language_info": {
   "codemirror_mode": {
    "name": "ipython",
    "version": 3
   },
   "file_extension": ".py",
   "mimetype": "text/x-python",
   "name": "python",
   "nbconvert_exporter": "python",
   "pygments_lexer": "ipython3",
   "version": "3.8.3"
  }
 },
 "nbformat": 4,
 "nbformat_minor": 2
}
