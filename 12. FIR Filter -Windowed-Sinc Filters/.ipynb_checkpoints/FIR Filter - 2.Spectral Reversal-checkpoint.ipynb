{
 "cells": [
  {
   "cell_type": "markdown",
   "metadata": {},
   "source": [
    "# High Pass Filter Using the Spectral Reversal Technique\n",
    "We can create a high pass filter by using as reference a low pass filter and a technique called **Spectral Reversal**. For this notebook we will use the *Windowed-Sinc Filters* Notebook results, which are pickled in an serialized object called `save_data.pickle`."
   ]
  },
  {
   "cell_type": "code",
   "execution_count": null,
   "metadata": {},
   "outputs": [],
   "source": [
    "import sys\n",
    "sys.path.insert(0, '../')"
   ]
  },
  {
   "cell_type": "code",
   "execution_count": null,
   "metadata": {},
   "outputs": [],
   "source": [
    "from Common import common_plots\n",
    "from Common import fourier_transform\n",
    "\n",
    "cplots = common_plots.Plot()"
   ]
  },
  {
   "cell_type": "code",
   "execution_count": null,
   "metadata": {},
   "outputs": [],
   "source": [
    "import pickle\n",
    "import numpy as np\n",
    "import matplotlib.pyplot as plt"
   ]
  },
  {
   "cell_type": "code",
   "execution_count": null,
   "metadata": {},
   "outputs": [],
   "source": [
    "def get_fourier(x):\n",
    "    \"\"\"\n",
    "    Function that performs the Fourier calculation of a signal x and returns its magnitude and frequency range.\n",
    "    \n",
    "    Parameters:\n",
    "    x (numpy array): Signal to be transformed into Fourier domain.\n",
    "    \n",
    "    Returns:\n",
    "    mag (numpy array): Magnitude of the signal's Fourier transform.\n",
    "    freq (numpy array): Frequency domain of the signal's Fourier transform.\n",
    "    \"\"\"\n",
    "    signal = x.reshape(-1,1)\n",
    "    fourier = fourier_transform.FourierTransform(signal)\n",
    "    mag = fourier.dft_magnitude()\n",
    "    freq = fourier.frequency_domain()\n",
    "    return mag, freq"
   ]
  },
  {
   "cell_type": "markdown",
   "metadata": {},
   "source": [
    "We load the low pass data from the *Windowed-Sinc Filters* Notebook"
   ]
  },
  {
   "cell_type": "code",
   "execution_count": null,
   "metadata": {},
   "outputs": [],
   "source": [
    "with open('save_data.pickle', 'rb') as f:\n",
    "    data = pickle.load(f)\n",
    "    \n",
    "ecg = #Write code here\n",
    "low_pass = #Write code here\n",
    "low_pass = #Write code here\n",
    "fft_low_pass = #Write code here"
   ]
  },
  {
   "cell_type": "markdown",
   "metadata": {},
   "source": [
    "To generate the high pass filter, we use the Sprectral Reversal methond, which consist of multiplying the low pass filter response $h_{lp}[n]$ with $(-1)^{-n}$. Therefore the high pass filter response is given by:\n",
    "$$h_{hp}[n] = h_{lp}[n](-1)^{-n}$$"
   ]
  },
  {
   "cell_type": "code",
   "execution_count": null,
   "metadata": {},
   "outputs": [],
   "source": [
    "N = low_pass.shape[0]\n",
    "high_pass = #Write code here"
   ]
  },
  {
   "cell_type": "code",
   "execution_count": null,
   "metadata": {},
   "outputs": [],
   "source": [
    "dft_low_pass_magnitude, dft_low_pass_freq = get_fourier(low_pass)\n",
    "dft_high_pass_magnitude, dft_high_pass_freq = get_fourier(high_pass)"
   ]
  },
  {
   "cell_type": "code",
   "execution_count": null,
   "metadata": {},
   "outputs": [],
   "source": [
    "plt.rcParams[\"figure.figsize\"] = (15,10)\n",
    "\n",
    "plt.subplot(2,2,1)\n",
    "plt.stem(low_pass, markerfmt='.', use_line_collection=True)\n",
    "plt.title('Low Pass Filter')\n",
    "plt.grid('on')\n",
    "\n",
    "plt.subplot(2,2,2)\n",
    "plt.stem(high_pass, markerfmt='.', use_line_collection=True)\n",
    "plt.title('High Pass Filter')\n",
    "plt.grid('on')\n",
    "\n",
    "plt.subplot(2,2,3)\n",
    "cplots.plot_frequency_response(dft_low_pass_magnitude, \n",
    "                               dft_low_pass_freq, \n",
    "                               title='Low Pass Filter Response')\n",
    "\n",
    "plt.subplot(2,2,4)\n",
    "cplots.plot_frequency_response(dft_high_pass_magnitude, \n",
    "                               dft_high_pass_freq, \n",
    "                               title='High Pass Filter Response');"
   ]
  },
  {
   "cell_type": "markdown",
   "metadata": {},
   "source": [
    "**This frequency response is a “left-right flipped” version of the frequency response of the low-pass filter.**"
   ]
  },
  {
   "cell_type": "code",
   "execution_count": null,
   "metadata": {},
   "outputs": [],
   "source": [
    "low_pass_ecg = #Write code here\n",
    "high_pass_ecg = #Write code here\n",
    "\n",
    "\n",
    "plt.rcParams[\"figure.figsize\"] = (15,10)\n",
    "\n",
    "plt.subplot(2,2,1)\n",
    "plt.plot(low_pass_ecg)\n",
    "plt.title('Low Pass ECG')\n",
    "plt.grid('on')\n",
    "plt.xlabel('Samples')\n",
    "plt.ylabel('Amplitude')\n",
    "\n",
    "plt.subplot(2,2,2)\n",
    "plt.plot(high_pass_ecg)\n",
    "plt.title('High Pass ECG')\n",
    "plt.grid('on')\n",
    "plt.xlabel('Samples')\n",
    "plt.ylabel('Amplitude')\n",
    "\n",
    "plt.subplot(2,1,2)\n",
    "plt.plot(ecg)\n",
    "plt.title('ECG Signal')\n",
    "plt.grid('on')\n",
    "plt.xlabel('Samples')\n",
    "plt.ylabel('Amplitude');"
   ]
  },
  {
   "cell_type": "markdown",
   "metadata": {},
   "source": [
    "## Why Does Spectral Reversal Work?\n",
    "\n",
    "The spectral reversal technique is based on the so-called shift theorem of the Fourier transform. Formulated for the discrete case, the shift theorem says that, for a Fourier transform pair $x[n]⟷X[k]$, a shift by $s$ samples in the frequency domain is equivalent with multiplying by a complex exponential in the time domain, as\n",
    "\n",
    "$$x[n]e^{j2πns/N}⟷X[k−s]$$\n",
    "\n",
    "In general, the result of doing this will be complex. This is not a problem, but let’s investigate in which circumstances the result is not complex. This is may be easiest to see with the complex exponential rewritten using Euler’s Identity,\n",
    "\n",
    "$$e^{j2πns/N}=\\cos{(2πns/N)}+j\\sin{(2πns/N)}$$\n",
    "\n",
    "This expression is real if the sine term is zero, which is the case if the angle is zero or $\\pi$\n",
    "\n",
    "We get this result if we shift by $s=N/2$ samples, because then the angles become $2πns/N=nπ$. Of course, in that case the complete expression becomes $\\cos{(nπ)}$, which is exactly the sequence $1,−1,1,−1,…$."
   ]
  },
  {
   "cell_type": "markdown",
   "metadata": {},
   "source": [
    "#### Reference:\n",
    "[1] https://tomroelandts.com/articles/spectral-reversal-to-create-a-high-pass-filter"
   ]
  }
 ],
 "metadata": {
  "kernelspec": {
   "display_name": "Python 3",
   "language": "python",
   "name": "python3"
  },
  "language_info": {
   "codemirror_mode": {
    "name": "ipython",
    "version": 3
   },
   "file_extension": ".py",
   "mimetype": "text/x-python",
   "name": "python",
   "nbconvert_exporter": "python",
   "pygments_lexer": "ipython3",
   "version": "3.8.3"
  }
 },
 "nbformat": 4,
 "nbformat_minor": 2
}
