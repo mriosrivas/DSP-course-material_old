{
 "cells": [
  {
   "cell_type": "markdown",
   "metadata": {},
   "source": [
    "# IIR Filter -Chebyshev Filters\n",
    "\n",
    "Chebyshev filters are used to separate one band of frequencies from another. Although they cannot match the performance of the windowed-sinc filter, they are more than adequate for many applications. The primary attribute of Chebyshev filters is their speed, typically more than an order of magnitude faster than the windowed-sinc. This is because they are carried out by recursion rather than convolution. The design of these filters is based on the z-transform.\n",
    "\n",
    "## The Chebyshev and Butterworth Responses\n",
    "The Chebyshev response is a mathematical strategy for achieving a faster roll-off by allowing ripple in the frequency response. Analog and digital filters that use this approach are called Chebyshev filters. These filters are named from their use of the Chebyshev polynomials, developed by the Russian mathematician Pafnuti Chebyshev (1821-1894).\n",
    "\n",
    "The Figure shows the frequency response of low-pass Chebyshev filters with passband ripples of: 0%, 0.5% and 20%. As the ripple increases (bad), the roll-off becomes sharper (good). The Chebyshev response is an optimal trade-off between these two parameters. When the ripple is set to 0%, the filter is called a maximally flat or Butterworth filter (after S. Butterworth, a British engineer who described this response in 1930). A ripple of 0.5% is a often good choice for digital filters. This matches the typical precision and accuracy of the analog electronics that the signal has passed through.\n",
    "\n",
    "![Chebyshev Roll Off](Images/Chebyshev_Roll_Off.gif)"
   ]
  },
  {
   "cell_type": "code",
   "execution_count": null,
   "metadata": {},
   "outputs": [],
   "source": [
    "import sys\n",
    "sys.path.insert(0, '../')"
   ]
  },
  {
   "cell_type": "code",
   "execution_count": null,
   "metadata": {},
   "outputs": [],
   "source": [
    "import matplotlib.pyplot as plt\n",
    "import numpy as np\n",
    "\n",
    "from Common import common_plots\n",
    "from Common import fourier_inverse_transform\n",
    "from Common import fourier_transform\n",
    "cplots = common_plots.Plot()\n",
    "from Common import digital_filter\n",
    "from scipy.signal import cheby1"
   ]
  },
  {
   "cell_type": "markdown",
   "metadata": {},
   "source": [
    "## Designing the Filter\n",
    "You must select four parameters to design a Chebyshev filter: \n",
    "1. A high-pass or low-pass response.\n",
    "2. The cutoff frequency.\n",
    "3. The allowed ripple in the passband.\n",
    "4. The number of poles. \n",
    "\n",
    "We will design a 6th order low pass Chebyshev filter with a cutoff frequency of 16Hz for a signal that has been sampled at 64Hz. The allowed ripple for this filter is 0.1 dB."
   ]
  },
  {
   "cell_type": "code",
   "execution_count": null,
   "metadata": {},
   "outputs": [],
   "source": [
    "# Sampling parameters\n",
    "fs = None  # Hz\n",
    "\n",
    "# Desired filter parameters\n",
    "order = None\n",
    "ripple = None  # dB\n",
    "fcut = None    # Hz\n",
    "\n",
    "# Normalized frequency argument for cheby1\n",
    "wn = None\n",
    "\n",
    "# btype arguments can be 'lowpass', 'highpass', 'bandpass' or 'bandstop'\n",
    "a, b = None"
   ]
  },
  {
   "cell_type": "code",
   "execution_count": null,
   "metadata": {},
   "outputs": [],
   "source": [
    "#We need to put our coefficients in our programming style\n",
    "c = np.flip(a)\n",
    "d = np.flip(b)\n",
    "\n",
    "w = np.arange(0, np.pi, 0.01)"
   ]
  },
  {
   "cell_type": "code",
   "execution_count": null,
   "metadata": {},
   "outputs": [],
   "source": [
    "H_w = digital_filter.filter_frequency_response(c, d, w)\n",
    "idft = fourier_inverse_transform.FourierInverseTransform(H_w, np.zeros(len(H_w)))\n",
    "z, p, g = digital_filter.zeros_poles_gain(c, d)"
   ]
  },
  {
   "cell_type": "code",
   "execution_count": null,
   "metadata": {},
   "outputs": [],
   "source": [
    "plt.rcParams[\"figure.figsize\"] = (15,5)\n",
    "\n",
    "plt.subplot(1, 3, 1)\n",
    "plt.plot(w/(2*max(w)), 20*np.log(np.absolute(H_w)))\n",
    "plt.title('Frequency Response')\n",
    "plt.xlabel('frequency')\n",
    "plt.ylabel('dB')\n",
    "plt.grid('on')\n",
    "\n",
    "plt.subplot(1, 3, 2)\n",
    "plt.stem(np.real(idft.synth[0:25]), use_line_collection=True)\n",
    "plt.title('Impulse Response')\n",
    "plt.xlabel('sample')\n",
    "plt.grid('on')\n",
    "\n",
    "cplots.plot_zeros_poles(z, p)\n",
    "plt.title('Zeros and Poles')\n",
    "plt.xlabel('sample');"
   ]
  },
  {
   "cell_type": "code",
   "execution_count": null,
   "metadata": {},
   "outputs": [],
   "source": [
    "plt.plot(w[0:200]/(2*max(w)), 20*np.log(np.absolute(H_w[0:200])))\n",
    "plt.title('Frequency Response')\n",
    "plt.xlabel('frequency')\n",
    "plt.ylabel('dB')\n",
    "plt.grid('on')"
   ]
  },
  {
   "cell_type": "markdown",
   "metadata": {},
   "source": [
    "## Using the Filter\n",
    "We will use the designed filter by implementing the difference equation\n",
    "\n",
    "$$ y[n] = a_0 x[n] + a_1 x[n-1] + a_2 x[n-2] + \\cdot \\cdot \\cdot + b_1 y[n-1] + b_2 y[n-2] + \\cdot \\cdot \\cdot $$ \n",
    "\n",
    "as a **Direct II Transposed Structure**.\n",
    "\n",
    "The following Figure shows an example of a direct II transpose structure.\n",
    "\n",
    "![Direct II Transposed Structure](Images/Transposed_Direct_Form_II.png)\n",
    "\n",
    "As it can bee seen in the Figure, a state variable $s[n]$ is introduced. \n",
    "\n",
    "The following code shows how we can implement the direct II transpose structure.\n",
    "\n",
    "``` python\n",
    "     y[n] = a[0] * x[n]               + s[0][n-1]\n",
    "  s[0][n] = a[1] * x[n] - b[1] * y[n] + s[1][n-1]\n",
    "  s[1][n] = a[2] * x[n] - b[2] * y[n] + s[2][n-1]\n",
    "...\n",
    "s[N-2][n] = a[N-1]*x[n] - b[N-1]*y[n] + s[N-1][n-1]\n",
    "s[N-1][n] = a[N] * x[n] - b[N] * y[n]\n",
    "\n",
    "```"
   ]
  },
  {
   "cell_type": "code",
   "execution_count": null,
   "metadata": {},
   "outputs": [],
   "source": [
    "def filter_dtype_ii(a, b, x):\n",
    "    \"\"\" \n",
    "    Direct II Transposed Structure implementation of digital filter.\n",
    "  \n",
    "    Parameters: \n",
    "    a (numpy array): Array of numerator filter coefficients.\n",
    "    b (numpy array): Array of denominator filter coefficients.\n",
    "    x (numpy array): Array of signal of interest.\n",
    "  \n",
    "    Returns: \n",
    "    numpy array: Returns filter response.\n",
    "  \n",
    "    \"\"\"\n",
    "    \n",
    "    return None"
   ]
  },
  {
   "cell_type": "markdown",
   "metadata": {},
   "source": [
    "### Generating a signal for testing the filter\n",
    "After you successfully created the Chebyshev filter, it is time to test it. For this purpose, we will create a dummy signal sampled at 64Hz that has two frequency components of 20 and 16Hz. Since our filter is a low pass one with a cutoff frequency of 16Hz, we should be able to get rid of the 20Hz component."
   ]
  },
  {
   "cell_type": "code",
   "execution_count": null,
   "metadata": {},
   "outputs": [],
   "source": [
    "fs = 64\n",
    "\n",
    "fc1 = 20\n",
    "fc2 = 16\n",
    "\n",
    "t = np.arange(0,2,1/fs)\n",
    "\n",
    "x1 = np.sin(2*np.pi*fc1*t)\n",
    "x2 = np.sin(2*np.pi*fc2*t)\n",
    "x = x1 + x2\n",
    "\n",
    "dft = fourier_transform.FourierTransform(x.reshape(-1,1))\n",
    "X = dft.dft_magnitude()\n",
    "f = dft.frequency_domain(fsamp=64, style='analog')"
   ]
  },
  {
   "cell_type": "code",
   "execution_count": null,
   "metadata": {},
   "outputs": [],
   "source": [
    "plt.rcParams[\"figure.figsize\"] = (15,5)\n",
    "\n",
    "plt.subplot(1,2,1)\n",
    "plt.plot(t,x)\n",
    "plt.title('Signal')\n",
    "plt.xlabel('time')\n",
    "plt.ylabel('Amplitude')\n",
    "plt.grid('on')\n",
    "\n",
    "plt.subplot(1,2,2)\n",
    "cplots.plot_frequency_response(X, f, title='Signal\\'s FFT')\n"
   ]
  },
  {
   "cell_type": "markdown",
   "metadata": {},
   "source": [
    "To test our filter function`filter_dtype_ii` we can compare it's results against the `lfilter` provided by SciPy."
   ]
  },
  {
   "cell_type": "code",
   "execution_count": null,
   "metadata": {},
   "outputs": [],
   "source": [
    "# Add your code here\n",
    "y_filter = None\n",
    "\n",
    "from scipy.signal import lfilter\n",
    "y_scipy = lfilter(a, b, x)\n",
    "\n",
    "# Fourier Transform of our filter implementation\n",
    "dft_filter = fourier_transform.FourierTransform(y_filter.reshape(-1,1))\n",
    "Y_filter = dft_filter.dft_magnitude()\n",
    "F_filter = dft_filter.frequency_domain(fsamp=64, style='analog')\n",
    "\n",
    "# Fourier Transform of SciPy implementation\n",
    "dft_scipy = fourier_transform.FourierTransform(y_scipy.reshape(-1,1))\n",
    "Y_scipy = dft_scipy.dft_magnitude()\n",
    "F_scipy = dft_scipy.frequency_domain(fsamp=64, style='analog')"
   ]
  },
  {
   "cell_type": "code",
   "execution_count": null,
   "metadata": {},
   "outputs": [],
   "source": [
    "plt.rcParams[\"figure.figsize\"] = (15,5)\n",
    "\n",
    "plt.subplot(1,2,1)\n",
    "plt.plot(t,y_filter, label='implemented')\n",
    "plt.plot(t,y_scipy, label='SciPy')\n",
    "plt.title('Signal')\n",
    "plt.xlabel('time')\n",
    "plt.ylabel('Amplitude')\n",
    "plt.grid('on')\n",
    "plt.legend();\n",
    "\n",
    "plt.subplot(1,2,2)\n",
    "cplots.plot_frequency_response(Y_filter, F_filter, title='Signal\\'s FFT', label='implemented')\n",
    "cplots.plot_frequency_response(Y_scipy, F_scipy, title='Signal\\'s FFT', label='SciPy')\n",
    "plt.legend();"
   ]
  },
  {
   "cell_type": "markdown",
   "metadata": {},
   "source": [
    "### Reference\n",
    "[1] https://www.dspguide.com/ch20/2.htm <br>\n",
    "[2] https://docs.scipy.org/doc/scipy/reference/generated/scipy.signal.cheby1.html <br>\n",
    "[3] https://www.dsprelated.com/freebooks/filters/Four_Direct_Forms.html <br>\n",
    "[4] https://www.dsprelated.com/freebooks/filters/Transposed_Direct_Forms.html"
   ]
  }
 ],
 "metadata": {
  "kernelspec": {
   "display_name": "Python 3",
   "language": "python",
   "name": "python3"
  },
  "language_info": {
   "codemirror_mode": {
    "name": "ipython",
    "version": 3
   },
   "file_extension": ".py",
   "mimetype": "text/x-python",
   "name": "python",
   "nbconvert_exporter": "python",
   "pygments_lexer": "ipython3",
   "version": "3.8.3"
  }
 },
 "nbformat": 4,
 "nbformat_minor": 2
}
