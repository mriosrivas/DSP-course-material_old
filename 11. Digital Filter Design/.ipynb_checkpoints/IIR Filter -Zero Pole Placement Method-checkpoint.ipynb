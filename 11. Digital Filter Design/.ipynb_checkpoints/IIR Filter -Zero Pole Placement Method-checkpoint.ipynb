{
 "cells": [
  {
   "cell_type": "markdown",
   "metadata": {},
   "source": [
    "# IIR Filter -Zero Pole Placement Method for Notch Filter\n",
    "\n",
    "A **notch filter** rejects a narrow frequency band and leaves the rest of the spectrum little changed. The most common example is 60-Hz noise from power lines. Another is low-frequency ground roll. Such filters can easily be made using a slight variation on the all-pass filter. In the all-pass filter, the pole and zero have equal (logarithmic) relative distances from the unit circle. All we need to do is **put the zero closer to the circle**. Indeed, there is no reason why we should not put the zero right on the circle: then the frequency at which the zero is located is exactly canceled from the spectrum of input data.\n",
    "\n",
    "Narrow-band filters and sharp cutoff filters should be used with caution. An ever-present penalty for using such filters is that they do not decay rapidly in time. Although this may not present problems in some applications, it will certainly do so in others. \n",
    "\n",
    "![Notch Filter](Images/notch_filter.png)"
   ]
  },
  {
   "cell_type": "markdown",
   "metadata": {},
   "source": [
    "## Algorithm for Designing a Notch Filter\n",
    "\n",
    "In order to design a notch filter using the zero pole placement method we perform the following steps:\n",
    "1. Set a zero near the unit circle at the frequency of interest.\n",
    "2. Find the complex conjugate of the zero obtained in step 1.\n",
    "3. Set a pole and it's conjugate near the unit circle at the frequency of interest. To maintain stability, the zero should be closest to the unit circle than the pole's location.\n",
    "4. Merge zeros and poles in a transfer function.\n",
    "5. Adjust the zeros and poles to your needs."
   ]
  },
  {
   "cell_type": "code",
   "execution_count": null,
   "metadata": {},
   "outputs": [],
   "source": [
    "import sys\n",
    "sys.path.insert(0, '../')"
   ]
  },
  {
   "cell_type": "code",
   "execution_count": null,
   "metadata": {},
   "outputs": [],
   "source": [
    "import matplotlib.pyplot as plt\n",
    "import numpy as np\n",
    "\n",
    "from Common import common_plots\n",
    "from Common import fourier_inverse_transform\n",
    "cplots = common_plots.Plot()\n",
    "from Common import digital_filter"
   ]
  },
  {
   "cell_type": "markdown",
   "metadata": {},
   "source": [
    "## Implementation:\n",
    "#### Step 1: Set a zero near the unit circle at the frequency of interest. \n",
    "\n",
    "In this case we will define a transfer function $H_1(z)$ with a zero\n",
    "$$ H_1(z)=1-b z^{-1} $$\n",
    "\n",
    "where $b$ is a complex constant with a radius $r$ and phase angle $\\phi$ radians:\n",
    "$$ b=r e^{j \\phi}$$\n",
    "\n",
    "\n",
    "To implement this in our code, we need to change the transfer function $H_1(z)$ into our coding style. Remember that the format our transfer function has is the following:\n",
    "\n",
    "$$H[z] = \\frac{c_0 + c_1z + c_2z^{2} + c_3z^{3} + \\cdot \\cdot \\cdot}{d_0 + d_1z + d_2z^{2} + d_3z^{3}+ \\cdot \\cdot \\cdot} $$\n",
    "\n",
    "Therefore, rewriting our transfer function $H_1(z)$ becomes:\n",
    "\n",
    "$$ H_1(z) = \\frac{-b+z}{z}$$\n",
    "\n",
    "We now can implement a transfer function $H_1(z)$ with a radius close to the unit circle, i.e. $r=0.9$ and a value of $\\phi = \\pi/4$ radians."
   ]
  },
  {
   "cell_type": "code",
   "execution_count": null,
   "metadata": {},
   "outputs": [],
   "source": [
    "r_zero = None\n",
    "phi = None\n",
    "b = None"
   ]
  },
  {
   "cell_type": "code",
   "execution_count": null,
   "metadata": {},
   "outputs": [],
   "source": [
    "c = None\n",
    "d = None\n",
    "w = np.arange(0, 2*np.pi, 0.01) \n",
    "#Note that w range is between 0 and 2*pi. This allow us to see the symmetry of the filter"
   ]
  },
  {
   "cell_type": "code",
   "execution_count": null,
   "metadata": {},
   "outputs": [],
   "source": [
    "H_w = digital_filter.filter_frequency_response(c,d,w)\n",
    "idft = fourier_inverse_transform.FourierInverseTransform(H_w, np.zeros(len(H_w)))\n",
    "z, p, g = digital_filter.zeros_poles_gain(c, d)"
   ]
  },
  {
   "cell_type": "code",
   "execution_count": null,
   "metadata": {},
   "outputs": [],
   "source": [
    "plt.rcParams[\"figure.figsize\"] = (15,5)\n",
    "\n",
    "plt.subplot(1, 3, 1)\n",
    "plt.plot(w/(max(w)), 20*np.log(np.absolute(H_w)))\n",
    "plt.title('Frequency Response')\n",
    "plt.xlabel('frequency')\n",
    "plt.ylabel('dB')\n",
    "plt.grid('on')\n",
    "\n",
    "plt.subplot(1, 3, 2)\n",
    "plt.stem(np.real(idft.synth[0:25]), use_line_collection=True)\n",
    "plt.title('Impulse Response')\n",
    "plt.xlabel('sample')\n",
    "plt.grid('on')\n",
    "\n",
    "cplots.plot_zeros_poles(z, p)\n",
    "plt.title('Zeros and Poles')\n",
    "plt.xlabel('sample');"
   ]
  },
  {
   "cell_type": "markdown",
   "metadata": {},
   "source": [
    "#### Step 2: Find the complex conjugate of the zero obtained in step 1.\n",
    "Now we will expand our transfer function, and obtain $H_2(z)$. This transfer function has two zeros, one is the previous one obtained in step 1 and the other is it's conjugate.\n",
    "\n",
    "$$H_2(z) = (1-b z^{-1})(1-b^* z^{-1})$$\n",
    "\n",
    "To be able to use it, we perform some manipulations to get $H_2(z)$ into our coding style, therefore we get:\n",
    "\n",
    "$$H_2(z) = \\frac{bb^*-(b+b^*)z+z^2}{z^2}$$\n",
    "\n"
   ]
  },
  {
   "cell_type": "code",
   "execution_count": null,
   "metadata": {},
   "outputs": [],
   "source": [
    "r_zero = None\n",
    "phi = None\n",
    "b = None"
   ]
  },
  {
   "cell_type": "code",
   "execution_count": null,
   "metadata": {},
   "outputs": [],
   "source": [
    "c = None\n",
    "d = None\n",
    "w = None"
   ]
  },
  {
   "cell_type": "code",
   "execution_count": null,
   "metadata": {},
   "outputs": [],
   "source": [
    "H_w = digital_filter.filter_frequency_response(c,d,w)\n",
    "idft = fourier_inverse_transform.FourierInverseTransform(H_w, np.zeros(len(H_w)))\n",
    "z, p, g = digital_filter.zeros_poles_gain(c, d)"
   ]
  },
  {
   "cell_type": "code",
   "execution_count": null,
   "metadata": {},
   "outputs": [],
   "source": [
    "plt.rcParams[\"figure.figsize\"] = (15,5)\n",
    "\n",
    "plt.subplot(1, 3, 1)\n",
    "plt.plot(w/(max(w)), 20*np.log(np.absolute(H_w)))\n",
    "plt.title('Frequency Response')\n",
    "plt.xlabel('frequency')\n",
    "plt.ylabel('dB')\n",
    "plt.grid('on')\n",
    "\n",
    "plt.subplot(1, 3, 2)\n",
    "plt.stem(np.real(idft.synth[0:25]), use_line_collection=True)\n",
    "plt.title('Impulse Response')\n",
    "plt.xlabel('sample')\n",
    "plt.grid('on')\n",
    "\n",
    "cplots.plot_zeros_poles(z, p)\n",
    "plt.title('Zeros and Poles')\n",
    "plt.xlabel('sample');"
   ]
  },
  {
   "cell_type": "markdown",
   "metadata": {},
   "source": [
    "#### Step 3: Set a pole and it's conjugate near the unit circle at the frequency of interest.\n",
    "We now proceed to create a transfer function with a pole near the unit circle. To avoid instability, we make the radius of the pole smaller than the zero.\n",
    "\n",
    "The transfer function is\n",
    "$$ H_3(z) = \\frac{1}{(1-az^{-1})(1-a^*z^{-1})}$$\n",
    "\n",
    "<br>\n",
    "Again we perform some manipulations to get $H_3(z)$ into our coding style, and we get:\n",
    "\n",
    "\n",
    "$$ H_3(z) = \\frac{z^2}{aa^*-(a+a^*)z+z^2}$$"
   ]
  },
  {
   "cell_type": "code",
   "execution_count": null,
   "metadata": {},
   "outputs": [],
   "source": [
    "r_pole = None\n",
    "phi = None\n",
    "a = None"
   ]
  },
  {
   "cell_type": "code",
   "execution_count": null,
   "metadata": {},
   "outputs": [],
   "source": [
    "c = None\n",
    "d = None\n",
    "w = None"
   ]
  },
  {
   "cell_type": "code",
   "execution_count": null,
   "metadata": {},
   "outputs": [],
   "source": [
    "H_w = digital_filter.filter_frequency_response(c,d,w)\n",
    "idft = fourier_inverse_transform.FourierInverseTransform(H_w, np.zeros(len(H_w)))\n",
    "z, p, g = digital_filter.zeros_poles_gain(c, d)"
   ]
  },
  {
   "cell_type": "code",
   "execution_count": null,
   "metadata": {},
   "outputs": [],
   "source": [
    "plt.rcParams[\"figure.figsize\"] = (15,5)\n",
    "\n",
    "plt.subplot(1, 3, 1)\n",
    "plt.plot(w/(max(w)), 20*np.log(np.absolute(H_w)))\n",
    "plt.title('Frequency Response')\n",
    "plt.xlabel('frequency')\n",
    "plt.ylabel('dB')\n",
    "plt.grid('on')\n",
    "\n",
    "plt.subplot(1, 3, 2)\n",
    "plt.stem(np.real(idft.synth[0:25]), use_line_collection=True)\n",
    "plt.title('Impulse Response')\n",
    "plt.xlabel('sample')\n",
    "plt.grid('on')\n",
    "\n",
    "cplots.plot_zeros_poles(z, p)\n",
    "plt.title('Zeros and Poles')\n",
    "plt.xlabel('sample');"
   ]
  },
  {
   "cell_type": "markdown",
   "metadata": {},
   "source": [
    "#### Step 4: Merge zeros and poles in a transfer function.\n",
    "Finally you can combine transfer functions $H_2(z)$ and $H_3(z)$ in a single transfer function\n",
    "\n",
    "$$H(z) = H_2(z)H_3(z)$$\n",
    "\n",
    "$$H(z) = \\left(\\frac{bb^*-(b+b^*)z+z^2}{z^2} \\right) \\left(\\frac{z^2}{aa^*-(a+a^*)z+z^2}\\right)$$\n",
    "\n",
    "Therefore we get\n",
    "$$H(z) = \\frac{bb^*-(b+b^*)z+z^2}{aa^*-(a+a^*)z+z^2}$$\n",
    "\n",
    "which is the desired form for our transfer function."
   ]
  },
  {
   "cell_type": "code",
   "execution_count": null,
   "metadata": {},
   "outputs": [],
   "source": [
    "r_zero = None\n",
    "r_pole = None\n",
    "\n",
    "phi = None\n",
    "b = None\n",
    "a = None"
   ]
  },
  {
   "cell_type": "code",
   "execution_count": null,
   "metadata": {},
   "outputs": [],
   "source": [
    "c = None\n",
    "d = None\n",
    "w = None"
   ]
  },
  {
   "cell_type": "code",
   "execution_count": null,
   "metadata": {},
   "outputs": [],
   "source": [
    "H_w = digital_filter.filter_frequency_response(c,d,w)\n",
    "idft = fourier_inverse_transform.FourierInverseTransform(H_w, np.zeros(len(H_w)))\n",
    "z, p, g = digital_filter.zeros_poles_gain(c, d)"
   ]
  },
  {
   "cell_type": "code",
   "execution_count": null,
   "metadata": {},
   "outputs": [],
   "source": [
    "plt.rcParams[\"figure.figsize\"] = (15,5)\n",
    "\n",
    "plt.subplot(1, 3, 1)\n",
    "plt.plot(w/(max(w)), 20*np.log(np.absolute(H_w)))\n",
    "plt.title('Frequency Response')\n",
    "plt.xlabel('frequency')\n",
    "plt.ylabel('dB')\n",
    "plt.grid('on')\n",
    "\n",
    "plt.subplot(1, 3, 2)\n",
    "plt.stem(np.real(idft.synth[0:25]), use_line_collection=True)\n",
    "plt.title('Impulse Response')\n",
    "plt.xlabel('sample')\n",
    "plt.grid('on')\n",
    "\n",
    "cplots.plot_zeros_poles(z, p)\n",
    "plt.title('Zeros and Poles')\n",
    "plt.xlabel('sample');"
   ]
  },
  {
   "cell_type": "markdown",
   "metadata": {},
   "source": [
    "### Reference\n",
    "[1] https://dsp.stackexchange.com/questions/41642/filter-design-with-zero-pole-placement-method <br>\n",
    "[2] http://sepwww.stanford.edu/sep/prof/pvi/zp/paper_html/node30.html"
   ]
  },
  {
   "cell_type": "code",
   "execution_count": null,
   "metadata": {},
   "outputs": [],
   "source": []
  }
 ],
 "metadata": {
  "kernelspec": {
   "display_name": "Python 3",
   "language": "python",
   "name": "python3"
  },
  "language_info": {
   "codemirror_mode": {
    "name": "ipython",
    "version": 3
   },
   "file_extension": ".py",
   "mimetype": "text/x-python",
   "name": "python",
   "nbconvert_exporter": "python",
   "pygments_lexer": "ipython3",
   "version": "3.8.3"
  }
 },
 "nbformat": 4,
 "nbformat_minor": 2
}
