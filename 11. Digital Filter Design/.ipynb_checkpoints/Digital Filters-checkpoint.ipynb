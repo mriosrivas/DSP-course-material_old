{
 "cells": [
  {
   "cell_type": "markdown",
   "metadata": {},
   "source": [
    "# Digital Filters\n",
    "In this part we will introduce the two types of digital filters and how the z-transform is used for calculating their frequency response, and their zeros and poles.\n",
    "\n",
    "\n",
    "## The Z-Transform\n",
    "\n",
    "Just as analog filters are designed using the Laplace transform, recursive digital filters are developed with a parallel technique called the z-transform. The overall strategy of these two transforms is the same: probe the impulse response with sinusoids and exponentials to find the system's poles and zeros. The Laplace transform deals with differential equations, the s-domain, and the s-plane. Correspondingly, the z-transform deals with difference equations, the z-domain, and the z-plane. However, the two techniques are not a mirror image of each other; the s-plane is arranged in a rectangular coordinate system, while the z-plane uses a polar format. \n",
    "\n",
    "The standard form of the z-transform is given by:\n",
    "$$X(z) = \\sum \\limits^{\\infty}_{n=-\\infty} x[n]z^{-n} $$\n",
    "\n",
    "where $z=re^{j\\omega}$ and $r=e^{\\sigma}$.\n",
    "\n",
    "The utility to have the z-transform resides in the implementation of recursive filters, which uses *recursion coefficients*. To analyze these systems in the z-domain, we must be able to convert these recursion coefficients into the z-domain *transfer function*, and back again. Defining the z-transform in this manner ($r^n$ and $z$) provides the simplest means of moving between these two important representations. In fact, defining the z-domain in this way makes it trivial to move from one representation to the other."
   ]
  },
  {
   "cell_type": "markdown",
   "metadata": {},
   "source": [
    "## Stability and Relation with the Fourier Transform\n",
    "\n",
    "In a continous system, if a pole occupies the right half of the s-plane (by the use of the Laplace transform) the system will be unstable. In the case of a discrete system, the system will be unstable if the poles are outside the unit circle in the z-plane. When the time domain signal is completly real, the upper and lower halves of the z-plane are mirror images of each other, just as with the s-domain.\n",
    "\n",
    "A continous sinusoid can have any frequency between DC and infinity, a discrete sinusoid can only have a frequency between DC and one-half of the sampling rate. That is, frequency must be between 0 and 0.5, or between 0 and $\\pi$ when expressed as a natural frequency.\n",
    "\n",
    "The Laplace transform, evaluated at $\\sigma = 0$, is equal to the Fourier transform. Evaluating the z-transform at $r=1$ is equal to the Discrete Time Fourier Transform (DTFT)."
   ]
  },
  {
   "cell_type": "markdown",
   "metadata": {},
   "source": [
    "## Analysis of Recursive Systems\n",
    "\n",
    "A recursive filter is described by a **difference equation**:\n",
    "\n",
    "$$ y[n] = a_0 x[n] + a_1 x[n-1] + a_2 x[n-2] + a_3 x[n-3] + \\cdot \\cdot \\cdot + b_1 y[n-1] + b_2 y[n-2] + b_3 y[n-3] + \\cdot \\cdot \\cdot $$ <br>\n",
    "where $x$ and $y$ are the input and output signals respectively, and $a$ and $b$ terms are the **recursion coefficients**."
   ]
  },
  {
   "cell_type": "markdown",
   "metadata": {},
   "source": [
    "Applying the z-transform to difference equation gives us:\n",
    "\n",
    "$$ Y[z] = a_0 X(z) + a_1 X(z) z^{-1} + a_2 X(z) z^{-2} + a_3 X(z) z^{-3} + \\cdot \\cdot \\cdot + b_1 Y(z)z^{-1} + b_2 Y(z)z^{-2} + b_3 Y(z)z^{-3} + \\cdot \\cdot \\cdot $$\n",
    "\n",
    "\n",
    "and the **system's transfer function** is:\n",
    "\n",
    "$$H[z] = \\frac{a_0 + a_1z^{-1} + a_2z^{-2} + a_3z^{-3} + \\cdot \\cdot \\cdot}{1 - b_1z^{-1} - b_2z^{-2} - b_3z^{-3}} $$\n"
   ]
  },
  {
   "cell_type": "markdown",
   "metadata": {},
   "source": [
    "## IIR Filters and FIR Filters\n",
    "\n",
    "The impulse response or the frequency response classify digital filters. If the impulse response of the filter falls to zero after a finite period of time, it is an FIR (Finite Impulse Response) filter. However, if the impulse response exists indefinitely, it is an IIR (Infinite Impulse Response) filter. How the output values are calculated determines whether the impulse response of a digital filter falls to zero after a finite period of time. For FIR filters the output values depend on the current and the previous input values, whereas for IIR filters the output values also depend on the previous output values.\n",
    "\n",
    "For a **FIR filter** we have the following difference equation\n",
    "\n",
    "$$ y[n] = a_0 x[n] + a_1 x[n-1] + a_2 x[n-2] + \\cdot \\cdot \\cdot + a_k x[n-k] $$ \n",
    "\n",
    "and the system's transfer function\n",
    "\n",
    "$$H[z] = a_0 + a_1z^{-1} + a_2z^{-2} + \\cdot \\cdot \\cdot + a_kz^{-k} $$\n",
    "\n",
    "<br>\n",
    "\n",
    "For a **IIR filter** we have the following difference equation:\n",
    "\n",
    "$$ y[n] = a_0 x[n] + a_1 x[n-1] + a_2 x[n-2] + a_3 x[n-3] + \\cdot \\cdot \\cdot + b_1 y[n-1] + b_2 y[n-2] + b_3 y[n-3] + \\cdot \\cdot \\cdot $$ \n",
    "\n",
    "and the system's transfer function:\n",
    "\n",
    "$$H[z] = \\frac{a_0 + a_1z^{-1} + a_2z^{-2} + a_3z^{-3} + \\cdot \\cdot \\cdot}{1 - b_1z^{-1} - b_2z^{-2} - b_3z^{-3}} $$\n",
    "\n",
    "<br>\n",
    "\n",
    "### Advantages and Disadvantages of FIR and IIR Filters\n",
    "\n",
    "The advantage of IIR filters over FIR filters is that **IIR filters usually require fewer coefficients** to execute similar filtering operations, that IIR filters work faster, and require less memory space.\n",
    "\n",
    "The disadvantage of **IIR filters** is the **nonlinear phase response**. IIR filters are well suited for applications that require no phase information, for example, for monitoring the signal amplitudes. FIR filters are better suited for applications that require a linear phase response."
   ]
  },
  {
   "cell_type": "markdown",
   "metadata": {},
   "source": [
    "## Implementation:\n",
    "In the following section you will see the frequency response and the poles and zeros of a filter given the coefficients of system's transfer function.\n",
    "\n",
    "We will work with the following transfer function:\n",
    "\n",
    "$$H[z] = \\frac{1.000 -1.414z + 1.000z^{2} }{0.810 -1.273z +1.000z^{2}} $$\n",
    "\n",
    "Note that our transfer function has the form:\n",
    "\n",
    "$$H[z] = \\frac{c_0 + c_1z + c_2z^{2} + c_3z^{3} + \\cdot \\cdot \\cdot}{d_0 + d_1z + d_2z^{2} + d_3z^{3}+ \\cdot \\cdot \\cdot} $$"
   ]
  },
  {
   "cell_type": "code",
   "execution_count": null,
   "metadata": {},
   "outputs": [],
   "source": [
    "import sys\n",
    "sys.path.insert(0, '../')"
   ]
  },
  {
   "cell_type": "code",
   "execution_count": null,
   "metadata": {},
   "outputs": [],
   "source": [
    "import matplotlib.pyplot as plt\n",
    "import numpy as np\n",
    "import scipy.signal\n",
    "\n",
    "from Common import common_plots\n",
    "from Common import fourier_inverse_transform\n",
    "cplots = common_plots.Plot()"
   ]
  },
  {
   "cell_type": "code",
   "execution_count": null,
   "metadata": {},
   "outputs": [],
   "source": [
    "def filter_frequency_response(c, d, w = np.arange(0, np.pi, 0.1)):\n",
    "    \"\"\" \n",
    "    Function that generates the frequency response of a digital filter given the coeficients of \n",
    "    polynomials c0 + c_1*x + c_2*x^2 + ... and d0 + d_1*x + d_2*x^2 + ...\n",
    "    This function evaluates the transfer function \n",
    "    H(x)=(c0 + c_1*x + c_2*x^2 + ...)/(d0 + d_1*x + d_2*x^2 + ...) where x is an element in vector w.\n",
    "  \n",
    "    Parameters: \n",
    "    w (numpy array): Array of natural frequency values.\n",
    "    c (numpy array): Array of recursion coefficients c.\n",
    "    d (numpy array): Array of recursion coefficients d.\n",
    "  \n",
    "    Returns: \n",
    "    numpy array: Returns filter response.\n",
    "  \n",
    "    \"\"\"\n",
    "    z = np.exp(1j*w)\n",
    "    \n",
    "    c_degree = np.arange(0,len(c))\n",
    "    d_degree = np.arange(0,len(d))\n",
    "    \n",
    "    N = len(z)\n",
    "    nc = len(c_degree)\n",
    "    nd = len(d_degree)\n",
    "    \n",
    "    ZC = (np.repeat(z,nc, axis = 0)).reshape(N,nc)\n",
    "    ZD = (np.repeat(z,nd, axis = 0)).reshape(N,nd)\n",
    "    \n",
    "    z_c = np.dot((ZC**c_degree),c)\n",
    "    z_d = np.dot((ZD**d_degree),d)\n",
    "    return z_c/z_d\n",
    "\n",
    "\n",
    "\n",
    "def zeros_poles_gain(c, d):\n",
    "    \"\"\" \n",
    "    Function that calculates the zeros, poles and gain of a given transfer function which consists of\n",
    "    the coeficients of polynomials c0 + c_1*x + c_2*x^2 + ... and d0 + d_1*x + d_2*x^2 + ...\n",
    "  \n",
    "    Parameters: \n",
    "    c (numpy array): Array of recursion coefficients c.\n",
    "    d (numpy array): Array of recursion coefficients d.\n",
    "  \n",
    "    Returns: z,p,g\n",
    "    z (numpy array): Zeros of transfer function.\n",
    "    p (numpy array): Poles of transfer function.\n",
    "    g (numpy array): Gain of transfer function.\n",
    "  \n",
    "    \"\"\"\n",
    "    return scipy.signal.tf2zpk(np.flip(c),np.flip(d))"
   ]
  },
  {
   "cell_type": "code",
   "execution_count": null,
   "metadata": {},
   "outputs": [],
   "source": [
    "c = None\n",
    "d = None\n",
    "w = None\n",
    "\n",
    "H_w = None\n",
    "idft = None\n",
    "z, p, g = None"
   ]
  },
  {
   "cell_type": "code",
   "execution_count": null,
   "metadata": {},
   "outputs": [],
   "source": [
    "plt.rcParams[\"figure.figsize\"] = (15,5)\n",
    "\n",
    "plt.subplot(1, 3, 1)\n",
    "plt.plot(w/(2*max(w)), 20*np.log(np.absolute(H_w)))\n",
    "plt.title('Frequency Response')\n",
    "plt.xlabel('frequency')\n",
    "plt.ylabel('dB')\n",
    "plt.grid('on')\n",
    "\n",
    "plt.subplot(1, 3, 2)\n",
    "plt.stem(np.real(idft.synth[0:25]), use_line_collection=True)\n",
    "plt.title('Impulse Response')\n",
    "plt.xlabel('sample')\n",
    "plt.grid('on')\n",
    "\n",
    "cplots.plot_zeros_poles(z, p)\n",
    "plt.title('Zeros and Poles')\n",
    "plt.xlabel('sample');"
   ]
  },
  {
   "cell_type": "markdown",
   "metadata": {},
   "source": [
    "### Reference\n",
    "[1] https://www.dspguide.com/ch33.htm <br>\n",
    "[2] https://zone.ni.com/reference/en-XX/help/370858P-01/genmaths/genmaths/calc_filterfir_iir/ <br>\n",
    "[3] https://www.minidsp.com/applications/dsp-basics/fir-vs-iir-filtering\n",
    "\n",
    "[1] https://dsp.stackexchange.com/questions/41642/filter-design-with-zero-pole-placement-method"
   ]
  }
 ],
 "metadata": {
  "kernelspec": {
   "display_name": "Python 3",
   "language": "python",
   "name": "python3"
  },
  "language_info": {
   "codemirror_mode": {
    "name": "ipython",
    "version": 3
   },
   "file_extension": ".py",
   "mimetype": "text/x-python",
   "name": "python",
   "nbconvert_exporter": "python",
   "pygments_lexer": "ipython3",
   "version": "3.8.3"
  }
 },
 "nbformat": 4,
 "nbformat_minor": 2
}
