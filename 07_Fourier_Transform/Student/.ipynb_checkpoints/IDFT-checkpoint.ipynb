{
 "cells": [
  {
   "cell_type": "markdown",
   "metadata": {},
   "source": [
    "# Inverse Discrete Fourier Transform\n",
    "\n",
    "\n",
    "\n",
    "\n",
    "Any $N$ point signal, $x[i]$, can be created by adding $N/2 + 1$ cosine waves and $N/2 + 1$ sine waves. The amplitudes of the cosine and sine waves are held in the arrays $ImX[k]$ and $ReX[k]$, respectively. The synthesis equation multiplies these amplitudes by the basis functions to create a set of scaled sine and cosine waves. Adding the scaled sine and cosine waves produces the time domain signal, $x[i]$.\n",
    "\n",
    "We can write the synthesis equation as:\n",
    "\n",
    "$$x[i] = \\displaystyle\\sum_{k=0}^{N/2}{Re\\bar{X}[k]\\cos{(\\frac{2\\pi ki}{N}})} + \n",
    "\\displaystyle\\sum_{k=0}^{N/2}{Im\\bar{X}[k]\\sin{(\\frac{2\\pi ki}{N}})}$$\n",
    "\n",
    "The arrays are called $Im\\bar{X}[k]$ and $Re\\bar{X}[k]$, rather than $ImX[k]$ and $ReX[k]$. This is because the amplitudes needed for synthesis are slightly different from the frequency domain of a signal. This is the scaling factor due to the use of an orthogonal basis decomposition. Although the conversion is only a simple normalization, it is a common bug in computer programs. Look out for it! In equation form, the conversion between the two is given by:\n",
    "\n",
    "$$Re\\bar{X}[k]= \\frac{ReX[k]}{N/2}$$\n",
    "\n",
    "$$Im\\bar{X}[k]= -\\frac{ImX[k]}{N/2}$$\n",
    "\n",
    "except for two special cases:\n",
    "$$Re\\bar{X}[0]= \\frac{ReX[0]}{N}$$\n",
    "\n",
    "$$Re\\bar{X}[N/2]= \\frac{ReX[N/2]}{N}$$\n",
    "\n",
    "Remember that $N$ is the size of the time domain signal $x[k]$."
   ]
  },
  {
   "cell_type": "code",
   "execution_count": null,
   "metadata": {},
   "outputs": [],
   "source": [
    "import sys\n",
    "sys.path.insert(0, '../../')\n",
    "\n",
    "import numpy as np\n",
    "import matplotlib.pyplot as plt\n",
    "\n",
    "from Common import common_plots\n",
    "from Common import fourier_transform\n",
    "\n",
    "cplots = common_plots.Plot()"
   ]
  },
  {
   "cell_type": "markdown",
   "metadata": {},
   "source": [
    "### Why the use of Scaling Factors?\n",
    "To understand the use of scaling factors we can think of the frequency domain representation of a signal as a spectral density. Spectral density describes how much signal (amplitude) is present per unit of bandwidth. To convert the sinusoidal amplitudes into a spectral density, divide each amplitude by the bandwidth represented by each amplitude. To determine the bandwidth you can look at the following DFT decomposition and see that we divided each decomposition into *frequency bins*"
   ]
  },
  {
   "cell_type": "code",
   "execution_count": null,
   "metadata": {},
   "outputs": [],
   "source": [
    "t = np.arange(0,17)\n",
    "dft_decomposition = np.array([[5, 6, 7, 8, 7.5, 6.5, 7, 8, 7.5, 6, 5, 6, 7, 8, 7.5, 6.5, 6]]).T\n",
    "\n",
    "cplots.plot_single(dft_decomposition.T, title='Fourier Decomposition')\n",
    "plt.xlabel('frequency')\n",
    "plt.ylabel('amplitude')\n",
    "plt.xlim(-0.01,16.01)\n",
    "plt.xticks(t);\n",
    "plt.bar(t,dft_decomposition.flatten(),width=0.95, color='green', alpha=0.25, edgecolor='white');"
   ]
  },
  {
   "cell_type": "markdown",
   "metadata": {},
   "source": [
    "Each frequency bin has a *width*, and in the case of samples 1 to 15 they are of *double length* than for samples 0 and 16. The length of each bin can be calculated as $2/N$ for samples 1 to 15, and $1/N$ for samples 0 and 16. (Remember that $N$ is the size of the time domain signal.) So this accounts for the scaling factor between the sinusoidal amplitudes and frequency domain, as well as the additional factor of two needed for the first and last samples.  \n",
    "\n",
    "Why the negation of the imaginary part? This is done solely to make the real DFT consistent with our definition of DFT and later with its big brother, the complex DFT.\n",
    "\n",
    "When dealing only with the real DFT, many authors do not include this negation. For that matter, many authors do not even include he $2/N$ scaling factor. Be prepared to find both of these missing in some discussions. They are included here for a tremendously important reason: The most efficient way to calculate the DFT is through the Fast Fourier Transform (FFT) algorithm. The FFT generates a frequency domain defined according to our previous equations. If you start messing with these normalization factors, your programs containing the FFT are not going to work as expected. "
   ]
  },
  {
   "cell_type": "markdown",
   "metadata": {},
   "source": [
    "In this Jupyter Notebook we will implement a class called `FourierInverseTransform` which calculates the Inverse Fourier Transform of a frequency domain signal (given both real and imaginary parts.)\n",
    "\n",
    "First, take a look at the signals and it's Fourier Transforms. Remember, as in the previous Jupyter Notebook, you can access to the real, imaginary, magnitude, and phase values of the Fourier Transform of any `signal` by running:"
   ]
  },
  {
   "cell_type": "markdown",
   "metadata": {},
   "source": [
    "```python\n",
    "from Common import fourier_transform\n",
    "\n",
    "Object = fourier_transform.FourierTransform(signal)\n",
    "real_part = Object.rex\n",
    "imag_part = Object.imx\n",
    "magnitude = Object.magnitude\n",
    "phase = Object.magnitude\n",
    "```"
   ]
  },
  {
   "cell_type": "code",
   "execution_count": null,
   "metadata": {},
   "outputs": [],
   "source": [
    "file = {'x':'Signals/InputSignal_f32_1kHz_15kHz.dat', 'h':'Signals/Impulse_response.dat'}\n",
    "\n",
    "x = np.loadtxt(file['x'])\n",
    "N,M = x.shape\n",
    "x = x.reshape(N*M, 1)\n",
    "\n",
    "h = np.loadtxt(file['h'])\n",
    "N = h.shape[0]\n",
    "h = h.reshape(N, 1)"
   ]
  },
  {
   "cell_type": "code",
   "execution_count": null,
   "metadata": {},
   "outputs": [],
   "source": [
    "X = fourier_transform.FourierTransform(x)\n",
    "H = fourier_transform.FourierTransform(h)"
   ]
  },
  {
   "cell_type": "code",
   "execution_count": null,
   "metadata": {},
   "outputs": [],
   "source": [
    "plt.rcParams[\"figure.figsize\"] = (15,8)\n",
    "\n",
    "plt.suptitle(\"DFT Magnitude and Phase\", fontsize=14)\n",
    "\n",
    "plt.subplot(2,3,1)\n",
    "plt.plot(x)\n",
    "plt.grid()\n",
    "plt.xlabel('samples')\n",
    "plt.ylabel('amplitude')\n",
    "\n",
    "plt.subplot(2,3,2)\n",
    "plt.plot(X.domain, X.magx)\n",
    "plt.grid()\n",
    "plt.xlabel('normalized frequency')\n",
    "plt.ylabel('amplitude')\n",
    "\n",
    "plt.subplot(2,3,3)\n",
    "plt.plot(X.domain, X.phasex)\n",
    "plt.grid()\n",
    "plt.xlabel('normalized frequency')\n",
    "plt.ylabel('rads')\n",
    "\n",
    "plt.subplot(2,3,4)\n",
    "plt.plot(h)\n",
    "plt.grid()\n",
    "plt.xlabel('samples')\n",
    "plt.ylabel('amplitude')\n",
    "\n",
    "plt.subplot(2,3,5)\n",
    "plt.plot(H.domain, H.magx)\n",
    "plt.grid()\n",
    "plt.xlabel('normalized frequency')\n",
    "plt.ylabel('amplitude')\n",
    "\n",
    "plt.subplot(2,3,6)\n",
    "plt.plot(H.domain, H.phasex)\n",
    "plt.grid()\n",
    "plt.xlabel('normalized frequency')\n",
    "plt.ylabel('rads')\n",
    "\n",
    "plt.subplots_adjust(hspace = 0.5);"
   ]
  },
  {
   "cell_type": "markdown",
   "metadata": {},
   "source": [
    "The `FourierInverseTransform` class that you will create will have two methods: \n",
    "* `normalize` which calculates the normalized real and imagnary components.\n",
    "* `idft` which implements the synthesis equation described at the beginning of this notebook."
   ]
  },
  {
   "cell_type": "code",
   "execution_count": null,
   "metadata": {},
   "outputs": [],
   "source": [
    "class FourierInverseTransform:\n",
    "    def __init__(self, rex, imx):\n",
    "        \"\"\"\n",
    "        Function that calculates the IDFT of an input signal.\n",
    "        Parameters:\n",
    "        rex(numpy array): Array of numbers representing the real dft part of a signal.\n",
    "        imx(numpy array): Array of numbers representing the imaginary dft part of a signal.\n",
    "        \n",
    "        Attributes: \n",
    "        M (int): Size of dft signal.\n",
    "        N (int): Size of idft signal.\n",
    "        norm_rex (numpy array): Normalized real DFT part of input signal.\n",
    "        norm_imx (numpy array): Normalized imaginary DFT part of input signal.\n",
    "        synth (numpy array): Synthetized IDFT signal.        \n",
    "        \"\"\"\n",
    "        \n",
    "        \n",
    "\n",
    "    def normalize(self, x, part):\n",
    "        \"\"\" \n",
    "        Function that calculates the normalized values of given input signal x.\n",
    "\n",
    "        Parameters: \n",
    "        x (numpy array): Array of numbers representing the input signal to be normalized. \n",
    "        part (string): If 'real', a normalized real part is returned. If 'imag', a \n",
    "                        normalized imaginary part is returned.\n",
    "\n",
    "        Returns: \n",
    "        numpy array: Normalized input signal x.\n",
    "\n",
    "        \"\"\"\n",
    "        \n",
    "        return None\n",
    "        \n",
    "    \n",
    "    def idft(self): \n",
    "        \"\"\" \n",
    "        Function that calculates the IDFT of a signal.\n",
    "\n",
    "        Attributes: \n",
    "        rex(numpy array): Array of numbers representing the real dft part of a signal.\n",
    "        imx(numpy array): Array of numbers representing the imaginary dft part of a signal.\n",
    "\n",
    "        Returns: \n",
    "        numpy array: Synthetized IDFT signal, which consist of the normalized sum of cosine \n",
    "                    and sine waveforms.\n",
    "\n",
    "        \"\"\"\n",
    "        \n",
    "        return None"
   ]
  },
  {
   "cell_type": "markdown",
   "metadata": {},
   "source": [
    "### Test your Inverse Fourier Class\n",
    "You can run this test and check if your synthetized signal is the same as the output. If not, try to correct your mistakes."
   ]
  },
  {
   "cell_type": "code",
   "execution_count": null,
   "metadata": {},
   "outputs": [],
   "source": [
    "signal = x #You can change between x and h\n",
    "signal_dft = fourier_transform.FourierTransform(signal)"
   ]
  },
  {
   "cell_type": "code",
   "execution_count": null,
   "metadata": {},
   "outputs": [],
   "source": [
    "plt.rcParams[\"figure.figsize\"] = (10,5)\n",
    "\n",
    "plt.suptitle(\"Comparison Between Original and Synthetized Signal\", fontsize=14)\n",
    "idft = FourierInverseTransform(signal_dft.rex, signal_dft.imx)\n",
    "plt.subplot(1,2,1)\n",
    "plt.plot(signal)\n",
    "plt.xlabel('samples')\n",
    "plt.ylabel('amplitude')\n",
    "plt.title('Original Signal')\n",
    "plt.grid()\n",
    "\n",
    "plt.subplot(1,2,2)\n",
    "plt.plot(idft.synth, color='orange')\n",
    "plt.xlabel('samples')\n",
    "plt.ylabel('amplitude')\n",
    "plt.title('Synthetized Signal')\n",
    "\n",
    "plt.grid()\n",
    "plt.subplots_adjust(hspace = 0.5);"
   ]
  },
  {
   "cell_type": "markdown",
   "metadata": {},
   "source": [
    "## Signal Through a Filter\n",
    "In this part, we will see how the Inverse Fourier Transform of a product of two signals in the frequency domain can lead to the same results as applying the convolution of those two signals in the time domain. To do so, **both signals must be of same size**, so you have to pad zeros to the smallest signal before doing any transformation. So before doing any calculation, create a function called `zero_padding` that tests both signals and zero pads the smallest signal."
   ]
  },
  {
   "cell_type": "code",
   "execution_count": null,
   "metadata": {},
   "outputs": [],
   "source": [
    "def zero_padding(x, h):\n",
    "    \"\"\" \n",
    "    Function that zero pads the smallest input signal.\n",
    "\n",
    "    Attributes: \n",
    "    x(numpy array): Array of numbers representing an input signal.\n",
    "    h(numpy array): Array of numbers representing an input signal.\n",
    "\n",
    "    Returns: \n",
    "    x_pad(numpy array): Array of numbers representing an input signal x padded with zeros.\n",
    "    h_pad(numpy array): Array of numbers representing an input signal h padded with zeros.\n",
    "    \"\"\"\n",
    "        \n",
    "    return None, None"
   ]
  },
  {
   "cell_type": "code",
   "execution_count": null,
   "metadata": {},
   "outputs": [],
   "source": [
    "x_pad, h_pad = zero_padding(x, h)\n",
    "\n",
    "#Calculate the Fourier Transform of each signal\n",
    "X = fourier_transform.FourierTransform(x_pad)\n",
    "H = fourier_transform.FourierTransform(h_pad)\n",
    "\n",
    "#Multiply both frequency domain signals\n",
    "G_rex = H.rex*X.rex\n",
    "G_imx = H.imx*X.imx\n",
    "\n",
    "#Calculate the Inverse Fourier Transform\n",
    "synthetized_signal = FourierInverseTransform(G_rex, G_imx)"
   ]
  },
  {
   "cell_type": "code",
   "execution_count": null,
   "metadata": {},
   "outputs": [],
   "source": [
    "plt.rcParams[\"figure.figsize\"] = (10,5)\n",
    "\n",
    "plt.subplot(1,2,1)\n",
    "cplots.plot_single(x.T, style='line', title='Original Signal')\n",
    "plt.xlabel('samples')\n",
    "plt.ylabel('Amplitude')\n",
    "\n",
    "plt.subplot(1,2,2)\n",
    "cplots.plot_single(synthetized_signal.synth.T, style='line', title='Filtered Signal')\n",
    "plt.xlabel('samples')\n",
    "plt.ylabel('Amplitude');"
   ]
  },
  {
   "cell_type": "markdown",
   "metadata": {},
   "source": [
    "Finally save your class `FourierInverseTransform` in a file called `fourier_inverse_transform.py` and your function `zero_padding` in a file called `auxiliary.py`. Be sure to test this notebook with the following code:"
   ]
  },
  {
   "cell_type": "code",
   "execution_count": null,
   "metadata": {},
   "outputs": [],
   "source": [
    "from Common import fourier_inverse_transform\n",
    "from Common.auxiliary import *\n",
    "\n",
    "np.random.seed(123)\n",
    "\n",
    "file = {'x':'Signals/ecg.dat', 'h':'Signals/Impulse_response.dat'}\n",
    "\n",
    "x = np.loadtxt(file['x'])\n",
    "N = x.shape[0]\n",
    "x = x.reshape(N, 1)\n",
    "\n",
    "mu, sigma = 0, 0.15 # mean and standard deviation\n",
    "noise = (np.random.normal(mu, sigma, x.shape[0])).reshape(-1,1)\n",
    "x = x + noise\n",
    "\n",
    "h = np.loadtxt(file['h'])\n",
    "N = h.shape[0]\n",
    "h = h.reshape(N, 1)\n",
    "\n",
    "#Zero padding\n",
    "x_pad, h_pad = zero_padding(x, h)\n",
    "\n",
    "#Calculate the Fourier Transform of each signal\n",
    "X = fourier_transform.FourierTransform(x_pad)\n",
    "H = fourier_transform.FourierTransform(h_pad)\n",
    "\n",
    "#Multiply both frequency domain signals\n",
    "G_rex = H.rex*X.rex\n",
    "G_imx = H.imx*X.imx\n",
    "\n",
    "#Calculate the Inverse Fourier Transform\n",
    "synthetized_signal = fourier_inverse_transform.FourierInverseTransform(G_rex, G_imx)"
   ]
  },
  {
   "cell_type": "code",
   "execution_count": null,
   "metadata": {},
   "outputs": [],
   "source": [
    "plt.rcParams[\"figure.figsize\"] = (10,5)\n",
    "\n",
    "analysis = 'frequency'\n",
    "#analysis = 'time'\n",
    "\n",
    "plt.subplot(2,2,1)\n",
    "if (analysis=='frequency'):\n",
    "    cplots.plot_single(X.magx.T, style='line', title='Original Signal')\n",
    "elif(analysis=='time'):\n",
    "    cplots.plot_single(x.T, style='line', title='Original Signal')\n",
    "plt.xlabel('samples')\n",
    "plt.ylabel('Amplitude')\n",
    "\n",
    "plt.subplot(2,2,2)\n",
    "if (analysis=='frequency'):\n",
    "    cplots.plot_single(H.magx.T, style='line', title='Filter Impulse Response')\n",
    "elif(analysis=='time'):\n",
    "    cplots.plot_single(h.T, style='line', title='Filter Impulse Response')   \n",
    "plt.xlabel('samples')\n",
    "plt.ylabel('Amplitude')\n",
    "\n",
    "plt.subplot(2,1,2)\n",
    "if (analysis=='frequency'):\n",
    "    cplots.plot_single(np.sqrt(G_rex**2+G_imx**2).T, style='line', title='Filtered Signal')\n",
    "elif(analysis=='time'):\n",
    "    cplots.plot_single(synthetized_signal.synth.T, style='line', title='Filtered Signal')\n",
    "plt.xlabel('samples')\n",
    "plt.ylabel('Amplitude')\n",
    "\n",
    "plt.subplots_adjust(hspace = 0.5);"
   ]
  }
 ],
 "metadata": {
  "kernelspec": {
   "display_name": "Python 3",
   "language": "python",
   "name": "python3"
  },
  "language_info": {
   "codemirror_mode": {
    "name": "ipython",
    "version": 3
   },
   "file_extension": ".py",
   "mimetype": "text/x-python",
   "name": "python",
   "nbconvert_exporter": "python",
   "pygments_lexer": "ipython3",
   "version": "3.8.3"
  }
 },
 "nbformat": 4,
 "nbformat_minor": 2
}
