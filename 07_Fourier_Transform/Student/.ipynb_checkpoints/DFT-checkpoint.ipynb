{
 "cells": [
  {
   "cell_type": "markdown",
   "metadata": {},
   "source": [
    "# Discrete Fourier Transform\n",
    "Fourier analysis is a family of mathematical techniques, all based on decomposing signals into sinusoids. The Discrete Fourier Transform (DFT) is the family member used with digitized signals. In this notebook we focus on the real DFT, a version of the discrete Fourier transform that uses real numbers to represent the input and output signals. \n",
    "\n",
    "The Discrete Fourier Transform, DFT, changes an N point input signal into two point output signals. The input signal contains the signal being decomposed, while the two output signals contain the amplitudes of the component sine and cosine waves. The input signal is said to be in the time domain and the output signal in the frequency domain.\n",
    "\n",
    "The frequency domain contains exactly the same information as the time domain, just in a different form. If you know one domain, you can calculate the other. Given the time domain signal, the process of calculating the frequency domain is called **decomposition**, **analysis**, the **forward DFT**, or simply, the **DFT**. If you know the frequency domain, calculation of the time domain is called **synthesis**, or the **inverse DFT**. \n",
    "\n",
    "The number of samples in the time domain is usually represented by the variable $N$. While $N$ can be any positive integer, a power of two is usually chosen, i.e., 128, 256, 512, 1024, etc. There are two reasons for this. First, digital data storage uses binary addressing, making powers of two a natural signal length. Second, the most efficient algorithm for calculating the DFT, the Fast Fourier Transform (FFT), usually operates with $N$ that is a power of two. Typically, $N$ is selected between 32 and 4096. In most cases, the samples run from $0$ to $N-1$, rather than $1$ to $N$. \n",
    "\n",
    "Time domain signals usually uses lower cases notation and frequency domain signals uses upper case notation, therefore a signal $x[n]$ said to be in the time domain and $X[n]$ is in the frequency domain. The frequency domain signal $X[n]$ consists of two parts, each of $N/2 +1$ samples. These are called the **Real** part of $X[ ]$ , written as: $\\mathbf{Re}X[n]$, and the **Imaginary** part of $X[ ]$, written as: $\\mathbf{Im}X[ ]$. The values in $\\mathbf{Re}X[ ]$ are the amplitudes of the cosine waves, while the values in $\\mathbf{Im}X[ ]$ are the amplitudes of the sine waves. Just as the time domain runs from $x[n]$ to $x[N-1]$, the frequency domain signals run from $\\mathbf{Re}X[0]$ to $\\mathbf{Re}X[N/2]$, and from $\\mathbf{Im}X[0]$ to $\\mathbf{Im}X[N/2]$."
   ]
  },
  {
   "cell_type": "markdown",
   "metadata": {},
   "source": [
    "## Calculating the DFT\n",
    "The analysis equation for calculating the DFT can be performed as follows\n",
    "\n",
    "$$\\mathbf{Re}X[k] = \\sum^{N-1}_{i=0}x[i]\\cos{(2\\pi ki/N)}$$\n",
    "$$\\mathbf{Im}X[k] = -\\sum^{N-1}_{i=0}x[i]\\sin{(2\\pi ki/N)}$$\n",
    "\n",
    "In these equations, $x[i]$ is the time domain signal being analyzed, and $\\mathbf{Re}X[k]$ and $\\mathbf{Im}X[k]$ are the frequency domain signals being calculated. The index $i$ runs from $0$ to $N-1$, while the index $k$ runs from $0$ to $N/2$."
   ]
  },
  {
   "cell_type": "code",
   "execution_count": null,
   "metadata": {},
   "outputs": [],
   "source": [
    "import sys\n",
    "sys.path.insert(0, '../../')\n",
    "\n",
    "import numpy as np\n",
    "import matplotlib.pyplot as plt\n",
    "\n",
    "from Common import common_plots\n",
    "cplots = common_plots.Plot()"
   ]
  },
  {
   "cell_type": "code",
   "execution_count": null,
   "metadata": {},
   "outputs": [],
   "source": [
    "file = {'x':'Signals/InputSignal_f32_1kHz_15kHz.dat'}\n",
    "\n",
    "x = np.loadtxt(file['x'])\n",
    "N,M = x.shape\n",
    "x = x.reshape(N*M, 1)\n",
    "\n",
    "cplots.plot_single(x.T, style='line')\n",
    "plt.xlabel('samples')\n",
    "plt.ylabel('amplitude');"
   ]
  },
  {
   "cell_type": "markdown",
   "metadata": {},
   "source": [
    "###  Function implementation of the DFT \n",
    "Implement the DFT algorithm using the analysis equation described before."
   ]
  },
  {
   "cell_type": "code",
   "execution_count": null,
   "metadata": {},
   "outputs": [],
   "source": [
    "def dft(x):\n",
    "    \"\"\" \n",
    "    Function that calculates the DFT of an input signal x.\n",
    "  \n",
    "    Parameters: \n",
    "    x (numpy array): Array of numbers representing the input signal to be transformed.\n",
    "  \n",
    "    Returns: \n",
    "    rex (numpy array): Real DFT part of input signal x\n",
    "    imx (numpy array): Imaginary DFT part of input signal x\n",
    "  \n",
    "    \"\"\"\n",
    "    \n",
    "                \n",
    "    return None, None    "
   ]
  },
  {
   "cell_type": "code",
   "execution_count": null,
   "metadata": {},
   "outputs": [],
   "source": [
    "rex, imx = dft(x)\n",
    "\n",
    "plt.subplot(1,2,1)\n",
    "cplots.plot_single(rex.T, style='line', title='Real Part')\n",
    "plt.xlabel('samples')\n",
    "plt.ylabel('amplitude')\n",
    "plt.subplot(1,2,2)\n",
    "cplots.plot_single(imx.T, style='line', title='Imaginary Part')\n",
    "plt.xlabel('samples')\n",
    "plt.ylabel('amplitude');"
   ]
  },
  {
   "cell_type": "markdown",
   "metadata": {},
   "source": [
    "### Polar Notation\n",
    "\n",
    "As it has been described so far, the frequency domain is a group of amplitudes of cosine and sine waves (with slight scaling modifications). This is called rectangular notation. Alternatively, the frequency domain can be expressed in polar form. In this notation, $\\mathbf{Re}X[]$ & $\\mathbf{Im}X[]$ are replaced with two other arrays, called the Magnitude of $X[ ]$ , written in equations as: $\\mathbf{Mag} X[ ]$, and the Phase of $X[ ]$, written as: $\\mathbf{Phase} X[ ]$.\n",
    "\n",
    "The following equations show how to convert from rectangular to polar notation:\n",
    "\n",
    "$$\\mathbf{Mag}X[k] = \\left( \\mathbf{Re}X[k]^2 + \\mathbf{Im}X[k]^2 \\right)^{1/2}$$\n",
    "\n",
    "$$\\mathbf{Phase}X[k] = \\arctan\\frac{\\mathbf{Im}X[k]}{\\mathbf{Re}X[k]}$$\n",
    "\n",
    "\n",
    "The following equations show how to convert from polar to rectangular notation:\n",
    "\n",
    "$$\\mathbf{Re}X[k] = \\mathbf{Mag}X[k]\\cos{(\\mathbf{Phase}X[k])}$$\n",
    "\n",
    "$$\\mathbf{Im}X[k] = \\mathbf{Mag}X[k]\\sin{(\\mathbf{Phase}X[k])}$$"
   ]
  },
  {
   "cell_type": "markdown",
   "metadata": {},
   "source": [
    "###  Function implementation of polar notation\n",
    "Implement the polar notation for the DFT algorithm using the equations for $\\mathbf{Mag}X[k]$ and $\\mathbf{Phase}X[k]$."
   ]
  },
  {
   "cell_type": "code",
   "execution_count": null,
   "metadata": {},
   "outputs": [],
   "source": [
    "def dft_magnitude(rex, imx):\n",
    "    \"\"\" \n",
    "    Function that calculates the magnitude of an real and imaginary signal x.\n",
    "  \n",
    "    Parameters: \n",
    "    rex (numpy array): Array of numbers representing the real part of the DFT signal.\n",
    "    imx (numpy array): Array of numbers representing the imaginary part of the DFT signal.\n",
    "  \n",
    "    Returns: \n",
    "    numpy array: Returns magnitude of the real and imaginary signal.\n",
    "  \n",
    "    \"\"\"\n",
    "    \n",
    "    return None\n",
    "        \n",
    "    \n",
    "def dft_phase(rex, imx):\n",
    "    \"\"\" \n",
    "    Function that calculates the phase of an real and imaginary signal x.\n",
    "  \n",
    "    Parameters: \n",
    "    rex (numpy array): Array of numbers representing the real part of the DFT signal.\n",
    "    imx (numpy array): Array of numbers representing the imaginary part of the DFT signal.\n",
    "  \n",
    "    Returns: \n",
    "    numpy array: Returns phase of the real and imaginary signal.\n",
    "  \n",
    "    \"\"\"\n",
    "    \n",
    "    return None   "
   ]
  },
  {
   "cell_type": "code",
   "execution_count": null,
   "metadata": {},
   "outputs": [],
   "source": [
    "magx = dft_magnitude(rex, imx)\n",
    "phasex = dft_phase(rex, imx)"
   ]
  },
  {
   "cell_type": "code",
   "execution_count": null,
   "metadata": {},
   "outputs": [],
   "source": [
    "plt.subplot(1,2,1)\n",
    "cplots.plot_single(magx.T, style='line', title='Magnitude Response')\n",
    "plt.xlabel('samples')\n",
    "plt.ylabel('amplitude');\n",
    "plt.subplot(1,2,2)\n",
    "cplots.plot_single(phasex.T, style='line', title='Phase Response')\n",
    "plt.xlabel('samples')\n",
    "plt.ylabel('rads');"
   ]
  },
  {
   "cell_type": "markdown",
   "metadata": {},
   "source": [
    "### Polar Nuisances\n",
    "\n",
    "#### Nuisance 1: Radians vs. Degrees\n",
    "It is possible to express the phase in either degrees or radians. When expressed in degrees, the values in the phase signal are between -180 and 180. Using radians, each of the values will be between $-\\pi$ and $\\pi$.\n",
    "\n",
    "#### Nuisance 2: Divide by zero error\n",
    "When converting from rectangular to polar notation, it is very common to find frequencies where the real part is zero and the imaginary part is some nonzero value. This simply means that the phase is exactly 90 or -90 degrees. To avoid this problem, the real part must be tested for being zero before the division. If it is zero, the imaginary part must be tested for being positive or negative, to determine whether to set the phase to $\\pi /2$ or $-\\pi /2$, respectively. Lastly, the division just needs to be bypassed.\n",
    "\n",
    "#### Nuisance 3: Incorrect arctan\n",
    "This error occurs whenever the real part is negative. This problem can be corrected by testing the real and imaginary parts after the phase has been calculated. If both the real and imaginary parts are negative, subtract 180 (or $\\pi$ radians) from the calculated phase. If the real part is negative and the imaginary part is positive, add 180 (or $\\pi$ radians).\n",
    "\n",
    "#### Nuisance 4: Phase of very small magnitudes\n",
    "If the magnitude is negligibly small, the phase doesn't have any meaning, and can assume unusual values.\n",
    "![Phase of a small magnitude signal](Images/nuisance4.gif)\n",
    "\n",
    "#### Nuisance 5: $2\\pi$ ambiguity of the phase\n",
    "Every time a point looks as if it is going to dip below $-\\pi$, it snaps back to $\\pi$. This is a result of the periodic nature of sinusoids. For example, a phase shift of $\\theta$, is exactly the same as a phase shift of $\\theta + 2\\pi$, $\\theta + 4\\pi$, $\\theta + 6\\pi$, etc. Any sinusoid is unchanged when you add an integer multiple of $2\\pi$ to the phase. The apparent discontinuities in the signal are a result of the computer algorithm picking its favorite choice from an infinite number of equivalent possibilities. The smallest possible value is always chosen, keeping the phase between $-\\pi$ and $\\pi$. Sometimes is good to solve this issue by implementing a technique called **unwrapping the phase** which extends the phase above $\\pi$ or below $-\\pi$. The idea behind this algorithm is as follows: a multiple of $2\\pi$ is added or subtracted from each value of the phase based on a minimization of the difference between adjacent samples.\n",
    "\n",
    "#### Nuisance 6: The magnitude is always positive ($\\pi$ ambiguity of the phase)\n",
    "The following figure shows a frequency domain signal in rectangular and polar form. The real part is smooth and quite easy to understand, while the imaginary part is entirely zero. In comparison, the polar signals contain abrupt discontinuities and sharp corners. This is because the magnitude must always be positive, by *definition*. Whenever the real part dips below zero, the magnitude remains positive by changing the phase by $\\pi$ (or $-\\pi$, which is the same thing).\n",
    "\n",
    "![Rectangular and polar form of a signal](Images/nuisance6.gif)\n",
    "\n",
    "One solution is to allow the magnitude to have negative values while the phase would be entirely zero. We will use the term **unwrapped magnitude** to indicate a \"magnitude\" that is allowed to have negative values. \n",
    "\n",
    "#### Nuisance 7: Spikes between $\\pi$ and $-\\pi$\n",
    "Since $\\pi$ and $-\\pi$ represent exactly the same phase shift, round-off noise can cause adjacent points in the phase to rapidly switch between the two values. As shown in the previous figure (d), this can produce sharp breaks and spikes in an otherwise smooth curve. Don't be fooled, the phase isn't really this discontinuous."
   ]
  },
  {
   "cell_type": "markdown",
   "metadata": {},
   "source": [
    "###  Function implementation of polar nuisances\n",
    "Now that you have seen the different nuisances that might occur during the polar implementation of the DFT, it is your time to implement some auxiliary functions to solve these issues.  \n",
    "\n",
    "First you will implement the function `arctan_correct` which fixes the nuisance number 3."
   ]
  },
  {
   "cell_type": "code",
   "execution_count": null,
   "metadata": {},
   "outputs": [],
   "source": [
    "def arctan_correct(rex, imx, phase):\n",
    "    \"\"\" \n",
    "    Function that corrects the arctan calculation. If both the real and \n",
    "    imaginary parts are negative, subtract 180 (or 𝜋 radians) from the\n",
    "    calculated phase. If the real part is negative and the imaginary part\n",
    "    is positive, add 180 (or 𝜋 radians)\n",
    "  \n",
    "    Parameters: \n",
    "    rex (numpy array): Array of numbers representing the real part of the DFT signal.\n",
    "    imx (numpy array): Array of numbers representing the imaginary part of the DFT signal.\n",
    "    phase (numpy array): Array of numbers representing the phase of the DFT signal.\n",
    "  \n",
    "    Returns: \n",
    "    numpy array: Returns corrected arctan calculation of phase.\n",
    "  \n",
    "    \"\"\"\n",
    "    \n",
    "                   \n",
    "    return None"
   ]
  },
  {
   "cell_type": "markdown",
   "metadata": {},
   "source": [
    "Here you can test your `arctan_correct` function implementation, don't worry about the division by zero warning, you will fix this soon. Try to understand what is happening."
   ]
  },
  {
   "cell_type": "code",
   "execution_count": null,
   "metadata": {},
   "outputs": [],
   "source": [
    "rex, imx = dft(x)\n",
    "output = arctan_correct(rex, imx, np.arctan(imx/rex))\n",
    "\n",
    "plt.plot(output, label='Corrected Arctan');\n",
    "plt.plot(dft_phase(rex, imx), label='Arctan');\n",
    "plt.title('Phase')\n",
    "\n",
    "plt.xlabel('samples')\n",
    "plt.ylabel('rads')\n",
    "\n",
    "plt.grid()\n",
    "plt.legend();"
   ]
  },
  {
   "cell_type": "markdown",
   "metadata": {},
   "source": [
    "Now you will develop the `unwrap` function which solves nuisance number 5."
   ]
  },
  {
   "cell_type": "code",
   "execution_count": null,
   "metadata": {},
   "outputs": [],
   "source": [
    "def unwrap(phase):\n",
    "    \"\"\" \n",
    "    Function that ensures that all appropriate multiples of 2𝜋 have been included.\n",
    "  \n",
    "    Parameters: \n",
    "    phase (numpy array): Array of numbers representing the phase of the DFT signal.\n",
    "  \n",
    "    Returns: \n",
    "    numpy array: Returns unwrapped phase.\n",
    "  \n",
    "    \"\"\"\n",
    "    \n",
    "           \n",
    "    return None"
   ]
  },
  {
   "cell_type": "markdown",
   "metadata": {},
   "source": [
    "Here you can test your `unwrap` function implementation. Can you understand what is happening now?"
   ]
  },
  {
   "cell_type": "code",
   "execution_count": null,
   "metadata": {},
   "outputs": [],
   "source": [
    "file = {'h':'Signals/filter_response.dat'}\n",
    "\n",
    "h = np.loadtxt(file['h'])\n",
    "\n",
    "N = h.shape[0]\n",
    "h = h.reshape(N, 1)\n",
    "\n",
    "plt.plot(h, label='Wrapped');\n",
    "plt.plot(unwrap(h), label='Unwrapped');\n",
    "plt.title('Phase')\n",
    "plt.xlabel('samples')\n",
    "plt.ylabel('rads');\n",
    "\n",
    "plt.grid()\n",
    "plt.legend();"
   ]
  },
  {
   "cell_type": "markdown",
   "metadata": {},
   "source": [
    "Lastly you will again implement your `dft_phase` function, but now you will have to take into account the following nuisances: \n",
    "* division by zero\n",
    "* incorrect arctan calculation \n",
    "* phase ambiguity"
   ]
  },
  {
   "cell_type": "code",
   "execution_count": null,
   "metadata": {},
   "outputs": [],
   "source": [
    "def dft_phase(rex, imx, correct_arctan=True, correct_unwrap=True):\n",
    "    \"\"\" \n",
    "    Function that calculates the phase of an real and imaginary signal x. \n",
    "    Solving the different nuisances that might occur.\n",
    "  \n",
    "    Parameters: \n",
    "    rex (numpy array): Array of numbers representing the real part of the DFT signal.\n",
    "    imx (numpy array): Array of numbers representing the imaginary part of the DFT signal.\n",
    "    correct_arctan (boolean): If True arctan correction is performed.\n",
    "    correct_unwrap (boolean): If True phase abiguity correction is performed.\n",
    "  \n",
    "    Returns: \n",
    "    numpy array: Returns phase of the real and imaginary signal.\n",
    "  \n",
    "    \"\"\"\n",
    "    \n",
    "    #SOLVE Nuisance 2: Divide by zero error\n",
    "\n",
    "    \n",
    "    #SOLVE Nuisance 3: Incorrect arctan\n",
    "\n",
    "                    \n",
    "    #SOLVE Nuisance 5: 2𝜋 ambiguity of the phase \n",
    "    \n",
    "    return None"
   ]
  },
  {
   "cell_type": "markdown",
   "metadata": {},
   "source": [
    "Finally you will test your `dft_phase` implementation and plot it's results."
   ]
  },
  {
   "cell_type": "code",
   "execution_count": null,
   "metadata": {},
   "outputs": [],
   "source": [
    "magx = dft_magnitude(rex, imx)\n",
    "phasex = dft_phase(rex, imx, correct_arctan=True, correct_unwrap=True)\n",
    "\n",
    "plt.subplot(1,2,1)\n",
    "plt.plot(magx, label='Corrected Arctan');\n",
    "plt.title('Magnitude')\n",
    "plt.xlabel('samples')\n",
    "plt.ylabel('amplitude')\n",
    "\n",
    "plt.subplot(1,2,2)\n",
    "plt.plot(phasex);\n",
    "plt.title('Phase')\n",
    "plt.xlabel('samples')\n",
    "plt.ylabel('rads')\n",
    "\n",
    "plt.grid();"
   ]
  },
  {
   "cell_type": "markdown",
   "metadata": {},
   "source": [
    "### Comparison of our results with Scipy\n",
    "In this part we will compare our previous results with the Fourier Transform implementation of SciPy. SciPy provides many user-friendly and efficient numerical routines, such as routines for numerical integration, interpolation, optimization, linear algebra, and statistics."
   ]
  },
  {
   "cell_type": "code",
   "execution_count": null,
   "metadata": {},
   "outputs": [],
   "source": [
    "from scipy.fftpack import fft\n",
    "\n",
    "#SciPy Calculations\n",
    "y =fft(x.flatten())\n",
    "mag = np.absolute(y)\n",
    "phase = np.arctan2(np.imag(y),np.real(y))\n",
    "\n",
    "#Our Implementation\n",
    "rex, imx = dft(x)\n",
    "magx = dft_magnitude(rex, imx)\n",
    "phasex = dft_phase(rex, imx)\n",
    "\n",
    "plt.subplot(1,2,1)\n",
    "plt.plot(mag[0:160], '.-', color = 'orange', label='SciPy Implementation');\n",
    "plt.plot(magx, label='Our Implementation')\n",
    "plt.xlabel('samples')\n",
    "plt.ylabel('amplitude')\n",
    "plt.legend()\n",
    "\n",
    "plt.subplot(1,2,2)\n",
    "plt.plot(phase[0:160], '.-', color = 'orange', label='SciPy Implementation');\n",
    "plt.plot(phasex, label='Our Implementation')\n",
    "plt.xlabel('samples')\n",
    "plt.ylabel('rads')\n",
    "plt.grid()\n",
    "plt.legend();"
   ]
  },
  {
   "cell_type": "markdown",
   "metadata": {},
   "source": [
    "### The Frequency Domain's Independent Variable\n",
    "The horizontal axis of the frequency domain can be referred to in four different ways, all of which are common in DSP. We can label our horizontal axis as follows:\n",
    "1. The number of samples from $0$ to $N/2$\n",
    "2. A fraction of the sampling rate between $0$ to $0.5$\n",
    "3. The natural frequency $\\omega$\n",
    "4. The analog frequencies used in a particular application"
   ]
  },
  {
   "cell_type": "code",
   "execution_count": null,
   "metadata": {},
   "outputs": [],
   "source": [
    "def frequency_domain(x, style='fraction', **kwargs):\n",
    "    \"\"\" \n",
    "    Function that calculates the frequency domain independent variable.\n",
    "\n",
    "    Parameters: \n",
    "    x (numpy array): Array of numbers representing the input signal to \n",
    "    obtain the frequency domain.\n",
    "    style (string): String value that selects between frequency domain's \n",
    "    independent variable.\n",
    "        'samples' returns number of samples between 0 to N/2\n",
    "        'fraction' returns a fraction of the sampling rate between 0 to 0.5\n",
    "        'natural' returns the natural frequency between 0 and pi.\n",
    "        'analog' returns analog frequency between 0 and fsamp/2\n",
    "    fsamp (float): Float value representing the sampling frequency. \n",
    "        (Only used for 'analog' style).\n",
    "\n",
    "    Returns: \n",
    "    numpy array: Returns frequency domain's independent variable.\n",
    "\n",
    "        \"\"\"\n",
    "       \n",
    "    if(style=='fraction'):\n",
    "        return None\n",
    "    elif(style=='natural'):\n",
    "        return None\n",
    "    elif(style=='analog'):\n",
    "        return None\n",
    "    elif(style=='samples'):\n",
    "        return None\n",
    "    else:\n",
    "        return None"
   ]
  },
  {
   "cell_type": "code",
   "execution_count": null,
   "metadata": {},
   "outputs": [],
   "source": [
    "fraction_domain = frequency_domain(magx, style='fraction')\n",
    "natural_domain = frequency_domain(magx, style='natural')\n",
    "analog_domain = frequency_domain(magx, style='analog', fsamp=44000)\n",
    "\n",
    "plt.suptitle(\"DFT Magnitude\", fontsize=14)\n",
    "plt.subplot(2,2,1)\n",
    "plt.plot(magx)\n",
    "plt.xlabel('Sample Domain')\n",
    "plt.ylabel('Amplitude')\n",
    "plt.grid()\n",
    "\n",
    "plt.subplot(2,2,2)\n",
    "plt.plot(fraction_domain, magx)\n",
    "plt.xlabel('Fraction Domain')\n",
    "plt.ylabel('Amplitude')\n",
    "\n",
    "plt.grid()\n",
    "\n",
    "plt.subplot(2,2,3)\n",
    "plt.plot(natural_domain, magx)\n",
    "plt.xlabel('Natural Domain')\n",
    "plt.ylabel('Amplitude')\n",
    "\n",
    "plt.grid()\n",
    "\n",
    "plt.subplot(2,2,4)\n",
    "plt.plot(analog_domain, magx)\n",
    "plt.xlabel('Analog Domain')\n",
    "plt.ylabel('Amplitude')\n",
    "plt.grid()\n",
    "plt.subplots_adjust(hspace = 0.5);"
   ]
  },
  {
   "cell_type": "markdown",
   "metadata": {},
   "source": [
    "### FourierTransform Class\n",
    "Now it is time to put everything you have learned into a class called `FourierTransform`. This class will have the following methods: `dft`, `dft_magnitude`, `dft_phase`, `arctan_correct`, `unwrap` and `frequency_domain`. Each method will have the same behavior as the functions already implemented, but now when you create an object of type Fourier with an input signal the object will have it's outputs as attributes. You can check the code below as a blue print for your class. Remember to save your class in the `Common` folder as `fourier_transform.py`."
   ]
  },
  {
   "cell_type": "code",
   "execution_count": null,
   "metadata": {},
   "outputs": [],
   "source": [
    "class FourierTransform:\n",
    "    def __init__(self, signal, correct_arctan=True, correct_unwrap=True, domain='fraction', **kwargs):\n",
    "        \"\"\"\n",
    "        Function that calculates the DFT of an input signal.\n",
    "        Parameters:\n",
    "        signal(numpy array): Array of numbers representing the input signal to be transformed.\n",
    "        correct_arctan (boolean): If True arctan correction is performed.\n",
    "        correct_unwrap (boolean): If True phase abiguity correction is performed.\n",
    "        \n",
    "        Attributes: \n",
    "        signal (numpy array): Original input signal.\n",
    "        N (int): Size of input signal.\n",
    "        rex (numpy array): Real DFT part of input signal.\n",
    "        imx (numpy array): Imaginary DFT part of input signal.\n",
    "        magx (numpy array): Magnitude of the real and imaginary DFT.\n",
    "        phasex (numpy array): Phase of the real and imaginary DFT.\n",
    "        domain (numpy array): Frequency domain's independent variable.        \n",
    "        \"\"\"\n",
    "        \n",
    "        self.signal = None\n",
    "        self.N = None\n",
    "        self.rex, self.imx = None\n",
    "        self.magx = None\n",
    "        self.phasex = None\n",
    "        self.domain = None\n",
    "        return"
   ]
  },
  {
   "cell_type": "markdown",
   "metadata": {},
   "source": [
    "### Test your Fourier Class\n",
    "You can run this test and check if you have the same result as int the previous examples. If your result differ try to fix them."
   ]
  },
  {
   "cell_type": "code",
   "execution_count": null,
   "metadata": {},
   "outputs": [],
   "source": [
    "from Common import fourier_transform\n",
    "\n",
    "domain = 'samples'\n",
    "\n",
    "legends = {'fraction':'Fraction Frequency Domain', 'natural':'Natural Frequency Domain',\n",
    "          'analog':'Analog Frequency Domain', 'samples':'Samples'}\n",
    "X = fourier_transform.FourierTransform(x, correct_arctan=True, correct_unwrap=True, domain=domain, fsamp=1000)"
   ]
  },
  {
   "cell_type": "code",
   "execution_count": null,
   "metadata": {},
   "outputs": [],
   "source": [
    "plt.plot(X.domain, X.phasex)\n",
    "plt.grid()\n",
    "plt.ylabel('rads')\n",
    "plt.xlabel(legends[domain])\n",
    "plt.title('Phase Response');"
   ]
  }
 ],
 "metadata": {
  "kernelspec": {
   "display_name": "Python 3",
   "language": "python",
   "name": "python3"
  },
  "language_info": {
   "codemirror_mode": {
    "name": "ipython",
    "version": 3
   },
   "file_extension": ".py",
   "mimetype": "text/x-python",
   "name": "python",
   "nbconvert_exporter": "python",
   "pygments_lexer": "ipython3",
   "version": "3.8.3"
  }
 },
 "nbformat": 4,
 "nbformat_minor": 2
}
