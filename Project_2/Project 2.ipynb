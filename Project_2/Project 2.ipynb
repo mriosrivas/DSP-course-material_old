{
 "cells": [
  {
   "cell_type": "markdown",
   "metadata": {},
   "source": [
    "# Rock vs Metal\n",
    "\n",
    "This Jupyter Notebook is inspired in the following papers [Analysis of Hidden Units in a Layered Network\n",
    "Trained to Classify Sonar Targets](http://citeseerx.ist.psu.edu/viewdoc/download?doi=10.1.1.84.6963&rep=rep1&type=pdf) and [Learned Classification of Sonar Targets Using a\n",
    "Massively Parallel Network](https://citeseerx.ist.psu.edu/viewdoc/download?doi=10.1.1.164.2513&rep=rep1&type=pdf) by Paul Gorman and Terrence Sejnowski. In order to complete this project, I highly recommend that you read both papers to fully understand the problems that you will later solve."
   ]
  },
  {
   "cell_type": "markdown",
   "metadata": {},
   "source": [
    "## Part 1:\n",
    "### Create a reflected FM chirp signal\n",
    "A chirp is a signal in which the frequency increases (up-chirp) or decreases (down-chirp) with time. It is commonly applied to sonar, radar, and laser systems, and to other applications, such as in spread-spectrum communications.\n",
    "\n",
    "In spread-spectrum usage, surface acoustic wave (SAW) devices are often used to generate and demodulate the chirped signals. In optics, ultrashort laser pulses also exhibit chirp, which, in optical transmission systems, interacts with the dispersion properties of the materials, increasing or decreasing total pulse dispersion as the signal propagates. The name is a reference to the chirping sound made by birds. \n",
    "\n",
    "In this part two task are described:\n",
    "1. How to create a linear FM swept-frequency cosine chirp signal?\n",
    "2. How to model the received sonar signal? \n",
    "\n",
    "#### 1. Mathematical description of the chirp signal\n",
    "This signal is defined as follows:\n",
    "\n",
    "$$x(t)=\\cos{\\left( \\phi(t) + \\rho \\right)}$$\n",
    "\n",
    "where $\\phi(t)$ is the instantaneous phase of the signal given by\n",
    "\n",
    "$$\\phi(t)=\\int_{0}^{t} 2\\pi f(t) dt$$\n",
    "\n",
    "and $f(t)$ as\n",
    "$$f(t) = f_0 + \\frac{(f_1-f_0)t}{t_1}$$\n",
    "\n",
    "where $t_1$ is the chirp's duration, $f_0$ is the initial frequency, and $f_1$ is the frequency at time $t_1$.\n",
    "\n",
    "#### 2. Mathematical model of the received chirp signal\n",
    "We can model our received sonar chirp signal $\\hat{x}(t)$ as modified version of the original signal $x(t)$ as follows:\n",
    "\n",
    "suppose we have a transmitted signal\n",
    "\n",
    "$$x(t)=\\cos{\\left( \\phi(t) + \\rho \\right)}$$\n",
    "\n",
    "Which has been affected by three main sources of distortion:\n",
    "1. additive white noise $n(t)$,\n",
    "2. propagation effect, modeled as an exponential decay,\n",
    "3. random time delay $\\tau$ at the receiving end\n",
    "\n",
    "then we can formulate an equation as follows\n",
    "\n",
    "$$\\hat{x}(t)=e^{t}x(t-\\tau)+n(t)$$\n",
    "\n",
    "that describes the received signal."
   ]
  },
  {
   "cell_type": "markdown",
   "metadata": {},
   "source": [
    "### Create your python functions\n",
    "In this part you will implement the following two functions:\n",
    "1. `chirp` which is a function that returns a chirp signal like the one described in **Mathematical description of the chirp signal**\n",
    "2. `noisy_chirp` which is a function that returns a signal like the one described in **Mathematical model of the received chirp signal**"
   ]
  },
  {
   "cell_type": "code",
   "execution_count": null,
   "metadata": {},
   "outputs": [],
   "source": [
    "import numpy as np\n",
    "import matplotlib.pyplot as plt\n",
    "from scipy.signal import chirp as scipy_chirp"
   ]
  },
  {
   "cell_type": "markdown",
   "metadata": {},
   "source": [
    "First create your `chirp` function. For this task, you will also create a function `get_phase` which calculates the phase needed for the `chirp` signal."
   ]
  },
  {
   "cell_type": "code",
   "execution_count": null,
   "metadata": {},
   "outputs": [],
   "source": [
    "def get_phase(t, f0, f1, t1):\n",
    "    \"\"\"\n",
    "    Auxiliary function that performs the calculation of the phase of a linear instantaneous frequency.\n",
    "    :param t: (numpy vector) defines the time at which we evaluate the waveform\n",
    "    :param f0: (float) frequency in Hz. at time t=0.\n",
    "    :param f1: (float) frequency in Hz. of the waveform at time t1.\n",
    "    :param t1: (float) time at which f1 is specified\n",
    "    :return: phase calculation of the linear instantaneous frequency\n",
    "    \"\"\"\n",
    "    return None\n",
    "\n",
    "\n",
    "def chirp(t, f0, f1, t1, phi=0):\n",
    "    \"\"\"\n",
    "    Function that calculates an FM chirp signal.\n",
    "    :param t: (numpy vector) defines the time at which we evaluate the waveform\n",
    "    :param f0: (float) frequency in Hz. at time t=0.\n",
    "    :param f1: (float) frequency in Hz. of the waveform at time t1.\n",
    "    :param t1: (float) time at which f1 is specified\n",
    "    :param phi: (float, optional) Phase offset, in degrees. Default is 0.\n",
    "    :return: (numpy array) chirp FM signal\n",
    "    \"\"\"\n",
    "    \n",
    "    return None"
   ]
  },
  {
   "cell_type": "markdown",
   "metadata": {},
   "source": [
    "Now test your implementation against the SciPy implementation of the chirp signal. If your results match, then everything is working perfectly!"
   ]
  },
  {
   "cell_type": "code",
   "execution_count": null,
   "metadata": {},
   "outputs": [],
   "source": [
    "f0 = 1\n",
    "f1 = 6\n",
    "t1 = 100*(1/f1)\n",
    "t = np.linspace(0, t1, 1500)\n",
    "\n",
    "signal_test = chirp(t, f0, f1, t1)\n",
    "signal_reference = scipy_chirp(t, f0=f0, f1=f1, t1=t1, method='linear')\n",
    "\n",
    "match = np.allclose(signal_test, signal_reference)\n",
    "\n",
    "if match:\n",
    "    print(\"Your test and reference signals are same. Gret work!\")\n",
    "else:\n",
    "    print(\"Your test and reference signals differ.\")\n",
    "\n",
    "plt.subplot(2,1,1)\n",
    "plt.plot(t, signal_test)\n",
    "plt.title(\"Chirp Test Signal\")\n",
    "plt.xlabel(\"Time\")\n",
    "plt.ylabel(\"Amplitude\")\n",
    "\n",
    "plt.subplot(2,1,2)\n",
    "plt.plot(t, signal_reference)\n",
    "plt.title(\"Chirp Reference Signal\")\n",
    "plt.xlabel(\"Time\")\n",
    "plt.ylabel(\"Amplitude\")\n",
    "\n",
    "plt.subplots_adjust(hspace=0.8)\n",
    "\n",
    "assert match, \"Check your code! Your implementation has some errors!\""
   ]
  },
  {
   "cell_type": "markdown",
   "metadata": {},
   "source": [
    "Now make your noisy chirp signal. For this task you will create the `noisy_chirp` function, remember that the function performs the following calculation:\n",
    "\n",
    "$$\\hat{x}(t)=e^{t}x(t-\\tau)+n(t)$$\n",
    "\n",
    "Bear in mind that $\\tau$ introduces an offset to the signal, and at the end of the signal there's also a trailing data received. The following image can explain this idea:\n",
    "\n",
    "![Received](Images/received_signal.png)\n",
    "\n",
    "So in order to define your `noisy_chirp` you will have to create this two variables `tau` and `trail` which increases the size of the original transmitted signal. We will use random values between `50` and `60` for each variable, you can assign these variables using the numpy function `random.randint` for this purpose. Assume noise as a random process with mean zero and standard deviation of `0.2`."
   ]
  },
  {
   "cell_type": "code",
   "execution_count": null,
   "metadata": {},
   "outputs": [],
   "source": [
    "def noisy_chirp(x, t):\n",
    "    \"\"\"\n",
    "    Function that calculates a noisy FM chirp signal. Assume \n",
    "    :param x: (numpy vector) input chirp signal\n",
    "    :param t: (numpy vector) defines the time at which we evaluate the waveform\n",
    "    :return: (numpy array) noisy chirp FM signal\n",
    "    \"\"\"\n",
    "    np.random.seed(123) #Set this to have the same results.\n",
    "    \n",
    "    \n",
    "    return None"
   ]
  },
  {
   "cell_type": "markdown",
   "metadata": {},
   "source": [
    "Now test your noisy signal with the following code. If everything works well it should look very similar to this image:\n",
    "\n",
    "![Noisy](Images/noisy_signal.png)\n"
   ]
  },
  {
   "cell_type": "code",
   "execution_count": null,
   "metadata": {},
   "outputs": [],
   "source": [
    "f0 = 13000\n",
    "f1 = 21000\n",
    "t1 = 100*(1/f1)\n",
    "t = np.linspace(0, t1, 120)\n",
    "\n",
    "transmitted = chirp(t, f0, f1, t1)\n",
    "\n",
    "received = noisy_chirp(transmitted, t)\n",
    "plt.plot(received)\n",
    "plt.title(\"Noisy Generated Signal\")\n",
    "plt.ylabel(\"Amplitude\")\n",
    "plt.xlabel(\"Time\");"
   ]
  },
  {
   "cell_type": "markdown",
   "metadata": {},
   "source": [
    "## Part 2:\n",
    "### Find the power spectral density\n",
    "Right now our problem is that we want to estimate the power spectral density of a wide-sense stationary random process. The main problem of power spectrum estimation is that data $x[n]$ is always finite. There are two basic approaches to solve this problem:\n",
    "1. Nonparametric such as *Periodogram*, *Bartlett* and *Welch* (most common)\n",
    "2. Parametric approaches (less common)\n",
    "\n",
    "For our implementation we will use Bartlett's method, if you want further information about other methods you can check this [link](http://www.laurent-duval.eu/Documents-Common/Schuster_G_2010_lect_spectrum_upbw.pdf).\n",
    "\n",
    "Bartlett’s method consists of the following steps:\n",
    "\n",
    "1. The original N point data segment is split up into K (non-overlapping) data segments, each of length M\n",
    "2. For each segment, compute the periodogram by computing the discrete Fourier transform (DFT version which does not divide by M), then computing the squared magnitude of the result and dividing this by M.\n",
    "3. Average the result of the periodograms above for the K data segments. (The averaging reduces the variance, compared to the original N point data segment.)\n",
    "\n",
    "The end result is an array of power measurements vs. frequency \"bin\"."
   ]
  },
  {
   "cell_type": "code",
   "execution_count": null,
   "metadata": {},
   "outputs": [],
   "source": [
    "import sys\n",
    "sys.path.insert(0, '../')\n",
    "\n",
    "from scipy import signal\n",
    "from Common import complex_fourier_transform"
   ]
  },
  {
   "cell_type": "code",
   "execution_count": null,
   "metadata": {},
   "outputs": [],
   "source": [
    "def bartlett_periodogram(x, nperseg, fs=1.0):\n",
    "    \"\"\"\n",
    "    Estimate power spectral density using Bartlett’s method.\n",
    "    :param x: (numpy vector) input signal\n",
    "    :param nperseg: (int) length of each segment of data\n",
    "    :param fs: (float) sampling frequency of the x time series. Defaults to 1.0.\n",
    "    :return: freq (numpy vector) normalized frequency values between 0 and 0.5 for psd calculation\n",
    "             psd (numpy vector) power spectral density using Bartlett’s method\n",
    "    \"\"\"\n",
    "    \n",
    "    return freq, psd #Be cautious to always set psd[0]=0\n",
    "    \n",
    "\n",
    "def fix_size(x, N=64):\n",
    "    \"\"\"\n",
    "    Auxiliary function to give a power of two dimension to input x\n",
    "    (No need to change anything here.)\n",
    "    :param x: (numpy vector) input signal\n",
    "    :param N: (int) minimum size input x should have\n",
    "    :return: (numpy vector) vector x with size(x)%N zeros appended\n",
    "    \"\"\"\n",
    "    zeros = x.shape[0] % N\n",
    "    if zeros>0:\n",
    "        temp = np.zeros((N-zeros, 1))\n",
    "    return np.append(x, temp)\n"
   ]
  },
  {
   "cell_type": "markdown",
   "metadata": {},
   "source": [
    "Now it is time to test your `bartlett_periodogram` implementation, for this purpose you will compare it with the `signal.welch` from SciPy. The `signal.welch` implementation performs the Welch's method for estimating the spectral density of a signal, since Welch's method is an upgrade version of Bartlett's, we can get the same results for both methods by setting the overlap for Welch's method to zero. You can get more information about Welch's method [here](https://en.wikipedia.org/wiki/Welch%27s_method). Note that Welch returns the power spectral density, which is the power spectrum times $f_s$ and it compensates for cutting away half the spectrum by multiplying with $2$. To compensate, we multiply Bartlett's method by $2f_s$ in order to compare with Welch.\n",
    "Check your results, and if the plots match, then everything works well!"
   ]
  },
  {
   "cell_type": "code",
   "execution_count": null,
   "metadata": {},
   "outputs": [],
   "source": [
    "nperseg = 32\n",
    "fs = 1\n",
    "\n",
    "f_bartlett, psd_bartlett = bartlett_periodogram(fix_size(received), nperseg=nperseg)\n",
    "\n",
    "f_welch, psd_welch = signal.welch(fix_size(received), fs=fs, nperseg=nperseg, \n",
    "                                nfft=nperseg, window='boxcar', noverlap=0)\n",
    "\n",
    "f = f_bartlett\n",
    "\n",
    "plt.plot(f, 2*fs*psd_bartlett, label=\"Custom Implementation\")\n",
    "plt.plot(f, psd_welch[:-1], label=\"SciPy\") \n",
    "plt.title(\"Power Spectral Density\")\n",
    "plt.xlabel(\"Normalized Frequency\")\n",
    "plt.ylabel(\"$V^2Hz$\")\n",
    "plt.legend();"
   ]
  },
  {
   "cell_type": "markdown",
   "metadata": {},
   "source": [
    "## Part 3:\n",
    "### Create a simple classifier by using the correlation\n",
    "In this final part you will implement a simple correlation classifier for the [**Connectionist Bench (Sonar, Mines vs. Rocks) Data Set**](http://archive.ics.uci.edu/ml/datasets/connectionist+bench+(sonar,+mines+vs.+rocks)). This dataset is the same used in the papers described at the beginning of this Jupyter Notebook. To simplify our task we are going to use Pandas, which is simple data analysis and manipulation tool for python."
   ]
  },
  {
   "cell_type": "code",
   "execution_count": null,
   "metadata": {},
   "outputs": [],
   "source": [
    "import pandas as pd\n",
    "from Common import correlation\n",
    "\n",
    "corr = correlation.Correlation()"
   ]
  },
  {
   "cell_type": "markdown",
   "metadata": {},
   "source": [
    "First we load our dataset which is called `dataset_sonar.csv` and it is stored in the `Dataset` folder. We also defined a function called `get_data` whose purpose is to simplify our data retrieval."
   ]
  },
  {
   "cell_type": "code",
   "execution_count": null,
   "metadata": {},
   "outputs": [],
   "source": [
    "file = \"Dataset/dataset_sonar.csv\"\n",
    "data = pd.read_csv(file)\n",
    "\n",
    "def get_data(data, k):\n",
    "    x = data.iloc[k][0:-1]\n",
    "    y = data.iloc[k][-1]\n",
    "    return x, y"
   ]
  },
  {
   "cell_type": "markdown",
   "metadata": {},
   "source": [
    "Here you can see how our data looks and how different a signal from a Rock and Mine is received."
   ]
  },
  {
   "cell_type": "code",
   "execution_count": null,
   "metadata": {},
   "outputs": [],
   "source": [
    "x0, y0 = get_data(data, k=1)\n",
    "x1, y1 = get_data(data, k=97)\n",
    "t = np.arange(x0.shape[0])\n",
    "\n",
    "plt.plot(t, x0, label=y0)\n",
    "plt.plot(t, x1, label=y1)\n",
    "plt.title(\"Power Spectral Density\")\n",
    "plt.ylabel(\"$V^2Hz$\")\n",
    "plt.legend();"
   ]
  },
  {
   "cell_type": "markdown",
   "metadata": {},
   "source": [
    "### Implement an average signal model\n",
    "In this part you will implement an `average_signal` function, whose purpose is to find a mean rock and mine signal. The main objective of this function is to sum all rock/mine signals and return an average of a rock/mine signal."
   ]
  },
  {
   "cell_type": "code",
   "execution_count": null,
   "metadata": {},
   "outputs": [],
   "source": [
    "def average_signal(data, k_range):\n",
    "    \"\"\"\n",
    "    Function that calculates the average of a given data set.\n",
    "    :param data: (pandas dataframe) data that has the rock/mines dataset\n",
    "    :param k_range: (tuple) initial and final value to iterate our data\n",
    "    :return: average signal calculation\n",
    "    \"\"\"\n",
    "\n",
    "    return None"
   ]
  },
  {
   "cell_type": "markdown",
   "metadata": {},
   "source": [
    "Here you can test your `average_signal` implementation, and see the results of each one."
   ]
  },
  {
   "cell_type": "code",
   "execution_count": null,
   "metadata": {},
   "outputs": [],
   "source": [
    "rock = average_signal(data, (0,97))\n",
    "mine = average_signal(data, (97,208))"
   ]
  },
  {
   "cell_type": "code",
   "execution_count": null,
   "metadata": {},
   "outputs": [],
   "source": [
    "plt.plot(t, rock, label=\"rock\")\n",
    "plt.plot(t, mine, label=\"mine\")\n",
    "plt.title(\"Mean Power Spectral Density\")\n",
    "plt.ylabel(\"$V^2Hz$\")\n",
    "plt.legend();"
   ]
  },
  {
   "cell_type": "markdown",
   "metadata": {},
   "source": [
    "### Evaluate your model\n",
    "Now test your model and see how accurate is. For this we evaluate the correlation between the average rock and mine signal against any signal, for example `k=152`, and we decide that the correlation which is bigger belongs to that class. So for example if correlation between our signal and mine is bigger than correlation between our signal and rock, then the signal must come from a mine."
   ]
  },
  {
   "cell_type": "code",
   "execution_count": null,
   "metadata": {},
   "outputs": [],
   "source": [
    "x_eval, y_eval = get_data(data, k=152)\n",
    "\n",
    "rock_corr = corr.norm_correlation((np.array(x_eval.values)).reshape(-1,1),\n",
    "                      (rock.values).reshape(-1,1), algorithm='fast')\n",
    "\n",
    "mine_corr = corr.norm_correlation((np.array(x_eval.values)).reshape(-1,1),\n",
    "                      (mine.values).reshape(-1,1), algorithm='fast')\n",
    "\n",
    "\n",
    "if rock_corr.max()>mine_corr.max():\n",
    "    print(\"Predicted material type = Rock\")\n",
    "else:\n",
    "    print(\"Predicted material type = Mine\")\n",
    "    \n",
    "print(\"Real material = {}\".format(y_eval))"
   ]
  },
  {
   "cell_type": "markdown",
   "metadata": {},
   "source": [
    "### Evaluate on every signal\n",
    "As a final exercise you will have to evaluate on every signal on the dataset against our average rock/mine signals and evaluate how accurate this classifier is. We define accuracy as:\n",
    "$$ ac = \\frac{cls}{ts}*100$$\n",
    "\n",
    "where $ac$ is the accuracy, $cls$ are the correct label signals, and $ts$ are total signals."
   ]
  },
  {
   "cell_type": "code",
   "execution_count": null,
   "metadata": {},
   "outputs": [],
   "source": [
    "# Implement your accuracy calculation"
   ]
  },
  {
   "cell_type": "markdown",
   "metadata": {},
   "source": [
    "## Part 4:\n",
    "As a final exercise, try to think how can you come with a better classifier. And write what you can come up with. (You don't have to implement any code.)"
   ]
  },
  {
   "cell_type": "code",
   "execution_count": null,
   "metadata": {},
   "outputs": [],
   "source": []
  }
 ],
 "metadata": {
  "kernelspec": {
   "display_name": "Python 3",
   "language": "python",
   "name": "python3"
  },
  "language_info": {
   "codemirror_mode": {
    "name": "ipython",
    "version": 3
   },
   "file_extension": ".py",
   "mimetype": "text/x-python",
   "name": "python",
   "nbconvert_exporter": "python",
   "pygments_lexer": "ipython3",
   "version": "3.8.3"
  }
 },
 "nbformat": 4,
 "nbformat_minor": 4
}
