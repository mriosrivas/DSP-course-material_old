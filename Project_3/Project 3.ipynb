{
 "cells": [
  {
   "cell_type": "markdown",
   "metadata": {},
   "source": [
    "# FIR Filter Class Implementation"
   ]
  },
  {
   "cell_type": "markdown",
   "metadata": {},
   "source": [
    "This is the final exercise for the course and will test all the knowledge that you have gathered during this semester. The final exercise consist of developing a series of functions/methods to implement a `FIR` class in Python. For this, three files were provided and are stored in the `Common` directory. A brief description of which function or method needs to be modified in each file is presented here:\n",
    "\n",
    "```python\n",
    "fir.py\n",
    "\"Main file where filter implementations are developed, consist of the `FIR` class that you will develop. For this file you need to work on all methods.\"\n",
    "```\n",
    "\n",
    "```python\n",
    "fft.py\n",
    "\"Auxiliary file which consist of the `FFT` class that will help you to implement the `FIR` class from fir.py and zero_pad_fourier function from auxiliary.py. For this file you need to work on all functions.\"\n",
    "```\n",
    "\n",
    "```python\n",
    "auxiliary.py\n",
    "\"Auxiliary file, which was created in a previous exercise, and you will be adding two new functions: 1)zero_pad_fourier and 2)zero_pad\"\n",
    "```\n",
    "\n",
    "In order to succeed I recommend you to start with `fft.py` file, then with `auxiliary.py` and finish with the `fir.py` file."
   ]
  },
  {
   "cell_type": "code",
   "execution_count": null,
   "metadata": {},
   "outputs": [],
   "source": [
    "import sys\n",
    "sys.path.insert(0, '../')\n",
    "\n",
    "import numpy as np\n",
    "import matplotlib.pyplot as plt\n",
    "from Common import fir\n",
    "from Common import fft\n",
    "from Common import auxiliary\n",
    "from Common import common_plots"
   ]
  },
  {
   "cell_type": "code",
   "execution_count": null,
   "metadata": {},
   "outputs": [],
   "source": [
    "cplots = common_plots.Plot()\n",
    "flt = fir.FIR()\n",
    "fast_ft = fft.FFT()"
   ]
  },
  {
   "cell_type": "markdown",
   "metadata": {},
   "source": [
    "## Part 1: Test the `common_plots.py` file\n",
    "In this first part you will test how to use the `plot_frequency_response` method from the class `Plot` using a $sinc$ signal. \n",
    "\n",
    "Create a $sinc$ signal using `numpy` with normalized frequency of $f_c=0.20$, and a transition bandwidth of $0.04$. Be aware that when you implement your `shifted_sinc` method you can't use the `numpy` implementation of the `sinc` function, but for this test is correct to use it."
   ]
  },
  {
   "cell_type": "code",
   "execution_count": null,
   "metadata": {},
   "outputs": [],
   "source": [
    "fc = None #Write your code here\n",
    "BW = None #Write your code here\n",
    "M = None #Write your code here\n",
    "i = np.arange(0,M,1)\n",
    "\n",
    "h = None #Write your code here\n",
    "\n",
    "H = np.fft.fft(h)\n",
    "f = np.linspace(0,1,h.shape[0])\n",
    "\n",
    "cplots.plot_frequency_response(np.absolute(H).reshape(-1,1), f) #Note that this is a two sided spectrum"
   ]
  },
  {
   "cell_type": "markdown",
   "metadata": {},
   "source": [
    "## Part 2: Test your `fft.py` file\n",
    "Now we will compare your `FFT` class against numpy, and see if both: one sided and two sided results match. First run this test to see if your `fft` function works correctly:"
   ]
  },
  {
   "cell_type": "code",
   "execution_count": null,
   "metadata": {},
   "outputs": [],
   "source": [
    "h = np.sinc(2*i*fc)\n",
    "N = h.shape[0]\n",
    "L = 1024\n",
    "\n",
    "fc = 0.20\n",
    "BW = 0.04\n",
    "M = int(4/BW)\n",
    "i = np.arange(0,M,1)\n",
    "\n",
    "h_zero_pad = np.append(h,np.zeros(L-N))\n",
    "\n",
    "H_own_one_side = fast_ft.fft(h_zero_pad, one_sided=True)\n",
    "H_own_two_side = fast_ft.fft(h_zero_pad, one_sided=False)\n",
    "H_numpy = np.fft.fft(h_zero_pad)\n",
    "\n",
    "assert np.allclose(H_own_one_side, H_numpy[0:L//2]), \"Your implementation missmatches numpy's, check your code!\"\n",
    "print(\"Great work! One sided implementation rocks!\")\n",
    "\n",
    "assert np.allclose(H_own_two_side, H_numpy), \"Your implementation missmatches numpy's, check your code!\"\n",
    "print(\"But is better to have a two sided implementation! Excellent work!\")"
   ]
  },
  {
   "cell_type": "markdown",
   "metadata": {},
   "source": [
    "Now let's run this code and see if the function `ifft` also works well:"
   ]
  },
  {
   "cell_type": "code",
   "execution_count": null,
   "metadata": {},
   "outputs": [],
   "source": [
    "h_own_two_side = fast_ft.ifft(H_own_two_side).astype('complex')\n",
    "h_own_two_side[0] = h_own_two_side[0]/2\n",
    "\n",
    "plt.plot(np.real(h_own_two_side[0:N]))\n",
    "plt.plot(h)\n",
    "\n",
    "assert np.allclose(h_own_two_side[0:M], h), \"It seems there is an error, check your ifft function\"\n",
    "print(\"You have been doing a great work! Your IFFT is doing an amazing job!\")"
   ]
  },
  {
   "cell_type": "markdown",
   "metadata": {},
   "source": [
    "## Part 3: Test your `auxiliary.py` file\n",
    "At this moment you can test your `zero_pad_fourier` method and check if both methods `DFT` and `FFT` works. The provided code test against numpy's implementation of the Fast Fourier Transform:"
   ]
  },
  {
   "cell_type": "code",
   "execution_count": null,
   "metadata": {},
   "outputs": [],
   "source": [
    "fc = 0.20\n",
    "BW = 0.04\n",
    "M = int(4/BW)\n",
    "i = np.arange(0,M,1)\n",
    "L = 2048\n",
    "\n",
    "h = np.sinc(2*i*fc)\n",
    "h_zero_pad = np.append(h,np.zeros(L-N))\n",
    "H_numpy = np.fft.fft(h_zero_pad).reshape(-1,1)\n",
    "f = np.linspace(0,0.5,L//2)\n",
    "\n",
    "H_dft, f_dft = auxiliary.zero_pad_fourier(h.reshape(-1,1), M, method='DFT', L=L)\n",
    "H_fft, f_fft = auxiliary.zero_pad_fourier(h.reshape(-1,1), M, method='FFT', L=L)\n",
    "print(H_dft.shape)\n",
    "\n",
    "cplots.plot_frequency_response(np.absolute(H_numpy[0:L//2]), f, label='Numpy implemetation')\n",
    "cplots.plot_frequency_response(np.absolute(H_dft), f_dft, label='DFT implemetation')\n",
    "cplots.plot_frequency_response(np.absolute(H_fft), f_fft, label='FFT implemetation')\n",
    "\n",
    "assert np.allclose(np.absolute(H_numpy[0:L//2]), np.absolute(H_fft)), \"Your implementation missmatches numpy's, check your fft implementation.\"\n",
    "print(\"Perfect! Both filters are doing an amazing job!\")"
   ]
  },
  {
   "cell_type": "markdown",
   "metadata": {},
   "source": [
    "## Part 4: Test your `fir.py` file\n",
    "This is the last part of the Jupyter Notebook. In here you will test your window filter, then your low, high, pass band, and reject band filters.\n",
    "\n",
    "### 4.1 Test your window filter\n",
    "The first test we will perform is going to be on our window filters. We will check both `blackman` and `hamming` types and compare it's results for the spectral inversion and spectral reversal calculations."
   ]
  },
  {
   "cell_type": "code",
   "execution_count": null,
   "metadata": {},
   "outputs": [],
   "source": [
    "fc = 0.20\n",
    "M = 103 #Now we use an odd number\n",
    "L = 1024\n",
    "\n",
    "hamming = flt.window_filter(fc, M, window_type='hamming', normalized=True)\n",
    "blackman = flt.window_filter(fc, M, window_type='blackman', normalized=True)\n",
    "\n",
    "# Spectral inversion \n",
    "hamming_inverted = flt.spectral_inversion(hamming)\n",
    "blackman_inverted = flt.spectral_inversion(blackman)\n",
    "\n",
    "# Spectral reversal\n",
    "hamming_reversal = flt.spectral_reversal(hamming)\n",
    "blackman_reversal = flt.spectral_reversal(blackman)\n",
    "\n",
    "print(hamming.shape)"
   ]
  },
  {
   "cell_type": "code",
   "execution_count": null,
   "metadata": {},
   "outputs": [],
   "source": [
    "# Fourier transformations for Hamming Filters\n",
    "H, f_h = auxiliary.zero_pad_fourier(hamming, M)\n",
    "H_inv, f_h_inv = auxiliary.zero_pad_fourier(hamming_inverted, M, method='FFT', L=L)\n",
    "H_rev, f_h_rev = auxiliary.zero_pad_fourier(hamming_reversal, M, method='FFT', L=L)\n",
    "\n",
    "# Fourier transformations for Blackman Filters\n",
    "B, f_b = auxiliary.zero_pad_fourier(blackman, M)\n",
    "B_inv, f_b_inv = auxiliary.zero_pad_fourier(blackman_inverted, M, method='FFT', L=L)\n",
    "B_rev, f_b_rev = auxiliary.zero_pad_fourier(blackman_reversal, M, method='FFT', L=L)"
   ]
  },
  {
   "cell_type": "code",
   "execution_count": null,
   "metadata": {},
   "outputs": [],
   "source": [
    "plt.rcParams[\"figure.figsize\"] = (15, 5)\n",
    "\n",
    "plt.subplot(1,3,1)\n",
    "cplots.plot_frequency_response(np.absolute(H), f_h, label=\"Hamming\")\n",
    "cplots.plot_frequency_response(np.absolute(B), f_b, label=\"Blackman\")\n",
    "plt.legend()\n",
    "plt.subplot(1,3,2)\n",
    "cplots.plot_frequency_response(np.absolute(H_inv), f_h_inv, label=\"Inverted Hamming\")\n",
    "cplots.plot_frequency_response(np.absolute(B_inv), f_b_inv, label=\"Inverted Blackman\")\n",
    "plt.legend()\n",
    "plt.subplot(1,3,3)\n",
    "cplots.plot_frequency_response(np.absolute(H_rev), f_h_rev, label=\"Reversal Hamming\")\n",
    "cplots.plot_frequency_response(np.absolute(B_rev), f_b_rev, label=\"Reversal Blackman\")\n",
    "plt.legend()\n",
    "plt.subplots_adjust(hspace=0.3)"
   ]
  },
  {
   "cell_type": "markdown",
   "metadata": {},
   "source": [
    "### 4.2 Test your low pass filter\n",
    "Now test your low pass filters. For this case we will use both `hamming` and `blackman` windows."
   ]
  },
  {
   "cell_type": "code",
   "execution_count": null,
   "metadata": {},
   "outputs": [],
   "source": [
    "fc = 0.2\n",
    "M = 101\n",
    "h_lp = flt.low_pass_filter(fc, M, window_type='hamming')\n",
    "H_lp, fh_lp = auxiliary.zero_pad_fourier(h_lp, M)\n",
    "\n",
    "b_lp = flt.low_pass_filter(fc, M, window_type='blackman')\n",
    "B_lp, fb_lp = auxiliary.zero_pad_fourier(b_lp, M)\n",
    "\n",
    "plt.rcParams[\"figure.figsize\"] = (7, 5)\n",
    "cplots.plot_frequency_response(np.absolute(H_lp), fh_lp, label='Hamming')\n",
    "cplots.plot_frequency_response(np.absolute(B_lp), fb_lp, label='Blackman')\n",
    "plt.legend()\n",
    "plt.grid(\"on\")"
   ]
  },
  {
   "cell_type": "markdown",
   "metadata": {},
   "source": [
    "### 4.3 Test your high pass filter\n",
    "It is time to test your high pass filter, besides testing again our `hamming` and `blackman` windows, we are also going to test the `spectral_inversion` and `spectral_reversal` methods."
   ]
  },
  {
   "cell_type": "code",
   "execution_count": null,
   "metadata": {},
   "outputs": [],
   "source": [
    "fc = 0.17\n",
    "M = 200\n",
    "\n",
    "h_hp = flt.high_pass_filter(fc, M, method='spectral_inversion', window_type='hamming')\n",
    "H_hp, fh_hp = auxiliary.zero_pad_fourier(h_hp, M)\n",
    "\n",
    "b_hp = flt.high_pass_filter(fc, M, method='spectral_reversal', window_type='blackman')\n",
    "B_hp, fb_hp = auxiliary.zero_pad_fourier(b_hp, M)\n",
    "\n",
    "cplots.plot_frequency_response(np.absolute(H_hp), fh_hp, label='Spectral Inversion-Hamming')\n",
    "cplots.plot_frequency_response(np.absolute(B_hp), fb_hp, label='Spectral Reversal-Blackman')\n",
    "plt.legend()\n",
    "plt.grid(\"on\")"
   ]
  },
  {
   "cell_type": "markdown",
   "metadata": {},
   "source": [
    "### 4.4 Test your band/reject band filter\n",
    "Finally we will create a band pass/reject filter and test our `band_filter` function like this:"
   ]
  },
  {
   "cell_type": "code",
   "execution_count": null,
   "metadata": {},
   "outputs": [],
   "source": [
    "fc1 = 0.17\n",
    "fc2 = 0.33\n",
    "\n",
    "h = flt.band_filter(fc1, fc2, M, band_type='pass', window_type='blackman', method='spectral_reversal')\n",
    "H, f = auxiliary.zero_pad_fourier(h, M)\n",
    "\n",
    "g = flt.band_filter(fc1, fc2, M, band_type='reject', window_type='blackman', method='spectral_reversal')\n",
    "G, f = auxiliary.zero_pad_fourier(g, M)\n",
    "\n",
    "cplots.plot_frequency_response(np.absolute(H), f, label='Band Pass Filter')\n",
    "cplots.plot_frequency_response(np.absolute(G), f, label='Band Reject Filter')\n",
    "plt.legend()\n",
    "plt.grid(\"on\")"
   ]
  },
  {
   "cell_type": "code",
   "execution_count": null,
   "metadata": {},
   "outputs": [],
   "source": []
  }
 ],
 "metadata": {
  "kernelspec": {
   "display_name": "Python 3",
   "language": "python",
   "name": "python3"
  },
  "language_info": {
   "codemirror_mode": {
    "name": "ipython",
    "version": 3
   },
   "file_extension": ".py",
   "mimetype": "text/x-python",
   "name": "python",
   "nbconvert_exporter": "python",
   "pygments_lexer": "ipython3",
   "version": "3.8.3"
  }
 },
 "nbformat": 4,
 "nbformat_minor": 4
}
