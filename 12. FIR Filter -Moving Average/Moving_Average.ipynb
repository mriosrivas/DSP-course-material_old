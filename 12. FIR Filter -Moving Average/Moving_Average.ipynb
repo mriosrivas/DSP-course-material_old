{
 "cells": [
  {
   "cell_type": "markdown",
   "metadata": {},
   "source": [
    "# The Moving Average Filter\n",
    "The moving average is the most common filter in DSP, mainly because it is the easiest digital filter to understand and use. In spite of its simplicity, the moving average filter is optimal for a common task: reducing random noise while retaining a sharp step response. This makes it the premier filter for time domain encoded signals. However, the moving average is the worst filter for frequency domain encoded signals, with little ability to separate one band of frequencies from another. Relatives of the moving average filter include the Gaussian, Blackman, and multiple-pass moving average. These have slightly better performance in the frequency domain, at the expense of increased computation time. "
   ]
  },
  {
   "cell_type": "markdown",
   "metadata": {},
   "source": [
    "## Implementation by Convolution\n",
    "The moving average can be computed using the following two equations:\n",
    "\n",
    "1. For an asymmetric implementation:\n",
    "$$y[i]=\\frac{1}{M} \\sum\\limits^{M-1}_{j=0}{x[i+j]}$$\n",
    "\n",
    "2. For a symmetric implementation:\n",
    "$$y[i]=\\frac{1}{M} \\sum\\limits^{M/2-1}_{j=-M/2}{x[i+j]}$$\n",
    "\n",
    "Let's implement the moving average by convolution."
   ]
  },
  {
   "cell_type": "code",
   "execution_count": null,
   "metadata": {},
   "outputs": [],
   "source": [
    "import matplotlib.pyplot as plt\n",
    "import numpy as np\n",
    "\n",
    "def moving_average(x, M = 5, symmetry = 'sym'):\n",
    "    \"\"\" \n",
    "    Function that calculates the moving average of a signal in a symmetric and asymmetric form.\n",
    "  \n",
    "    Parameters: \n",
    "    x (numpy array): Array of numbers representing the signal to be analyzed.\n",
    "    M (integer): Number of point for the moving average filter.\n",
    "    symmetry (string): String value for the type of symmetry being used, can be 'sym' or 'asym'.\n",
    "  \n",
    "    Returns: \n",
    "    numpy array: Returns filter response.\n",
    "  \n",
    "    \"\"\"\n",
    "                    \n",
    "    return None"
   ]
  },
  {
   "cell_type": "code",
   "execution_count": null,
   "metadata": {},
   "outputs": [],
   "source": [
    "x = np.loadtxt(fname = \"waveforms.dat\").flatten()\n",
    "y_asym = moving_average(x, M=11, symmetry = 'asym')\n",
    "y_sym = moving_average(x, M=11, symmetry = 'sym')"
   ]
  },
  {
   "cell_type": "code",
   "execution_count": null,
   "metadata": {},
   "outputs": [],
   "source": [
    "plt.rcParams[\"figure.figsize\"] = (15,10)\n",
    "\n",
    "plt.subplot(2,2,1)\n",
    "plt.plot(x)\n",
    "plt.plot(y_asym)\n",
    "plt.title('Asymmetric Moving Average')\n",
    "\n",
    "\n",
    "plt.subplot(2,2,2)\n",
    "plt.plot(x)\n",
    "plt.plot(y_sym)\n",
    "plt.title('Symmetric Moving Average');"
   ]
  },
  {
   "cell_type": "markdown",
   "metadata": {},
   "source": [
    "Now let's try to make a signal with additive gaussian noise to test how it works in removing noise from a signal:"
   ]
  },
  {
   "cell_type": "code",
   "execution_count": null,
   "metadata": {},
   "outputs": [],
   "source": [
    "t = np.arange(0,35,0.01)\n",
    "signal = 1*np.sin(t)\n",
    "noise = 0.10*np.random.normal(size=len(t)) #Try to use np.random.uniform\n",
    "#noise = 0.10*np.random.uniform(size=len(t)) #Try to use np.random.uniform\n",
    "noise_signal = signal + noise\n",
    "\n",
    "noiseless_signal = moving_average(noise_signal, M=5, symmetry = 'asym')"
   ]
  },
  {
   "cell_type": "code",
   "execution_count": null,
   "metadata": {},
   "outputs": [],
   "source": [
    "plt.rcParams[\"figure.figsize\"] = (15,10)\n",
    "\n",
    "plt.subplot(4, 1, 1)\n",
    "plt.plot(noise_signal);\n",
    "plt.title(\"Signal with Noise\")\n",
    "plt.grid(True)\n",
    "\n",
    "plt.subplot(5, 2, 5)\n",
    "plt.hist(noise_signal, 50);\n",
    "plt.title(\"Spectral density of Noise Signal\")\n",
    "\n",
    "plt.subplot(5, 2, 6)\n",
    "plt.hist(noise, 50)\n",
    "plt.title(\"Spectral density of Noise\")\n",
    "\n",
    "plt.subplot(4, 1, 4)\n",
    "plt.plot(noiseless_signal)\n",
    "plt.title(\"Signal with Noise Removed\")\n",
    "plt.grid(True);"
   ]
  },
  {
   "cell_type": "markdown",
   "metadata": {},
   "source": [
    "## Frequency Response\n",
    "\n",
    "The frequency response of the moving average filter can be calculated by the Fourier transform of the rectangular pulse and is given by:\n",
    "\n",
    "$$H[f]=\\frac{\\sin{(\\pi f M)}}{M\\sin{(\\pi f)}} $$\n",
    "\n",
    "The roll-off is very slow and the stopband attenuation is ghastly. Clearly, the moving average filter cannot separate one band of frequencies from another. Remember, good performance in the time domain results in poor performance in the frequency domain, and vice versa. In short, the moving average is an exceptionally good smoothing filter (the action in the time domain), but an exceptionally bad low-pass filter (the action in the frequency domain). "
   ]
  },
  {
   "cell_type": "code",
   "execution_count": null,
   "metadata": {},
   "outputs": [],
   "source": [
    "def frequency_response(f, M):\n",
    "    \"\"\" \n",
    "    Function that returns the frequency response of a moving average filter.\n",
    "  \n",
    "    Parameters: \n",
    "    f (numpy array): Array of numbers representing the input frequency to analyze.\n",
    "    M (integer): Number of point for the moving average filter.\n",
    "  \n",
    "    Returns: \n",
    "    numpy array: Returns filter response.\n",
    "  \n",
    "    \"\"\"\n",
    "    \n",
    "    return None"
   ]
  },
  {
   "cell_type": "code",
   "execution_count": null,
   "metadata": {},
   "outputs": [],
   "source": [
    "N = len(x)\n",
    "f = np.arange(0, 0.5, 0.5/N)\n",
    "m1 = 3\n",
    "m2 = 9\n",
    "m3 = 11\n",
    "\n",
    "plt.rcParams[\"figure.figsize\"] = (10,5)\n",
    "\n",
    "H1 = #Write code here\n",
    "H2 = #Write code here\n",
    "H3 = #Write code here\n",
    "plt.plot(f,H1, label='{}-point'.format(m1))\n",
    "plt.plot(f,H2, label='{}-point'.format(m2))\n",
    "plt.plot(f,H3, label='{}-point'.format(m3))\n",
    "plt.grid(True)\n",
    "plt.legend();"
   ]
  },
  {
   "cell_type": "markdown",
   "metadata": {},
   "source": [
    "## Multiple-pass Moving Average Filter\n",
    "Multiple-pass moving average filters involve passing the input signal through a moving average filter two or more times. Two passes are equivalent to using a triangular filter kernel (a rectangular filter kernel convolved with itself). After four or more passes, the equivalent filter kernel looks like a Gaussian (recall the [Central Limit Theorem](https://en.wikipedia.org/wiki/Central_limit_theorem) )."
   ]
  },
  {
   "cell_type": "code",
   "execution_count": null,
   "metadata": {},
   "outputs": [],
   "source": [
    "plt.rcParams[\"figure.figsize\"] = (10,5)\n",
    "\n",
    "step = np.append(np.zeros(10),np.ones(5))\n",
    "step = np.append(step, np.zeros(10))\n",
    "\n",
    "triangular = #Write code here\n",
    "gaussian = n#Write code here\n",
    "\n",
    "plt.plot(step, label='1 pass')\n",
    "plt.plot(triangular[12:-12]/np.max(triangular), label='2 pass')\n",
    "plt.plot(gaussian[3*12:-3*12]/np.max(gaussian), label='4 pass')\n",
    "\n",
    "plt.grid(True)\n",
    "plt.legend();"
   ]
  },
  {
   "cell_type": "code",
   "execution_count": null,
   "metadata": {},
   "outputs": [],
   "source": [
    "one_pass = #Write code here\n",
    "two_pass = #Write code here\n",
    "three_pass = #Write code here\n",
    "four_pass = #Write code here\n",
    "\n",
    "\n",
    "plt.plot(one_pass, label='1 pass')\n",
    "plt.plot(two_pass, label='2 pass')\n",
    "plt.plot(four_pass, label='4 pass')\n",
    "\n",
    "plt.grid(True)\n",
    "plt.legend();"
   ]
  },
  {
   "cell_type": "markdown",
   "metadata": {},
   "source": [
    "## Recursive Moving Filter\n",
    "A faster implementation of the moving average filter is done by using recursion. To show this method we can imagine passing an input signal, $x[ ]$, through a seven point moving average filter to form an output signal, $y[ ]$. Now look at how two adjacent output points, $y[25]$ and $y[26]$, are calculated:\n",
    "\n",
    "\n",
    "$$y[25] = x[22] + x[23] +x[24] + x[25] + x[26] + x[27] + x[28]$$\n",
    "\n",
    "$$y[26] = x[23] +x[24] + x[25] + x[26] + x[27] + x[28] + x[29]$$\n",
    "\n",
    "By looking at $y[25]$ and $y[26]$ we can write:\n",
    "\n",
    "$$ y[26] = y[25] + x[29] - x[22]$$\n",
    "\n",
    "We can even generalize as follows:\n",
    "\n",
    "$$y[i] = y[i-1] + x[i+p] - x[i-q]$$\n",
    "\n",
    "$$\\textrm{with} \\quad p = \\frac{(M-1)}{2}  \\quad \\textrm{and}  \\quad q = p + 1$$\n"
   ]
  },
  {
   "cell_type": "code",
   "execution_count": null,
   "metadata": {},
   "outputs": [],
   "source": [
    "def recursive_moving_average(x, M = 5):\n",
    "    \"\"\" \n",
    "    Function that calculates the recursive moving average of a signal in a symmetric form.\n",
    "  \n",
    "    Parameters: \n",
    "    x (numpy array): Array of numbers representing the signal to be analyzed.\n",
    "    M (integer): Number of point for the moving average filter.\n",
    "  \n",
    "    Returns: \n",
    "    numpy array: Returns filter response.\n",
    "  \n",
    "    \"\"\"\n",
    "            \n",
    "    return None"
   ]
  },
  {
   "cell_type": "markdown",
   "metadata": {},
   "source": [
    "## Comparison between Moving Average and Recursive Moving Average\n",
    "The following example shows a comparison between both models and the error between them. As it can be seen, the error is a systematically one, and a further study can be developed. "
   ]
  },
  {
   "cell_type": "code",
   "execution_count": null,
   "metadata": {},
   "outputs": [],
   "source": [
    "M = 11\n",
    "y1 = #Write code here\n",
    "y2 = #Write code here\n",
    "\n",
    "plt.plot(y1, label = 'Moving Average')\n",
    "plt.plot(y2, label = 'Recursive Moving Average')\n",
    "plt.plot(np.abs(y1-y2), label = 'Error')\n",
    "plt.legend();"
   ]
  },
  {
   "cell_type": "code",
   "execution_count": null,
   "metadata": {},
   "outputs": [],
   "source": []
  }
 ],
 "metadata": {
  "kernelspec": {
   "display_name": "Python 3",
   "language": "python",
   "name": "python3"
  },
  "language_info": {
   "codemirror_mode": {
    "name": "ipython",
    "version": 3
   },
   "file_extension": ".py",
   "mimetype": "text/x-python",
   "name": "python",
   "nbconvert_exporter": "python",
   "pygments_lexer": "ipython3",
   "version": "3.8.3"
  }
 },
 "nbformat": 4,
 "nbformat_minor": 2
}
