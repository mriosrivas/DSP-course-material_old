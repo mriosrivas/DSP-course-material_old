{
 "cells": [
  {
   "cell_type": "markdown",
   "metadata": {},
   "source": [
    "# Running Sum and First Difference Algorithms"
   ]
  },
  {
   "cell_type": "markdown",
   "metadata": {},
   "source": [
    "### Calculus-like Operations\n",
    "Convolution can change discrete signals in ways that resemble integration and differentiation. Since the terms \"derivative\" and \"integral\" specifically refer to operations on continuous signals, other names are given to their discrete counterparts. The discrete operation that mimics the first derivative is called the first difference. Likewise, the discrete form of the integral is called the running sum. It is also common to hear these operations called the discrete derivative and the discrete integral, although mathematicians frown when they hear these informal terms used."
   ]
  },
  {
   "cell_type": "code",
   "execution_count": null,
   "metadata": {},
   "outputs": [],
   "source": [
    "import sys\n",
    "sys.path.insert(0, '../../../')\n",
    "\n",
    "import numpy as np\n",
    "import matplotlib.pyplot as plt\n",
    "\n",
    "from Common import common_plots\n",
    "cplots = common_plots.Plot()"
   ]
  },
  {
   "cell_type": "code",
   "execution_count": null,
   "metadata": {},
   "outputs": [],
   "source": [
    "file = {'x':'Signals/InputSignal_f32_1kHz_15kHz.dat'}\n",
    "\n",
    "x = np.loadtxt(file['x'])\n",
    "N,M = x.shape\n",
    "x = x.reshape(N*M, 1)"
   ]
  },
  {
   "cell_type": "code",
   "execution_count": null,
   "metadata": {},
   "outputs": [],
   "source": [
    "cplots.plot_single(x.T, title='x[n]', style='line')"
   ]
  },
  {
   "cell_type": "markdown",
   "metadata": {},
   "source": [
    "## First Difference\n",
    "This is the discrete version of the first derivative. Each sample in the output signal is equal to the difference between adjacent samples in the input signal. In other words, the output signal is the slope of the input signal.\n",
    "\n",
    "$$ y[n] = x[n] - x[n-1]$$"
   ]
  },
  {
   "cell_type": "code",
   "execution_count": null,
   "metadata": {},
   "outputs": [],
   "source": [
    "def first_difference(x):\n",
    "    \"\"\" \n",
    "        Function that calculates the first difference of an input signal x using the recursive\n",
    "        equation y[n]=x[n]-x[n-1].\n",
    "      \n",
    "        Parameters: \n",
    "        x (numpy array): Array of numbers representing the input signal.\n",
    "      \n",
    "        Returns: \n",
    "        numpy array: Returns first difference of input signal x.\n",
    "      \n",
    "        \"\"\"\n",
    "    \n",
    "    pass"
   ]
  },
  {
   "cell_type": "code",
   "execution_count": null,
   "metadata": {},
   "outputs": [],
   "source": [
    "x_diff = first_difference(x)"
   ]
  },
  {
   "cell_type": "code",
   "execution_count": null,
   "metadata": {},
   "outputs": [],
   "source": [
    "plt.rcParams[\"figure.figsize\"] = (15,5)\n",
    "\n",
    "plt.subplot(1,2,1)\n",
    "cplots.plot_single(x.T, title='Input Signal', style='line')\n",
    "plt.subplot(1,2,2)\n",
    "cplots.plot_single(x_diff.T, title='First Difference', style='line')"
   ]
  },
  {
   "cell_type": "markdown",
   "metadata": {},
   "source": [
    "## Running Sum\n",
    "This is the discrete version of the integral. Each sample in the output signal is equal to the sum of all samples in the input signal to the left.\n",
    "\n",
    "$$ y[n] = x[n] + y[n-1]$$"
   ]
  },
  {
   "cell_type": "code",
   "execution_count": null,
   "metadata": {},
   "outputs": [],
   "source": [
    "def running_sum(x):\n",
    "    \"\"\" \n",
    "        Function that calculates the running sum of an input signal x using the recursive\n",
    "        equation y[n]=x[n]+y[n-1].\n",
    "      \n",
    "        Parameters: \n",
    "        x (numpy array): Array of numbers representing the input signal.\n",
    "      \n",
    "        Returns: \n",
    "        numpy array: Returns running sum of input signal x.\n",
    "      \n",
    "        \"\"\"\n",
    "    pass"
   ]
  },
  {
   "cell_type": "code",
   "execution_count": null,
   "metadata": {},
   "outputs": [],
   "source": [
    "x_sum = running_sum(x)"
   ]
  },
  {
   "cell_type": "code",
   "execution_count": null,
   "metadata": {},
   "outputs": [],
   "source": [
    "plt.rcParams[\"figure.figsize\"] = (15,5)\n",
    "\n",
    "plt.subplot(1,2,1)\n",
    "cplots.plot_single(x.T, title='Input Signal', style='line')\n",
    "plt.subplot(1,2,2)\n",
    "cplots.plot_single(x_sum.T, title='First Difference', style='line')"
   ]
  },
  {
   "cell_type": "markdown",
   "metadata": {},
   "source": [
    "## Exercise: Add your functions to your Convolve class\n",
    "As an exercise you will add your `first_difference` and `running_sum` functions  to the class `Convolve`."
   ]
  },
  {
   "cell_type": "code",
   "execution_count": null,
   "metadata": {},
   "outputs": [],
   "source": [
    "from Common import convolution\n",
    "convolve = convolution.Convolve()"
   ]
  },
  {
   "cell_type": "code",
   "execution_count": null,
   "metadata": {},
   "outputs": [],
   "source": [
    "cplots.plot_single(convolve.first_difference(x).T, title='First Difference', style='line')"
   ]
  },
  {
   "cell_type": "code",
   "execution_count": null,
   "metadata": {},
   "outputs": [],
   "source": [
    "cplots.plot_single(convolve.running_sum(x).T, title='Running Sum', style='line')"
   ]
  },
  {
   "cell_type": "code",
   "execution_count": null,
   "metadata": {},
   "outputs": [],
   "source": []
  }
 ],
 "metadata": {
  "kernelspec": {
   "display_name": "Python 3",
   "language": "python",
   "name": "python3"
  },
  "language_info": {
   "codemirror_mode": {
    "name": "ipython",
    "version": 3
   },
   "file_extension": ".py",
   "mimetype": "text/x-python",
   "name": "python",
   "nbconvert_exporter": "python",
   "pygments_lexer": "ipython3",
   "version": "3.7.4"
  }
 },
 "nbformat": 4,
 "nbformat_minor": 2
}
