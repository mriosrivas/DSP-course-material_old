{
 "cells": [
  {
   "cell_type": "markdown",
   "metadata": {},
   "source": [
    "# Convolution\n",
    "\n",
    "Convolution is a mathematical way of combining two signals to form a third signal. It is the single most important technique in Digital Signal Processing. Using the strategy of impulse decomposition, systems are described by a signal called the impulse response. Convolution is important because it relates the three signals of interest: the input signal, the output signal, and the impulse response. \n",
    "\n",
    "This chapter presents 1D and 2D convolution. For 1D convolution two different viewpoints, called the **input side algorithm** and the **output side algorithm**. are shown, then a vectorized implementation is presented. For 2D convolution a vectorized form is presented applied to image processing."
   ]
  },
  {
   "cell_type": "markdown",
   "metadata": {},
   "source": [
    "## 1D Convolution\n",
    "The mathematical form of the convolution is:\n",
    "\n",
    "$$ y[i] = \\sum_{j=0}^{M-1}{x[j]h[i-j]} $$"
   ]
  },
  {
   "cell_type": "markdown",
   "metadata": {},
   "source": [
    "To develop the convolution we define the following:\n",
    "    \n",
    "* Input Signal $x[n]$ of size $N$ \n",
    "* Impulse Response $h[n]$ of size $M$\n",
    "* Output Signal $y[n]$ of size $N + M -1$\n",
    "\n",
    "There are two types of algorithms that can be performed:\n",
    "\n",
    "1. Output Side Algorithm\n",
    "2. Input Side Algorithm"
   ]
  },
  {
   "cell_type": "markdown",
   "metadata": {},
   "source": [
    "### 1. Output Side Algorithm\n",
    "Analyzes how each sample in the input signal affects many samples in the output signal. (We sum the contributions of each input to every output sample.)\n",
    "\n",
    "![Input Side Algorithm](Images/input_side_algorithm.gif)\n",
    "\n",
    "The algorithm calculates the convolution in the following way:\n",
    "\n",
    "$$y[i+j] = \\sum_{i=0}^{N-1}  \\sum_{j=0}^{M-1}{x[i]h[j]}$$ \n",
    "\n",
    "where $M$ is the length of the impulse response and $N$ the input signal size and $y[n]$ has a size of $M+N-1$.\n",
    "\n",
    "The following picture describes the algorithm:\n",
    "\n",
    "![Input Side Algorithm](Images/input_side.jpg)"
   ]
  },
  {
   "cell_type": "code",
   "execution_count": null,
   "metadata": {},
   "outputs": [],
   "source": [
    "import sys\n",
    "sys.path.insert(0, '../../../')\n",
    "\n",
    "import numpy as np\n",
    "import matplotlib.pyplot as plt\n",
    "\n",
    "from Common import common_plots\n",
    "cplots = common_plots.Plot()"
   ]
  },
  {
   "cell_type": "code",
   "execution_count": null,
   "metadata": {},
   "outputs": [],
   "source": [
    "file = {'x':'Signals/InputSignal_f32_1kHz_15kHz.dat', 'h':'Signals/Impulse_response.dat'}\n",
    "\n",
    "x = np.loadtxt(file['x'])\n",
    "N,M = x.shape\n",
    "x = x.reshape(N*M, 1)\n",
    "\n",
    "h = np.loadtxt(file['h'])\n",
    "N = h.shape[0]\n",
    "h = h.reshape(N, 1)"
   ]
  },
  {
   "cell_type": "code",
   "execution_count": null,
   "metadata": {},
   "outputs": [],
   "source": [
    "def convolve_output_algorithm(x, h):\n",
    "    \"\"\" \n",
    "    Function that convolves an input signal x with an step response h using the output side algorithm.\n",
    "  \n",
    "    Parameters: \n",
    "    x (numpy array): Array of numbers representing the input signal to be convolved.\n",
    "    h (numpy array): Array of numbers representing the unit step response of a filter.\n",
    "  \n",
    "    Returns: \n",
    "    numpy array: Returns convolved signal y[n]=h[n]*x[n].\n",
    "  \n",
    "    \"\"\"\n",
    "    #SOLVE IN HERE\n",
    "    \n",
    "    pass"
   ]
  },
  {
   "cell_type": "code",
   "execution_count": null,
   "metadata": {},
   "outputs": [],
   "source": [
    "output = convolve_output_algorithm(x, h)"
   ]
  },
  {
   "cell_type": "code",
   "execution_count": null,
   "metadata": {},
   "outputs": [],
   "source": [
    "cplots.plot_three_signals(x, h, output, \n",
    "                   titles=('Input Signal', 'Impulse Response', 'Output Signal, Output Side Algorithm'))"
   ]
  },
  {
   "cell_type": "markdown",
   "metadata": {},
   "source": [
    "### 2. Input Side Algorithm\n",
    "We look at individual samples in the output signal and find the contributing points from the input. (We find who contributed to the output.)\n",
    "\n",
    "The algorithm calculates the convolution in the following way:\n",
    "\n",
    "[//]: $$y[i] = \\sum_{i=0}^{M+N-1}  \\sum_{j=0}^{M-1}{h[j]x[i-j]}$$ \n",
    "$$y[i] = \\sum_{j=0}^{M-1}{h[j]x[i-j]}$$ \n",
    "\n",
    "if $$i-j>0 $$ and $$i-j<N-1$$\n",
    "\n",
    "where $M$ is the length of the impulse response and $N$ the input signal size and $y[n]$ has a size of $M+N-1$.\n",
    "\n",
    "The following picture describes the algorithm:\n",
    "\n",
    "![Input Side Algorithm](Images/output_side.jpg)"
   ]
  },
  {
   "cell_type": "code",
   "execution_count": null,
   "metadata": {},
   "outputs": [],
   "source": [
    "def convolve_input_algorithm(x, h):\n",
    "    \"\"\" \n",
    "    Function that convolves an input signal x with an step response h using the input side algorithm.\n",
    "  \n",
    "    Parameters: \n",
    "    x (numpy array): Array of numbers representing the input signal to be convolved.\n",
    "    h (numpy array): Array of numbers representing the unit step response of a filter.\n",
    "  \n",
    "    Returns: \n",
    "    numpy array: Returns convolved signal y[n]=h[n]*x[n].\n",
    "  \n",
    "    \"\"\"\n",
    "    #SOLVE IN HERE   \n",
    "    pass"
   ]
  },
  {
   "cell_type": "code",
   "execution_count": null,
   "metadata": {},
   "outputs": [],
   "source": [
    "output_ = convolve_input_algorithm(x, h)"
   ]
  },
  {
   "cell_type": "code",
   "execution_count": null,
   "metadata": {},
   "outputs": [],
   "source": [
    "cplots.plot_three_signals(x, h, output_[0:320])"
   ]
  },
  {
   "cell_type": "markdown",
   "metadata": {},
   "source": [
    "### Comparison Between Speeds of Both Algorithms\n",
    "`%timeit` is an ipython magic function, which can be used to time a particular piece of code (A single execution statement, or a single method)."
   ]
  },
  {
   "cell_type": "code",
   "execution_count": null,
   "metadata": {},
   "outputs": [],
   "source": [
    "%timeit output = convolve_output_algorithm(x, h)"
   ]
  },
  {
   "cell_type": "code",
   "execution_count": null,
   "metadata": {},
   "outputs": [],
   "source": [
    "%timeit output = convolve_input_algorithm(x, h)"
   ]
  },
  {
   "cell_type": "markdown",
   "metadata": {},
   "source": [
    "### 3. A Faster 1D Convolution\n",
    "A faster 1D convolution can be performed if inner loops can be transformed into matrix multiplications. This task can be accomplished by using *Toeplitz* matrices. A Toeplitz matrix or diagonal-constant matrix, named after Otto Toeplitz, is a matrix in which each descending diagonal from left to right is constant. For instance, the following matrix is a Toeplitz matrix: "
   ]
  },
  {
   "cell_type": "code",
   "execution_count": null,
   "metadata": {},
   "outputs": [],
   "source": [
    "from scipy.linalg import toeplitz\n",
    "print(toeplitz(np.array([[1,2,3,4,5]])))"
   ]
  },
  {
   "cell_type": "markdown",
   "metadata": {},
   "source": [
    "1D convolution can be obtained by using the lower triangular matrix of the Toeplitz matrix, $H$, and the vector $x$. For the matrix $H$ and vector $x$ to have right dimensions, zero padding must be used. The lower triangular matrix can be calculated using `np.tril()`."
   ]
  },
  {
   "cell_type": "code",
   "execution_count": null,
   "metadata": {},
   "outputs": [],
   "source": [
    "print(np.tril(toeplitz(np.array([[1,2,3,4,5]]))))"
   ]
  },
  {
   "cell_type": "code",
   "execution_count": null,
   "metadata": {},
   "outputs": [],
   "source": [
    "def conv1d(x, h):\n",
    "    \"\"\" \n",
    "    Function that convolves an input signal x with an step response h using a Toeplitz matrix implementation.\n",
    "  \n",
    "    Parameters: \n",
    "    x (numpy array): Array of numbers representing the input signal to be convolved.\n",
    "    h (numpy array): Array of numbers representing the unit step response of a filter.\n",
    "  \n",
    "    Returns: \n",
    "    numpy array: Returns convolved signal y[n]=h[n]*x[n].\n",
    "  \n",
    "    \"\"\"\n",
    "    #SOLVE IN HERE\n",
    "    pass"
   ]
  },
  {
   "cell_type": "code",
   "execution_count": null,
   "metadata": {},
   "outputs": [],
   "source": [
    "%timeit output = conv1d(x, h)"
   ]
  },
  {
   "cell_type": "code",
   "execution_count": null,
   "metadata": {},
   "outputs": [],
   "source": [
    "cplots.plot_three_signals(x, h, output)"
   ]
  },
  {
   "cell_type": "markdown",
   "metadata": {},
   "source": [
    "## 2D Convolution on Images\n",
    "If the convolution is performed between two signals spanning along two mutually perpendicular dimensions (i.e., if signals are two-dimensional in nature), then it will be referred to as 2D convolution. This concept can be extended to involve multi-dimensional signals due to which we can have multidimensional convolution.\n",
    "\n",
    "For a 2D filter $h[m,n]$, or *kernel*, that has size $2M$ by $2N$ a 2D convolution is defined as follows:\n",
    "\n",
    "$$y[i,j]=\\sum_{m=-M}^{M+1}\\sum_{n=-N}^{N+1}{h[m,n]x[i-m,j-n]}$$"
   ]
  },
  {
   "cell_type": "code",
   "execution_count": null,
   "metadata": {},
   "outputs": [],
   "source": [
    "def conv2d(image, kernel):\n",
    "    \"\"\" \n",
    "    Function that convolves an input image with a filter kernel.\n",
    "  \n",
    "    Parameters: \n",
    "    image (numpy matrix): Matrix representing a 2D image.\n",
    "    kernel (numpy array): An m by n matrix to apply.\n",
    "  \n",
    "    Returns: \n",
    "    numpy matrix: Returns convolved image with filter kernel.\n",
    "  \n",
    "    \"\"\"\n",
    "    #SOLVE IN HERE\n",
    "    pass"
   ]
  },
  {
   "cell_type": "code",
   "execution_count": null,
   "metadata": {},
   "outputs": [],
   "source": [
    "from PIL import Image\n",
    "\n",
    "\n",
    "# Load original image\n",
    "image_original = Image.open('Images/dog.jpeg')\n",
    "\n",
    "# Convert to gray scale\n",
    "image_gray = image_original.convert('L')\n",
    "\n",
    "# Resize gray image\n",
    "scale_factor = 2\n",
    "p,q = (np.array(np.array(image_gray).shape)/scale_factor).astype('int')\n",
    "image_resize = image_gray.resize((p,q))\n",
    "\n",
    "# Set image as an 2d-array x\n",
    "x = np.array(image_resize)#.reshape(-1,1)\n"
   ]
  },
  {
   "cell_type": "code",
   "execution_count": null,
   "metadata": {},
   "outputs": [],
   "source": [
    "Sx = np.array([[-1, 0, 1],[-2, 0, 2], [-1, 0, 1]])\n",
    "Sy = np.array([[-1, -2, -1],[0, 0, 0], [1, 2, 1]])\n",
    "\n",
    "\n",
    "Gx_2 = conv2d(x, Sx)\n",
    "Gy_2 = conv2d(x, Sy)\n",
    "image_output = np.sqrt(np.power(Gx_2,2) + np.power(Gy_2,2))"
   ]
  },
  {
   "cell_type": "code",
   "execution_count": null,
   "metadata": {},
   "outputs": [],
   "source": [
    "plt.subplot(1,2,1)\n",
    "plt.imshow(image_original.resize((p,q)))\n",
    "\n",
    "plt.subplot(1,2,2)\n",
    "plt.imshow(image_output, cmap='gray', vmin=0, vmax=255);"
   ]
  },
  {
   "cell_type": "markdown",
   "metadata": {},
   "source": [
    "## Exercise: Create your own Convolve class\n",
    "\n",
    "As an exercise you will implement a class called `Convolve` using the functions `conv1d`, `convolve_output_algorithm`, `convolve_input_algorithm`, and `conv2d`. Save your class as `convolution.py` in the `Common` folder. Test it by copying this jupyter notebook and substituting all of the functions with methods from the class `Convolve`."
   ]
  },
  {
   "cell_type": "code",
   "execution_count": null,
   "metadata": {},
   "outputs": [],
   "source": []
  }
 ],
 "metadata": {
  "kernelspec": {
   "display_name": "Python 3",
   "language": "python",
   "name": "python3"
  },
  "language_info": {
   "codemirror_mode": {
    "name": "ipython",
    "version": 3
   },
   "file_extension": ".py",
   "mimetype": "text/x-python",
   "name": "python",
   "nbconvert_exporter": "python",
   "pygments_lexer": "ipython3",
   "version": "3.7.4"
  }
 },
 "nbformat": 4,
 "nbformat_minor": 2
}
