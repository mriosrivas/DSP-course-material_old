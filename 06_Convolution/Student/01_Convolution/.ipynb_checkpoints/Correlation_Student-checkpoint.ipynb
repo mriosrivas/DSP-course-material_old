{
 "cells": [
  {
   "cell_type": "markdown",
   "metadata": {},
   "source": [
    "# Correlation\n",
    "Correlation or “Co-Relation” is a measure of similarity/relationship between two signals.\n",
    "If $x[n]$ and $h[n]$ are two discrete-time signals, then the correlation of $x[n]$ with respect to $h[n]$ is given as:\n",
    "$$ r[i] = \\sum_{j=0}^{M-1}{x[j]h[j-i]} $$\n",
    "\n",
    "We can say that *“Correlation, mathematically, is just Convolution,  with the second sequence, time-reversed\"*."
   ]
  },
  {
   "cell_type": "markdown",
   "metadata": {},
   "source": [
    "## Exercise:\n",
    "In this notebook you will implement a `Correlation` class with some methods that will help you identify similarity between signals. To implement your `Correlation` you will use the `Convolve` class developed in the previous notebook. After that, you will use your `Correlation` class to see how Barker code works."
   ]
  },
  {
   "cell_type": "code",
   "execution_count": null,
   "metadata": {},
   "outputs": [],
   "source": [
    "import sys\n",
    "sys.path.insert(0, '../../../')\n",
    "\n",
    "import numpy as np\n",
    "import matplotlib.pyplot as plt\n",
    "\n",
    "from Common import common_plots\n",
    "from Common import convolution\n",
    "cplots = common_plots.Plot()\n",
    "convolve = convolution.Convolve()"
   ]
  },
  {
   "cell_type": "markdown",
   "metadata": {},
   "source": [
    "### 1. Create a `Correlation` class\n",
    "First you will create a `Correlation` class that will have the following methods:\n",
    "1. `correlation` which calculates the correlation of two signals, $x[n]$ and $h[n]$\n",
    "2. `auto_corr` which calculates the auto correlation of a given signal $x[n]$\n",
    "3. `norm_correlation` which calculates the normalized correlation of two signals, $x[n]$ and $h[n]$\n",
    "4. `norm_auto_corr` which calculates the normalized auto correlation of a given signal $x[n]$\n",
    "5. `delay` auxiliary function that calculates the time delay between $x[n]$ respect to $h[n]$ based on the correlation between both signals.\n",
    "\n",
    "You will have to use the `Convolve` class and be able to select between the three types of convolutions: `conv1d`, `convolve_input_algorithm`, and `convolve_output_algorithm`.\n",
    "\n",
    "A good resource to check is this [link](http://host.uniroma3.it/laboratori/sp4te/teaching/sp4bme/documents/LectureCorrelation.pdf)."
   ]
  },
  {
   "cell_type": "code",
   "execution_count": null,
   "metadata": {},
   "outputs": [],
   "source": [
    "from Common import convolution\n",
    "\n",
    "\n",
    "class Correlation():\n",
    "    \n",
    "    def __init__(self):\n",
    "        self.convolve = convolution.Convolve()\n",
    "        pass\n",
    "    \n",
    "    \n",
    "    def correlation(self, x, h, algorithm='output'):\n",
    "        \"\"\" \n",
    "        Function that finds the correlation of an input signal x with an step response h.\n",
    "        Parameters: \n",
    "        x (numpy array): Array of numbers representing the input signal to be correlated.\n",
    "        h (numpy array): Array of numbers representing the unit step response of a filter or signal.\n",
    "        algorithm (string): String that selects the algoritm to use for finding the convolution.\n",
    "                            Can be `fast` if `conv1d` function is used, `input` if `convolve_input_algorithm`\n",
    "                            is used, and `output` if `convolve_output_algorithm` is used. Default value is\n",
    "                            `output`.\n",
    "\n",
    "        Returns: \n",
    "        numpy array: Returns correlation r_xh[n]=x[n]*h[-n].\n",
    "\n",
    "        \"\"\"\n",
    "        \n",
    "        #SOLVE IN HERE\n",
    "        \n",
    "        if (algorithm == 'fast'):\n",
    "            pass\n",
    "            \n",
    "        elif (algorithm == 'input'):\n",
    "            pass\n",
    "            \n",
    "        elif (algorithm == 'output'):\n",
    "            pass\n",
    "            \n",
    "        pass\n",
    "    \n",
    "    \n",
    "    def auto_corr(self, x, algorithm='output'):\n",
    "        \"\"\" \n",
    "        Function that finds the auto correlation of an input signal x.\n",
    "        Parameters: \n",
    "        x (numpy array): Array of numbers representing the input signal to be auto correlated.\n",
    "        algorithm (string): String that selects the algoritm to use for finding the convolution.\n",
    "                            Can be `fast` if `conv1d` function is used, `input` if `convolve_input_algorithm`\n",
    "                            is used, and `output` if `convolve_output_algorithm` is used. Default value is\n",
    "                            `output`.\n",
    "\n",
    "        Returns: \n",
    "        numpy array: Returns auto correlation r_xx[n]=x[n]*x[-n].\n",
    "\n",
    "        \"\"\"\n",
    "        \n",
    "        #SOLVE IN HERE\n",
    "        pass\n",
    "    \n",
    "    \n",
    "    def norm_correlation(self, x, h, algorithm='output'):\n",
    "        \"\"\" \n",
    "        Function that finds the normalized correlation of an input signal x with an step response h.\n",
    "        Parameters: \n",
    "        x (numpy array): Array of numbers representing the input signal to be correlated.\n",
    "        h (numpy array): Array of numbers representing the unit step response of a filter or signal.\n",
    "        algorithm (string): String that selects the algoritm to use for finding the convolution.\n",
    "                            Can be `fast` if `conv1d` function is used, `input` if `convolve_input_algorithm`\n",
    "                            is used, and `output` if `convolve_output_algorithm` is used. Default value is\n",
    "                            `output`.\n",
    "\n",
    "        Returns: \n",
    "        numpy array: Returns normalized correlation y[n]=r_xh[n]/(sqrt(max(r_xx[n])*max(r_hh[n]))).\n",
    "\n",
    "        \"\"\"\n",
    "        \n",
    "        #SOLVE IN HERE\n",
    "        pass\n",
    "    \n",
    "    \n",
    "    def norm_auto_corr(self, x, algorithm='output'):\n",
    "        \"\"\" \n",
    "        Function that finds the normalized auto correlation of an input signal x.\n",
    "        Parameters: \n",
    "        x (numpy array): Array of numbers representing the input signal to be auto correlated.\n",
    "        algorithm (string): String that selects the algoritm to use for finding the convolution.\n",
    "                            Can be `fast` if `conv1d` function is used, `input` if `convolve_input_algorithm`\n",
    "                            is used, and `output` if `convolve_output_algorithm` is used. Default value is\n",
    "                            `output`.\n",
    "\n",
    "        Returns: \n",
    "        numpy array: Returns normalized auto correlation y[n]=r_xx[n]/max(r_xx[n]).\n",
    "\n",
    "        \"\"\"\n",
    "        \n",
    "        #SOLVE IN HERE\n",
    "        pass\n",
    "\n",
    "    \n",
    "    def delay(self):\n",
    "        \"\"\" \n",
    "        Function that finds the lag between a signal x[n] with respect to the filter or signal h[n].\n",
    "        Before invoking this function, self.correlation() must be invoked.\n",
    "        Parameters: \n",
    "        None\n",
    "\n",
    "        Returns: \n",
    "        numpy value: Returns negative difference between maximum correlation index and (filter lenght - 1).\n",
    "\n",
    "\n",
    "        \"\"\"\n",
    "        \n",
    "        #SOLVE IN HERE\n",
    "        pass\n",
    "        "
   ]
  },
  {
   "cell_type": "markdown",
   "metadata": {},
   "source": [
    "Now it is time to test your class. In order to do so, you will compare the correlation between $a[n]$, $b[n]$, and $c[n]$, which are given as:"
   ]
  },
  {
   "cell_type": "code",
   "execution_count": null,
   "metadata": {},
   "outputs": [],
   "source": [
    "a = np.array([[1, 2, 3, 4, 3, 2, 1]]).T\n",
    "b = np.array([[4, 8, 12, 16, 12, 8, 4]]).T\n",
    "c = np.array([[8, 8, 8, 8, 8, 8, 8]]).T"
   ]
  },
  {
   "cell_type": "markdown",
   "metadata": {},
   "source": [
    "Now call your `Correlation` class as an object named `corr`."
   ]
  },
  {
   "cell_type": "code",
   "execution_count": null,
   "metadata": {},
   "outputs": [],
   "source": [
    "#SOLVE IN HERE"
   ]
  },
  {
   "cell_type": "markdown",
   "metadata": {},
   "source": [
    "Test your `fast`, `output`, and `input` implementations for the `correlation` method:"
   ]
  },
  {
   "cell_type": "code",
   "execution_count": null,
   "metadata": {},
   "outputs": [],
   "source": [
    "#SOLVE IN HERE"
   ]
  },
  {
   "cell_type": "markdown",
   "metadata": {},
   "source": [
    "The expected result should be:"
   ]
  },
  {
   "cell_type": "code",
   "execution_count": null,
   "metadata": {},
   "outputs": [],
   "source": [
    "print(np.correlate(a.reshape(-1),b.reshape(-1), 'full'))"
   ]
  },
  {
   "cell_type": "markdown",
   "metadata": {},
   "source": [
    "Test your `fast`, `output`, and `input` implementations for the `norm_correlation` method:"
   ]
  },
  {
   "cell_type": "code",
   "execution_count": null,
   "metadata": {},
   "outputs": [],
   "source": [
    "#SOLVE IN HERE"
   ]
  },
  {
   "cell_type": "markdown",
   "metadata": {},
   "source": [
    "The expected result should be:"
   ]
  },
  {
   "cell_type": "code",
   "execution_count": null,
   "metadata": {},
   "outputs": [],
   "source": [
    "r_aa = np.correlate(a.reshape(-1),a.reshape(-1), 'full')\n",
    "r_bb = np.correlate(b.reshape(-1),b.reshape(-1), 'full')\n",
    "r_ab = np.correlate(a.reshape(-1),b.reshape(-1), 'full')\n",
    "print(r_ab/np.sqrt(r_aa.max()*r_bb.max()))"
   ]
  },
  {
   "cell_type": "markdown",
   "metadata": {},
   "source": [
    "As you can see, all three algoritms perform the same results. Which is what we expected."
   ]
  },
  {
   "cell_type": "markdown",
   "metadata": {},
   "source": [
    "In order to have an accurate test between correlation, it is better to use a normalized correlation. To do so, we will use our `norm_correlation` method.\n",
    "\n",
    "We will use the `norm_correlation` method to compare $a[n]$ with respect to $b[n]$, and $a[n]$ with respect to $c[n]$ as follows:"
   ]
  },
  {
   "cell_type": "code",
   "execution_count": null,
   "metadata": {},
   "outputs": [],
   "source": [
    "#SOLVE IN HERE"
   ]
  },
  {
   "cell_type": "code",
   "execution_count": null,
   "metadata": {},
   "outputs": [],
   "source": [
    "plt.rcParams[\"figure.figsize\"] = (13,5)\n",
    "\n",
    "plt.subplot(1,2,1)\n",
    "cplots.plot_single(norm_corr_a_b.T, 'Normalized Correlation between a[n] and b[n]')\n",
    "plt.subplot(1,2,2)\n",
    "cplots.plot_single(norm_corr_a_c.T, 'Normalized Correlation between a[n] and c[n]')\n",
    "plt.tight_layout(pad=3.0)"
   ]
  },
  {
   "cell_type": "markdown",
   "metadata": {},
   "source": [
    "As we can see, there's a slightly higher correlation between $a[n]$ and $b[n]$, than with $a[n]$ and $c[n]$, that is because $b[n]$ is just an scaled version of $a[n]$ compared to $c[n]$ which is a constant train of pulses."
   ]
  },
  {
   "cell_type": "markdown",
   "metadata": {},
   "source": [
    "Now let's see how we can use the `delay` method you've developed. For this we have the signals $x[n]$, $y[n]$, and $z[n]$:"
   ]
  },
  {
   "cell_type": "code",
   "execution_count": null,
   "metadata": {},
   "outputs": [],
   "source": [
    "x = np.array([[1, 2, 3, 4, 3, 2, 1]]).T \n",
    "y = np.array([[0, 0, 0, 1, 2, 3, 4, 3, 2, 1]]).T\n",
    "z = np.array([[1, 2, 3, 4, 3, 2, 1]]).T"
   ]
  },
  {
   "cell_type": "code",
   "execution_count": null,
   "metadata": {},
   "outputs": [],
   "source": [
    "plt.rcParams[\"figure.figsize\"] = (15,5)\n",
    "\n",
    "plt.subplot(1,3,1)\n",
    "cplots.plot_single(x.T, 'x[n]')\n",
    "plt.ylim((-1,5))\n",
    "plt.subplot(1,3,2)\n",
    "cplots.plot_single(y.T, 'y[n]')\n",
    "plt.ylim((-1,5))\n",
    "plt.subplot(1,3,3)\n",
    "cplots.plot_single(z.T, 'z[n]')\n",
    "plt.ylim((-1,5));"
   ]
  },
  {
   "cell_type": "markdown",
   "metadata": {},
   "source": [
    "From the figures you can see the following:\n",
    "1. $x[n-3]=y[n]$\n",
    "2. $x[n]=z[n]$\n",
    "3. $y[n+3]=z[n]$\n",
    "\n",
    "Using the `delay` function we can find this lag value:"
   ]
  },
  {
   "cell_type": "code",
   "execution_count": null,
   "metadata": {},
   "outputs": [],
   "source": [
    "corr.correlation(x,y)\n",
    "print('x[n-{}] = y[n]'.format(corr.delay()))"
   ]
  },
  {
   "cell_type": "code",
   "execution_count": null,
   "metadata": {},
   "outputs": [],
   "source": [
    "corr.correlation(x,z)\n",
    "print('x[n-{}] = z[n]'.format(corr.delay()))"
   ]
  },
  {
   "cell_type": "code",
   "execution_count": null,
   "metadata": {},
   "outputs": [],
   "source": [
    "corr.correlation(y,z)\n",
    "print('y[n-{}] = z[n]'.format(corr.delay()))"
   ]
  },
  {
   "cell_type": "markdown",
   "metadata": {},
   "source": [
    "As you can see, `delay` function returns a **postive value for a right shift**, and a **negative value for a left shift**."
   ]
  },
  {
   "cell_type": "markdown",
   "metadata": {},
   "source": [
    "### 2. Barker Code\n",
    "Now it is time to see some application for the correlation in a real life example. In this case, we use Barker codes. Barker codes are binary numbers using two to 13 bits and have unique auto-correlation functions. The points adjacent to the peak of the correlation function equal zero. This is very useful in a radar system since any spurious response can be misinterpreted as a target. A Barker-coded pulse typically uses binary phase modulation. By adding a Barker code between two bpsk data blocks, it is possible to detect the end and start of bpsk data blocks. In this part you will test your `Correlation` class and see how we can use the Barker code to detect the start of a bpsk data block."
   ]
  },
  {
   "cell_type": "markdown",
   "metadata": {},
   "source": [
    "First, we create an auxiliary function called `generate_bpsk_data` whose purpose is to create some dummy bpsk data."
   ]
  },
  {
   "cell_type": "code",
   "execution_count": null,
   "metadata": {},
   "outputs": [],
   "source": [
    "def generate_bpsk_data(size=100, threshold=50):\n",
    "    \"\"\" \n",
    "        Function that generates a bpsk block code of variable size were the percentage of samples being \n",
    "        equal to -1 is given by threshold, and the percentage of samples being equal to 1 is given by \n",
    "        (100 - threshold).\n",
    "        \n",
    "        Parameters: \n",
    "        size (int): Size of the bpsk random block generated.\n",
    "        threshold (int): Percentage of samples being equal to -1.\n",
    "\n",
    "        Returns: \n",
    "        numpy array: Returns bpsk block code of variable size with values between -1 or 1.\n",
    "\n",
    "        \"\"\"\n",
    "    data = (np.random.rand(size,1)*100).astype('int')\n",
    "    data[data<threshold]=-1\n",
    "    data[data>=threshold]=1\n",
    "    return data"
   ]
  },
  {
   "cell_type": "markdown",
   "metadata": {},
   "source": [
    "We use our `generate_bpsk_data` function and create a data block of [64-symbols][13-symbols][128-symbols]. The 64-symbols and 128-symbols represent data being transmitted, the 13-symbols represent the Barker code inserted."
   ]
  },
  {
   "cell_type": "code",
   "execution_count": null,
   "metadata": {},
   "outputs": [],
   "source": [
    "np.random.seed(123)\n",
    "\n",
    "#SOLVE IN HERE\n",
    "blk_1_len = None\n",
    "blk_2_len = None\n",
    "\n",
    "block_1 = generate_bpsk_data(blk_1_len, blk_1_len/2)\n",
    "block_2 = generate_bpsk_data(blk_2_len,blk_2_len/2)\n",
    "barker_code = np.array([1, 1, 1, 1, 1, -1, -1, 1, 1, -1, 1, -1, 1]).reshape(-1,1)\n",
    "\n",
    "temp = np.append(block_1, barker_code, axis=0)\n",
    "block = np.append(temp, block_2, axis=0)\n",
    "\n",
    "cplots.plot_single(block.T)"
   ]
  },
  {
   "cell_type": "markdown",
   "metadata": {},
   "source": [
    "Now let's use our `correlation` or `norm_correlation` to detect the inserted Barker code"
   ]
  },
  {
   "cell_type": "code",
   "execution_count": null,
   "metadata": {},
   "outputs": [],
   "source": [
    "barker_corr = corr.correlation(block, barker_code).argmax()\n",
    "print('Barker correlation found at {}'.format(barker_corr))\n",
    "print('{} symbols + {} Barker symbols = {}'.format(blk_1_len, \n",
    "                                                   barker_code.shape[0],blk_1_len+ barker_code.shape[0]))"
   ]
  },
  {
   "cell_type": "markdown",
   "metadata": {},
   "source": [
    "You can see that since we start at position $0$, Barker correlation correctly estimates the new bpsk data block start."
   ]
  },
  {
   "cell_type": "code",
   "execution_count": null,
   "metadata": {},
   "outputs": [],
   "source": [
    "cplots.plot_single(corr.correlation(block, barker_code).T)"
   ]
  },
  {
   "cell_type": "markdown",
   "metadata": {},
   "source": [
    "By using the `delay` function we can find the starting position too. (Remember that a left shift gives a negative value.)"
   ]
  },
  {
   "cell_type": "code",
   "execution_count": null,
   "metadata": {},
   "outputs": [],
   "source": [
    "print('Start of new bpsk block at: {}'.format(barker_code.shape[0]-corr.delay()))"
   ]
  },
  {
   "cell_type": "markdown",
   "metadata": {},
   "source": [
    "## Exercise: Create your own Correlation class\n",
    "\n",
    "Finally you will save your `Correlation` class into a file called `correlation.py` in the `Common` folder."
   ]
  },
  {
   "cell_type": "code",
   "execution_count": null,
   "metadata": {},
   "outputs": [],
   "source": []
  }
 ],
 "metadata": {
  "kernelspec": {
   "display_name": "Python 3",
   "language": "python",
   "name": "python3"
  },
  "language_info": {
   "codemirror_mode": {
    "name": "ipython",
    "version": 3
   },
   "file_extension": ".py",
   "mimetype": "text/x-python",
   "name": "python",
   "nbconvert_exporter": "python",
   "pygments_lexer": "ipython3",
   "version": "3.7.4"
  }
 },
 "nbformat": 4,
 "nbformat_minor": 2
}
