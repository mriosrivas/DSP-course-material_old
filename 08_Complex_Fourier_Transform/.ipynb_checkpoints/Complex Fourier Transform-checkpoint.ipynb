{
 "cells": [
  {
   "cell_type": "markdown",
   "metadata": {},
   "source": [
    "# Complex Fourier Transform\n",
    "\n",
    "## Complex numbers\n",
    "Although complex numbers are fundamentally disconnected from our reality, they can be used to solve  science  and  engineering  problems  in  two  ways:\n",
    "1. As parameters  from  a  real  world problem than can be substituted into a complex form.\n",
    "2. As complex numbers that can be mathematically equivalent to the physical problem.\n",
    "\n",
    "This  second approach leads to the complex Fourier Transform, a more sophisticated version of the real Fourier Transform."
   ]
  },
  {
   "cell_type": "markdown",
   "metadata": {},
   "source": [
    "## Review of Real DFT\n",
    "We  defined  the  real  version  of  the  Discrete  Fourier  Transform according to the equations:\n",
    "\n",
    "$$\\mathbf{Re}X[k] = \\sum^{N-1}_{n=0}x[n]\\cos{(2\\pi kn/N)}$$\n",
    "$$\\mathbf{Im}X[k] = -\\sum^{N-1}_{n=0}x[n]\\sin{(2\\pi kn/N)}$$ \n",
    "\n",
    "where $0\\leq k \\leq N/2$\n",
    "\n",
    "By introducing the normalization factor $2/N$, which comes from $Re\\bar{X}[k]$ and $Im\\bar{X}[k]$, we can write:\n",
    "$$\\mathbf{Re}X[k] = \\frac{2}{N}\\sum^{N-1}_{n=0}x[n]\\cos{(2\\pi kn/N)}$$\n",
    "$$\\mathbf{Im}X[k] =  -\\frac{2}{N}\\sum^{N-1}_{n=0}x[n]\\sin{(2\\pi kn/N)}$$ \n",
    "\n",
    "The amplitudes of the cosine waves are contained in $Re X[k]$, while the  amplitudes  of  the  sine  waves  are  contained in $ImX[k]$. These equations operate by correlating the respective cosine or sine wave with the time domain signal. In spite of using the names: real part and imaginary part, there are no complex numbers in these equations.\n",
    "\n",
    "Even though  the  real  DFT  uses  only  real  numbers,  substitution  allows  the frequency domain to be represented using complex numbers.  As suggested by the  names  of  the  arrays. In other words, we  place  a $j$  with  each  value  in  the  imaginary  part,  and  add  the  result  to  the real  part. However, do not make the  mistake of thinking that this is the *\"complex DFT\"*. This is nothing more than the real DFT with complex substitution.\n",
    "\n",
    "While  the  real  DFT  is  adequate  for  many  applications  in  science  and engineering, it is mathematically awkward in three respects:\n",
    "1. Only takes advantage of complex numbers through the use of substitution, therefore complex numbers doesn't have a meaning here.\n",
    "2. Poor handling of the negative frequency portion of the spectrum.\n",
    "3. $Re X[0]$ and $Re X[N/2]$ need special handling."
   ]
  },
  {
   "cell_type": "markdown",
   "metadata": {},
   "source": [
    "## Euler's Refresher\n",
    "We can use Euler's formula to express the relationship between the trigonometric functions and the complex exponential function as:\n",
    "\n",
    "$$e^{jx}=\\cos{(x)}+j\\sin{(x)}$$\n",
    "\n",
    "Using this formula, we can express sine and cosines as follows:\n",
    "\n",
    "$$e^{-jx}=\\cos{(-x)}+j\\sin{(-x)}$$\n",
    "\n",
    "Since cosine is an even and sine an odd function we can get:\n",
    "$$e^{-jx}=\\cos{(x)}-j\\sin{(x)}$$\n",
    "\n",
    "If we add $e^{jx}$ and $e^{-jx}$ we can get an expression for cosine as:\n",
    "$$\\cos(x) = \\frac{e^{jx}+e^{-jx}}{2}$$\n",
    "\n",
    "If we subtract $e^{jx}$ and $e^{-jx}$ we can get an expression for sine as:\n",
    "$$\\sin(x) = \\frac{e^{jx}-e^{-jx}}{2j}$$\n",
    "\n",
    "Rewriting for $x=\\omega t$\n",
    "$$\\cos(\\omega t) =\\frac{1}{2} e^{j\\omega t}+\\frac{1}{2} e^{-j\\omega t}$$\n",
    "$$\\sin(\\omega t) =\\frac{1}{2j}e^{j\\omega t}-\\frac{1}{2j}e^{-j\\omega t}$$\n",
    "\n",
    "With Euler's formula we see that the sum of exponential contains a positive frequency $\\omega$ and a negative frequency $-\\omega$. "
   ]
  },
  {
   "cell_type": "markdown",
   "metadata": {},
   "source": [
    "# Complex DFT\n",
    "\n",
    "The Complex Discrete Fourier Transform is defined as:\n",
    "\n",
    "$$X[k] = \\frac{1}{N}\\sum\\limits^{N-1}_{n=0}{x[n]e^{-j\\frac{2\\pi k n}{N}}} $$\n",
    "\n",
    "Where $X[k]$ has $N-1$ points.\n",
    "\n",
    "By using Euler's formula we can get a rectangular form for the Complex DFT:\n",
    "\n",
    "$$X[k] = \\frac{1}{N}\\sum\\limits^{N-1}_{n=0}{x[n]\\left[\\cos{\\left(\\frac{2\\pi k n}{N}\\right)} -j\\sin{\\left(\\frac{2\\pi k n}{N}\\right)} \\right]} $$"
   ]
  },
  {
   "cell_type": "markdown",
   "metadata": {},
   "source": [
    "### Differences between Real DFT and Complex DFT\n",
    "1. Real DFT converts a real time domain signal, $x[n]$ into two real frequency domain signals $Re X[k]$ and $Im X[k]$. In Complex DFT, $x[n]$ and $X[k]$ are arrays of complex numbers.\n",
    "2. Real DFT uses only positive frequencies (k goes from 0 to N/2). Complex DFT uses positive and negative frequencies (k goes from 0 to N-1, positive frequencies go from 0 to N/2 and negative from N/2 to N-1).\n",
    "3. Real DFT adds $j$ to the sine wave allowing the frequency spectrum to be represented by complex numbers. To convert back to sine and cosine waves we drop the $j$ and sum terms. This is mathematically incorrect!\n",
    "4. Scaling factors of two is not needed in Complex DFT, since this is dealt by the positive and negative frequency nature of the transformation.\n",
    "5. Complex DFT doesn't require special handling of $Re X[0]$ and $Re X[N/2]$."
   ]
  },
  {
   "cell_type": "code",
   "execution_count": null,
   "metadata": {},
   "outputs": [],
   "source": [
    "import sys\n",
    "sys.path.insert(0, '../')\n",
    "\n",
    "import numpy as np\n",
    "import matplotlib.pyplot as plt\n",
    "from Common import common_plots\n",
    "from Common import statistics\n",
    "cplots = common_plots.Plot()"
   ]
  },
  {
   "cell_type": "code",
   "execution_count": null,
   "metadata": {},
   "outputs": [],
   "source": [
    "file = {'x':'Signals/InputSignal_f32_1kHz_15kHz.dat'}\n",
    "\n",
    "x = np.loadtxt(file['x'])\n",
    "N,M = x.shape\n",
    "x = x.reshape(N*M, 1)\n",
    "\n",
    "cplots.plot_single(x.T, style='line')\n",
    "plt.xlabel('samples')\n",
    "plt.ylabel('amplitude');"
   ]
  },
  {
   "cell_type": "markdown",
   "metadata": {},
   "source": [
    "### Create a FourierComplex Class\n",
    "In this part you will create a class called `FourierComplex` which has the methods described in the implementation. The method `complex_dft` uses the equation described before to implement the Complex Fourier Transform. You have to take special care of your numpy arrays because they will hold complex values."
   ]
  },
  {
   "cell_type": "code",
   "execution_count": null,
   "metadata": {},
   "outputs": [],
   "source": [
    "class FourierComplex():\n",
    "    def __init__(self, signal, domain='fraction', **kwargs):\n",
    "        \"\"\"\n",
    "        Function that calculates the Complex DFT of an input signal.\n",
    "        Parameters:\n",
    "        signal (numpy array): Array of numbers representing the signal to transform.\n",
    "        domain (string): String value that selects between frequency domain's \n",
    "            independent variable.\n",
    "            'samples' returns number of samples between 0 to N/2\n",
    "            'fraction' returns a fraction of the sampling rate between 0 to 0.5\n",
    "            'natural' returns the natural frequency between 0 and pi.\n",
    "            'analog' returns analog frequency between 0 and fsamp/2 \n",
    "        kwargs:  - fsamp (float): value representing the sampling frequency. \n",
    "            (Only used for 'analog' style).\n",
    "        \n",
    "        Attributes: \n",
    "        signal (numpy array): orignal signal.\n",
    "        dft (complex numpy array): complex Fourier Transform of input signal.\n",
    "        rex (numpy array): real DFT part of input signal.\n",
    "        imx (numpy array): imaginary DFT part of input signal.\n",
    "        domain (numpy array): Frequency domain's independent variable.        \n",
    "        \"\"\"\n",
    "        self.signal = None\n",
    "        self.dft = None\n",
    "        self.rex = None\n",
    "        self.imx = None\n",
    "        self.domain = None\n",
    "        return\n",
    "    \n",
    "    \n",
    "    def complex_dft(self):\n",
    "        \"\"\"\n",
    "        Function that calculates the Complex DFT of an input signal.\n",
    "        \n",
    "        Returns: \n",
    "        complex numpy array: complex DFT of input signal of type imaginary.\n",
    "        \"\"\"\n",
    "        \n",
    "        return None\n",
    "  \n",
    "\n",
    "    def real_dft(self):\n",
    "        \"\"\"\n",
    "        Function that calculates the real part of the Complex DFT of \n",
    "        an input signal.\n",
    "        \n",
    "        Returns: \n",
    "        numpy array: real part of the Complex DFT of input signal.\n",
    "        \"\"\"\n",
    "        return None\n",
    "  \n",
    "\n",
    "    def imag_dft(self):\n",
    "        \"\"\"\n",
    "        Function that calculates the imaginary part of the Complex DFT of \n",
    "        an input signal.\n",
    "        \n",
    "        Returns: \n",
    "        numpy array: imaginary part of the Complex DFT of input signal.\n",
    "        \"\"\"\n",
    "        return None\n",
    "    \n",
    "    \n",
    "    def frequency_domain(self, style='fraction', **kwargs):\n",
    "        \"\"\" \n",
    "        Function that calculates the frequency domain independent variable.\n",
    "\n",
    "        Parameters: \n",
    "        obtain the frequency domain.\n",
    "        style (string): String value that selects between frequency domain's \n",
    "        independent variable.\n",
    "            'samples' returns number of samples between 0 to N/2\n",
    "            'fraction' returns a fraction of the sampling rate between 0 to 0.5\n",
    "            'natural' returns the natural frequency between 0 and pi.\n",
    "            'analog' returns analog frequency between 0 and fsamp/2\n",
    "        fsamp (float): Float value representing the sampling frequency. \n",
    "            (Only used for 'analog' style).\n",
    "\n",
    "        Returns: \n",
    "        numpy array: Returns frequency domain's independent variable.\n",
    "\n",
    "            \"\"\"\n",
    "        N = self.dft.shape[0]\n",
    "        t = np.arange(N)\n",
    "\n",
    "        if(style=='fraction'):\n",
    "            return t/(N-1)\n",
    "        elif(style=='natural'):\n",
    "            return np.pi*(t/(N-1))\n",
    "        elif(style=='analog'):\n",
    "            return kwargs['fsamp']*t/(N-1)\n",
    "        elif(style=='samples'):\n",
    "            return t\n",
    "        else:\n",
    "            return t"
   ]
  },
  {
   "cell_type": "markdown",
   "metadata": {},
   "source": [
    "### Test your FourierComplex Class\n",
    "You can test your implementation and compare it with SciPy, if there is any mismatch try to correct your code."
   ]
  },
  {
   "cell_type": "code",
   "execution_count": null,
   "metadata": {},
   "outputs": [],
   "source": [
    "from scipy.fftpack import fft\n",
    "#SciPy Calculations\n",
    "y =fft(x.flatten())\n",
    "N = y.shape[0]\n",
    "rey = (np.real(y)).reshape(-1,1)/N\n",
    "imy = (np.imag(y)).reshape(-1,1)/N\n",
    "\n",
    "#Our Calculation\n",
    "X = FourierComplex(x, domain='fraction')\n",
    "\n",
    "plt.suptitle(\"Comparison between Scipy and Our Implementation\", fontsize=14)\n",
    "\n",
    "plt.subplot(1,2,1)\n",
    "plt.plot(X.domain, X.rex, label='Our Implementation')\n",
    "plt.plot(X.domain, rey, label='SciPy Implementation')\n",
    "plt.xlabel('Fraction Domain')\n",
    "plt.ylabel('Amplitude')\n",
    "plt.legend()\n",
    "plt.grid('on');\n",
    "\n",
    "plt.subplot(1,2,2)\n",
    "plt.plot(X.domain, X.imx, label='Our Implementation')\n",
    "plt.plot(X.domain, imy, label='SciPy Implementation')\n",
    "plt.xlabel('Fraction Domain')\n",
    "plt.ylabel('Amplitude')\n",
    "plt.legend()\n",
    "plt.grid('on');"
   ]
  },
  {
   "cell_type": "markdown",
   "metadata": {},
   "source": [
    "## Complex IDFT\n",
    "\n",
    "The Complex Inverse Discrete Fourier Transform is defined as:\n",
    "\n",
    "$$x[n] = \\sum\\limits^{N-1}_{k=0}{X[k]e^{j\\frac{2\\pi k n}{N}}} $$\n",
    "\n",
    "Where $x[n]$ has $N-1$ points.\n",
    "\n",
    "By using Euler's formula we can get a rectangular form for the Complex IDFT:\n",
    "\n",
    "$$x[n] = \\sum\\limits^{N-1}_{k=0}{\\left(Re X[k]+j ImX[k] \\right)e^{j\\frac{2\\pi k n}{N}}} $$\n",
    "$$ = \\sum\\limits^{N-1}_{k=0}{Re X[k] e^{j\\frac{2\\pi k n}{N}}} + \\sum\\limits^{N-1}_{k=0}{j Im X[k] e^{j\\frac{2\\pi k n}{N}}} $$\n",
    "\n",
    "with:\n",
    "$$e^{j\\frac{2\\pi k n}{N}} = \\left[\\cos{\\left(\\frac{2\\pi k n}{N}\\right)} +j\\sin{\\left(\\frac{2\\pi k n}{N}\\right)} \\right]$$\n",
    "\n",
    "therefore:\n",
    "$$x[n] = \\sum\\limits^{N-1}_{k=0}{Re X[k] \\left[\\cos{\\left(\\frac{2\\pi k n}{N}\\right)} +j\\sin{\\left(\\frac{2\\pi k n}{N}\\right)} \\right]} + \\sum\\limits^{N-1}_{k=0}{Im X[k] \\left[-\\sin{\\left(\\frac{2\\pi k n}{N}\\right)} +j\\cos{\\left(\\frac{2\\pi k n}{N}\\right)} \\right]} $$"
   ]
  },
  {
   "cell_type": "markdown",
   "metadata": {},
   "source": [
    "In words, each value in the real part of the frequency domain contributes a real cosine wave and an imaginary sine wave to the time domain.  Likewise, each value  in  the  imaginary  part  of  the  frequency  domain  contributes  a  real  sine wave and an imaginary cosine wave.  The time domain is found by adding all these real and imaginary sinusoids.  The important concept is that each value in  the  frequency  domain  produces  both  a  real  sinusoid  and  an  imaginary sinusoid in the time domain."
   ]
  },
  {
   "cell_type": "markdown",
   "metadata": {},
   "source": [
    "### Create a ComplexFourierTransform Class\n",
    "Now you will implement a class called `ComplexFourierTransform` which extends your previous class `FourierComplex` and inherits all of its attributes. You can search about the `super` function for this. "
   ]
  },
  {
   "cell_type": "code",
   "execution_count": null,
   "metadata": {},
   "outputs": [],
   "source": [
    "class ComplexFourierTransform():\n",
    "    def __init__(self, signal, domain='fraction', **kwargs):\n",
    "        \"\"\"\n",
    "        Function that calculates the Complex DFT and IDFT of an input signal.\n",
    "        Parameters:\n",
    "        Same parameters as FourierComplex class.\n",
    "        \n",
    "        Attributes:\n",
    "        Ihnerits same attributes as FourierComplex class.\n",
    "        idft (complex numpy array): complex IDFT of the signal\n",
    "        \"\"\"\n",
    "        self.idft = None\n",
    "        return\n",
    "        \n",
    "        \n",
    "    def complex_idft(self):\n",
    "        \"\"\"\n",
    "        Function that calculates the Complex IDFT of an input signal.\n",
    "        \n",
    "        Returns: \n",
    "        complex numpy array: complex IDFT of input signal of type imaginary.\n",
    "        \"\"\"\n",
    "        return None"
   ]
  },
  {
   "cell_type": "markdown",
   "metadata": {},
   "source": [
    "### Test your ComplexFourierTransform Class\n",
    "You can test your implementation and compare it with the original signal, if there is any mismatch try to correct your code. Try to understand both the real and imaginary signals that the Complex IDFT generates."
   ]
  },
  {
   "cell_type": "code",
   "execution_count": null,
   "metadata": {},
   "outputs": [],
   "source": [
    "#Our Calculation\n",
    "X = ComplexFourierTransform(x, domain='fraction')\n",
    "\n",
    "plt.suptitle(\"Complex IDFT\", fontsize=14)\n",
    "\n",
    "plt.subplot(2,1,1)\n",
    "plt.plot(x, label='Original Signal')\n",
    "plt.plot(np.real(X.idft), label='Complex IDT -Real Part')\n",
    "plt.xlabel('Sample')\n",
    "plt.ylabel('Amplitude')\n",
    "plt.legend()\n",
    "plt.grid('on');\n",
    "\n",
    "plt.subplot(2,1,2)\n",
    "plt.plot(np.imag(X.idft), label='Complex IDT -Imaginary Part')\n",
    "plt.xlabel('Sample')\n",
    "plt.ylabel('Amplitude')\n",
    "plt.legend()\n",
    "plt.grid('on');"
   ]
  },
  {
   "cell_type": "markdown",
   "metadata": {},
   "source": [
    "Find the mean and variance of the real and imaginary IDFT signal using the `Statistics` class developed before."
   ]
  },
  {
   "cell_type": "code",
   "execution_count": null,
   "metadata": {},
   "outputs": [],
   "source": [
    "stat = None\n",
    "\n",
    "print('Mean of the real IDFT signal = {:.3f}'.format(stat.mean(np.real(X.idft))))\n",
    "print('Mean of the imaginary IDFT signal = {:.3f}'.format(stat.mean(np.imag(X.idft))))\n",
    "\n",
    "print('\\nVariance of the real IDFT signal = {:.3f}'.format(stat.variance(np.real(X.idft))))\n",
    "print('Variance of the imaginary IDFT signal = {:.3f}'.format(stat.variance(np.imag(X.idft))))"
   ]
  },
  {
   "cell_type": "markdown",
   "metadata": {},
   "source": [
    "You can see that our signal can be though as \"pure\" real signal."
   ]
  },
  {
   "cell_type": "markdown",
   "metadata": {},
   "source": [
    "As a final exercise, save your `ComplexFourierTransform` class in the `Common` folder as `complex_fourier_transform.py`"
   ]
  }
 ],
 "metadata": {
  "kernelspec": {
   "display_name": "Python 3",
   "language": "python",
   "name": "python3"
  },
  "language_info": {
   "codemirror_mode": {
    "name": "ipython",
    "version": 3
   },
   "file_extension": ".py",
   "mimetype": "text/x-python",
   "name": "python",
   "nbconvert_exporter": "python",
   "pygments_lexer": "ipython3",
   "version": "3.8.3"
  }
 },
 "nbformat": 4,
 "nbformat_minor": 2
}
