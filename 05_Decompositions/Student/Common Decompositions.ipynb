{
 "cells": [
  {
   "cell_type": "markdown",
   "metadata": {},
   "source": [
    "# Common Decompositions\n",
    "The goal of this method is to replace a complicated problem with several easy ones. If the decomposition doesn't simplify the situation in some way, then nothing has been gained. Int this notebook four types of decompositions are presented:\n",
    "\n",
    "1. Impulse Decomposition\n",
    "2. Step Decomposition\n",
    "3. Even/Odd Decomposition\n",
    "4. Interlaced Decomposition"
   ]
  },
  {
   "cell_type": "code",
   "execution_count": null,
   "metadata": {},
   "outputs": [],
   "source": [
    "import sys\n",
    "sys.path.insert(0, '../../')\n",
    "\n",
    "import numpy as np\n",
    "import matplotlib.pyplot as plt\n",
    "\n",
    "from Common import common_plots\n",
    "cplots = common_plots.Plot()"
   ]
  },
  {
   "cell_type": "code",
   "execution_count": null,
   "metadata": {},
   "outputs": [],
   "source": [
    "x = np.array([[4,2,-3,6,1,7,-4, 3]])\n",
    "#x = np.random.rand(1,15)\n",
    "cplots.plot_single(x)"
   ]
  },
  {
   "cell_type": "markdown",
   "metadata": {},
   "source": [
    "## 1. Impulse Decomposition\n",
    "Impulse decomposition breaks an $N$ samples signal into $N$ component signals, each containing $N$ samples. Each of the component signals contains one point from the original signal, with the remainder of the values being zero. A single nonzero point in a string of zeros is called an impulse. Impulse decomposition is important because it **allows signals to be examined one sample at a time**. Similarly, systems are characterized by how they respond to impulses. By knowing how a system responds to an impulse, the system's output can be calculated for any given input. "
   ]
  },
  {
   "cell_type": "code",
   "execution_count": null,
   "metadata": {},
   "outputs": [],
   "source": [
    "N = x.shape[1]\n",
    "x_impulse = np.zeros((N,N))"
   ]
  },
  {
   "cell_type": "code",
   "execution_count": null,
   "metadata": {},
   "outputs": [],
   "source": [
    "for i in range(N):\n",
    "    x_impulse[i][i]=x[0][i]\n",
    "    \n",
    "print(x_impulse)"
   ]
  },
  {
   "cell_type": "code",
   "execution_count": null,
   "metadata": {},
   "outputs": [],
   "source": [
    "cplots.plot_multiple(x_impulse)"
   ]
  },
  {
   "cell_type": "markdown",
   "metadata": {},
   "source": [
    "## 2. Step Decomposition\n",
    "Step decomposition also breaks an $N$ sample signal into $N$ component signals, each composed of $N$ samples. Each component signal is a step, that is, the first samples have a value of zero, while the last samples are some constant value. Consider the decomposition of an $N$ point signal, $x[n]$, into the components: $x_0[n], x_1[n], x_2[n], \\dots, x_{N-1}[n]$. The $k^{th}$ component signal, $x_k[n]$, is composed of zeros for points $0$ through $k - 1$, while the remaining points have a value of: $x[k] - x[k-1]$. "
   ]
  },
  {
   "cell_type": "code",
   "execution_count": null,
   "metadata": {},
   "outputs": [],
   "source": [
    "x_step = np.zeros((N,N))"
   ]
  },
  {
   "cell_type": "code",
   "execution_count": null,
   "metadata": {},
   "outputs": [],
   "source": [
    "x_step[0][:] = x[0][0]\n",
    "for i in range(1,N):\n",
    "    x_step[i][i:] = x[0][i]-x[0][i-1]"
   ]
  },
  {
   "cell_type": "code",
   "execution_count": null,
   "metadata": {},
   "outputs": [],
   "source": [
    "print(x_step)"
   ]
  },
  {
   "cell_type": "code",
   "execution_count": null,
   "metadata": {},
   "outputs": [],
   "source": [
    "cplots.plot_multiple(x_step)"
   ]
  },
  {
   "cell_type": "markdown",
   "metadata": {},
   "source": [
    "## 3. Even/Odd Decomposition\n",
    "The even/odd decomposition breaks a signal into two component signals, one having **even symmetry** and the other having **odd symmetry**. An N point signal is said to have even symmetry if it is a mirror image around point $N/2$. Odd symmetry occurs when the matching points have equal magnitudes but are opposite in sign.\n",
    "\n",
    "The following definitions assume that the signal is composed of an **even number of samples**, and that the indexes run from $0$ to $N-1$. The decomposition is calculated form the relations:\n",
    "\n",
    "$$x_E[n]=\\frac{x[n]+x[N-n]}{2}$$\n",
    "\n",
    "$$x_O[n]=\\frac{x[n]-x[N-n]}{2}$$"
   ]
  },
  {
   "cell_type": "code",
   "execution_count": null,
   "metadata": {},
   "outputs": [],
   "source": [
    "def circular_flip(x):\n",
    "    \"\"\" \n",
    "    Function that flips an array x in a circular form.\n",
    "  \n",
    "    Parameters: \n",
    "    x (numpy array): Array of numbers representing the input signal to be transformed.\n",
    "  \n",
    "    Returns: \n",
    "    numpy array: Returns flipped values of an input x in the form [x[0], x[N-1], x[N-2] ... x[1]]\n",
    "    \"\"\"\n",
    "    return np.insert(np.flip(x[0][1:]).reshape(-1),0,x[0][0])"
   ]
  },
  {
   "cell_type": "code",
   "execution_count": null,
   "metadata": {},
   "outputs": [],
   "source": [
    "x = np.array([[0,1,2,3,4,5]])\n",
    "\n",
    "x_N = circular_flip(x)\n",
    "\n",
    "x_E = (x + x_N)/2.0\n",
    "x_O = (x - x_N)/2.0"
   ]
  },
  {
   "cell_type": "code",
   "execution_count": null,
   "metadata": {},
   "outputs": [],
   "source": [
    "plt.rcParams[\"figure.figsize\"] = (15,5)\n",
    "\n",
    "plt.subplot(1,3,1)\n",
    "cplots.plot_single(x_E, \"Even Decomposition of x\")\n",
    "\n",
    "plt.subplot(1,3,2)\n",
    "cplots.plot_single(x_O, \"Odd Decomposition of x\")\n",
    "\n",
    "plt.subplot(1,3,3)\n",
    "cplots.plot_single(x_E + x_O, \"Signal x\")\n"
   ]
  },
  {
   "cell_type": "markdown",
   "metadata": {},
   "source": [
    "For an **odd number of samples**, and that the indexes run from $0$ to $𝑁−1$. The decomposition is calculated as follows:"
   ]
  },
  {
   "cell_type": "code",
   "execution_count": null,
   "metadata": {},
   "outputs": [],
   "source": [
    "x = np.array([[0,1,2,3,4,5,6]])\n",
    "x_N = np.flip(x) #Note that there is no circular flip\n",
    "\n",
    "x_E = (x + x_N)/2.0\n",
    "x_O = (x - x_N)/2.0"
   ]
  },
  {
   "cell_type": "code",
   "execution_count": null,
   "metadata": {},
   "outputs": [],
   "source": [
    "plt.rcParams[\"figure.figsize\"] = (15,5)\n",
    "\n",
    "plt.subplot(1,3,1)\n",
    "cplots.plot_single(x_E, \"Even Decomposition of x\")\n",
    "plt.ylim((-1,4))\n",
    "\n",
    "plt.subplot(1,3,2)\n",
    "cplots.plot_single(x_O, \"Odd Decomposition of x\")\n",
    "\n",
    "plt.subplot(1,3,3)\n",
    "cplots.plot_single(x_E + x_O, \"Signal x\")"
   ]
  },
  {
   "cell_type": "markdown",
   "metadata": {},
   "source": [
    "## 4. Interlaced Decomposition\n",
    "The interlaced decomposition breaks the signal into two component signals, the even sample signal and the odd sample signal (not to be confused with even and odd symmetry signals). To find the even sample signal, start with the original signal and set all of the odd numbered samples to zero. To find the odd sample signal, start with the original signal and set all of the even numbered samples to zero.\n",
    "\n",
    "At first glance, this decomposition might seem trivial and uninteresting. This is ironic, because the interlaced decomposition is the basis for an extremely important algorithm in DSP, the Fast Fourier Transform (FFT). The procedure for calculating the Fourier decomposition has been know for several hundred years. Unfortunately, it is frustratingly slow, often requiring minutes or hours to execute on present day computers. The FFT is a family of algorithms developed in the 1960s to reduce this computation time. The strategy is an exquisite example of DSP: **reduce the signal to elementary components by repeated use of the interlace transform**; **calculate the Fourier decomposition of the individual components**; **synthesized the results into the final answer**. The results are dramatic; it is common for the speed to be improved by a factor of hundreds or thousands."
   ]
  },
  {
   "cell_type": "code",
   "execution_count": null,
   "metadata": {},
   "outputs": [],
   "source": [
    "x_E = np.zeros(x.shape)\n",
    "x_O = np.zeros(x.shape)\n",
    "\n",
    "x_E[0][::2]=x[0][::2]\n",
    "x_O[0][1::2]=x[0][1::2]"
   ]
  },
  {
   "cell_type": "code",
   "execution_count": null,
   "metadata": {},
   "outputs": [],
   "source": [
    "plt.rcParams[\"figure.figsize\"] = (15,5)\n",
    "\n",
    "plt.subplot(1,3,1)\n",
    "cplots.plot_single(x_E, \"Even Decomposition of x\")\n",
    "\n",
    "plt.subplot(1,3,2)\n",
    "cplots.plot_single(x_O, \"Odd Decomposition of x\")\n",
    "\n",
    "plt.subplot(1,3,3)\n",
    "cplots.plot_single(x_E + x_O, \"Signal x\")"
   ]
  },
  {
   "cell_type": "markdown",
   "metadata": {},
   "source": [
    "## Exercise for Common Decompositions\n",
    "For a given input signal x calculate the:\n",
    "1. Impulse Decomposition\n",
    "2. Step Decomposition\n",
    "3. Even/Odd Decomposition\n",
    "4. Interlaced Decomposition\n",
    "\n",
    "by calling the functions `impulse`, `step`, `even_odd` and `interlaced`"
   ]
  },
  {
   "cell_type": "code",
   "execution_count": null,
   "metadata": {},
   "outputs": [],
   "source": [
    "def impulse(x):\n",
    "    \"\"\" \n",
    "    Function that calculates the impulse decomposition of a signal x.\n",
    "  \n",
    "    Parameters: \n",
    "    x (numpy array): Array of numbers representing the input signal to be decomposed.\n",
    "  \n",
    "    Returns: \n",
    "    numpy array: Returns a matrix of size x.shape[1] by x.shape[1] where each row represents \n",
    "    the impulse decomposition of the n-th sample.\n",
    "    \"\"\"\n",
    "    impulse_decomposition = None\n",
    "    return impulse_decomposition\n",
    "\n",
    "\n",
    "def step(x):\n",
    "    \"\"\" \n",
    "    Function that calculates the step decomposition of a signal x.\n",
    "  \n",
    "    Parameters: \n",
    "    x (numpy array): Array of numbers representing the input signal to be decomposed.\n",
    "  \n",
    "    Returns: \n",
    "    numpy array: Returns a matrix of size x.shape[1] by x.shape[1] where each row represents \n",
    "    the step decomposition of the n-th sample.\n",
    "    \"\"\"\n",
    "    step_decomposition = None\n",
    "    return step_decomposition\n",
    "\n",
    "\n",
    "def even_odd(x):\n",
    "    \"\"\" \n",
    "    Function that calculates the even/odd decomposition of a signal x.\n",
    "  \n",
    "    Parameters: \n",
    "    x (numpy array): Array of numbers representing the input signal to be decomposed.\n",
    "  \n",
    "    Returns: \n",
    "    x_E (numpy array): Array representing the even decomposition of signal x \n",
    "    x_O (numpy array): Array representing the odd decomposition of signal x \n",
    "    \"\"\"\n",
    "    x_E = None\n",
    "    x_O = None\n",
    "    return x_E, x_O\n",
    "\n",
    "\n",
    "def interlaced(x):\n",
    "    \"\"\" \n",
    "    Function that calculates the interlaced decomposition of a signal x.\n",
    "  \n",
    "    Parameters: \n",
    "    x (numpy array): Array of numbers representing the input signal to be decomposed.\n",
    "  \n",
    "    Returns: \n",
    "    x_E (numpy array): Array representing the even-interlaced decomposition of signal x \n",
    "    x_O (numpy array): Array representing the odd-interlaced decomposition of signal x \n",
    "    \"\"\"\n",
    "    x_E = None\n",
    "    x_O = None\n",
    "    return x_E, x_O\n",
    "\n",
    "    "
   ]
  },
  {
   "cell_type": "markdown",
   "metadata": {},
   "source": [
    "## Test Cases"
   ]
  },
  {
   "cell_type": "code",
   "execution_count": null,
   "metadata": {},
   "outputs": [],
   "source": [
    "import pickle\n",
    "\n",
    "# open a file, where you stored the pickled data\n",
    "file = open('solution_common_decompositions.pkl', 'rb')\n",
    "\n",
    "# dump information to that file\n",
    "solution = pickle.load(file)\n",
    "\n",
    "# close the file\n",
    "file.close()"
   ]
  },
  {
   "cell_type": "code",
   "execution_count": null,
   "metadata": {},
   "outputs": [],
   "source": [
    "np.random.seed(1)\n",
    "x1 = np.random.rand(1,200)\n",
    "\n",
    "x_impulse = impulse(x1)\n",
    "assert(np.array_equal(x_impulse, solution['X1']['x_impulse'])), 'error in impulse function'\n",
    "\n",
    "x_step = step(x1)\n",
    "assert(np.array_equal(x_step, solution['X1']['x_step'])), 'error in step function'\n",
    "\n",
    "x_E, x_O = even_odd(x1)\n",
    "assert(np.array_equal(x_E, solution['X1']['x_E'])), 'error in even/odd decomposition function'\n",
    "assert(np.array_equal(x_O, solution['X1']['x_O'])), 'error in even/odd decomposition function'\n",
    "\n",
    "x_iE, x_iO = interlaced(x1)\n",
    "assert(np.array_equal(x_iE, solution['X1']['x_iE'])), 'error in interlaced decomposition function'\n",
    "assert(np.array_equal(x_iO, solution['X1']['x_iO'])), 'error in interlaced decomposition function'\n"
   ]
  },
  {
   "cell_type": "code",
   "execution_count": null,
   "metadata": {},
   "outputs": [],
   "source": [
    "np.random.seed(1)\n",
    "x2 = np.random.rand(1,201)\n",
    "\n",
    "x_impulse = impulse(x2)\n",
    "assert(np.array_equal(x_impulse, solution['X2']['x_impulse'])), 'error in impulse function'\n",
    "\n",
    "x_step = step(x2)\n",
    "assert(np.array_equal(x_step, solution['X2']['x_step'])), 'error in step function'\n",
    "\n",
    "x_E, x_O = even_odd(x2)\n",
    "assert(np.array_equal(x_E, solution['X2']['x_E'])), 'error in even/odd decomposition function'\n",
    "assert(np.array_equal(x_O, solution['X2']['x_O'])), 'error in even/odd decomposition function'\n",
    "\n",
    "x_iE, x_iO = interlaced(x2)\n",
    "assert(np.array_equal(x_iE, solution['X2']['x_iE'])), 'error in interlaced decomposition function'\n",
    "assert(np.array_equal(x_iO, solution['X2']['x_iO'])), 'error in interlaced decomposition function'"
   ]
  },
  {
   "cell_type": "code",
   "execution_count": null,
   "metadata": {},
   "outputs": [],
   "source": []
  }
 ],
 "metadata": {
  "kernelspec": {
   "display_name": "Python 3",
   "language": "python",
   "name": "python3"
  },
  "language_info": {
   "codemirror_mode": {
    "name": "ipython",
    "version": 3
   },
   "file_extension": ".py",
   "mimetype": "text/x-python",
   "name": "python",
   "nbconvert_exporter": "python",
   "pygments_lexer": "ipython3",
   "version": "3.8.3"
  }
 },
 "nbformat": 4,
 "nbformat_minor": 2
}
